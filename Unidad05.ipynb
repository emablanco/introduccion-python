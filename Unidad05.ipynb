{
 "metadata": {
  "name": "",
  "signature": "sha256:b3ad1dfb5a236053efa3aee97f1f054de4e0b219f341f0bc18dd805904e77f27"
 },
 "nbformat": 3,
 "nbformat_minor": 0,
 "worksheets": [
  {
   "cells": [
    {
     "cell_type": "markdown",
     "metadata": {},
     "source": [
      "# Clases y objetos\n"
     ]
    }
   ],
   "metadata": {}
  }
 ]
}