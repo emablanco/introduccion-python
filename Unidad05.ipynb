{
 "cells": [
  {
   "cell_type": "markdown",
   "metadata": {},
   "source": [
    "<h1 id=\"tocheading\">Tabla de Contenidos</h1>\n",
    "<div id=\"toc\"></div>"
   ]
  },
  {
   "cell_type": "code",
   "execution_count": 2,
   "metadata": {
    "collapsed": false
   },
   "outputs": [
    {
     "data": {
      "application/javascript": [
       "$.getScript('https://kmahelona.github.io/ipython_notebook_goodies/ipython_notebook_toc.js')"
      ],
      "text/plain": [
       "<IPython.core.display.Javascript object>"
      ]
     },
     "metadata": {},
     "output_type": "display_data"
    }
   ],
   "source": [
    "%%javascript\n",
    "$.getScript('https://kmahelona.github.io/ipython_notebook_goodies/ipython_notebook_toc.js')"
   ]
  },
  {
   "cell_type": "markdown",
   "metadata": {},
   "source": [
    "# Programación Orientada a Objetos\n",
    "\n",
    "Python es un lenguaje de Programación Orientado a Objetos, lo que significa que puede manipular construcciones llamadas objetos. Se puede pensar en un objeto como una única estructura que contiene tanto datos como funciones, solo que las funciones en este contexto son llamadas *métodos*. En definitiva, los objetos son una manera de organizar datos y de relacionarlos con el código apropiado para manejarlo.\n",
    "\n",
    "La Programación Orientada a Objetos introduce terminología, y una gran parte es simplemente darle un nuevo nombre a cosas que ya estuvimos usando.\n",
    "\n",
    "Si bien Python nos provee con un gran número de tipos ya definidos (int, float, str, dict, list, etc.), en muchas situaciones utilizar solamente los tipos provistos por el lenguaje resultará insuficiente. En estas situaciones queremos poder crear nuestros propios tipos, que almacenen la información relevante para el problema a resolver y contengan las funciones para operar con esa información.\n",
    "\n",
    "Supongamos un programa que gestiona jugadores de fútbol de un club, independientemente de los detalles de implementación, contar con un tipo de dato *jugador* que permita cargar los datos personales y profesionales nos brinda la posibilidad de tener un código mas legible y organizado. Por ejemplo, para cargar los datos de un nuevo jugador el código podría ser del siguiente modo:\n",
    "\n",
    "```python\n",
    "jugador1 = Jugador('Lucas Alario', '8-10-1992', 'Delantero')\n",
    "jugador1.AgregarClub('Colon')\n",
    "jugador1.AgregarClub('River')\n",
    "print(jugador1.ClubActual())\n",
    "```\n",
    "Del ejemplo previo destacamos:\n",
    "\n",
    "- `jugador1` es de tipo `Jugador`, una estructura que contiene un conjunto de datos (nombre, fecha de nacimiento y posición) denominados atributos (o propiedades).\n",
    "- El tipo de dato `Jugador` tiene dos métodos (función asociada el objeto):\n",
    "\n",
    "    - `AgregarClub()`: agrega un club donde jugó\n",
    "    - `ClubActual()`: retorna el último club\n",
    "\n",
    "Ahora bien, veamos el modo de declarar este nuevo tipo `Jugador` con sus atributos y métodos:"
   ]
  },
  {
   "cell_type": "code",
   "execution_count": 28,
   "metadata": {
    "collapsed": false
   },
   "outputs": [
    {
     "name": "stdout",
     "output_type": "stream",
     "text": [
      "Club Actual:  River\n"
     ]
    }
   ],
   "source": [
    "class Jugador(object):\n",
    "    \"\"\"s\"\"\"\n",
    "    def __init__(self, nombre, fechaNac, posicion):\n",
    "        self.nombre = nombre\n",
    "        self.fechaNac = fechaNac\n",
    "        self.posicion = posicion\n",
    "        self.clubes = []\n",
    "        \n",
    "    def AgregarClub(self, club):\n",
    "        '''agrega club a la lista de clubes'''\n",
    "        self.clubes.append(club)\n",
    "    \n",
    "    def ClubActual(self):\n",
    "        '''retorna último club'''\n",
    "        return self.clubes[-1]\n",
    "    \n",
    "jugador1 = Jugador('Lucas Alario', '8-10-1992', 'Delantero')\n",
    "jugador1.AgregarClub('Colon')\n",
    "jugador1.AgregarClub('River')\n",
    "print(\"Club Actual: \", jugador1.ClubActual())"
   ]
  },
  {
   "cell_type": "markdown",
   "metadata": {},
   "source": []
  }
 ],
 "metadata": {
  "kernelspec": {
   "display_name": "Python 3",
   "language": "python",
   "name": "python3"
  },
  "language_info": {
   "codemirror_mode": {
    "name": "ipython",
    "version": 3
   },
   "file_extension": ".py",
   "mimetype": "text/x-python",
   "name": "python",
   "nbconvert_exporter": "python",
   "pygments_lexer": "ipython3",
   "version": "3.4.2"
  }
 },
 "nbformat": 4,
 "nbformat_minor": 0
}
