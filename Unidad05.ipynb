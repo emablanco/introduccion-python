{
 "cells": [
  {
   "cell_type": "markdown",
   "metadata": {},
   "source": [
    "<h1 id=\"tocheading\">Tabla de Contenidos</h1>\n",
    "<div id=\"toc\"></div>"
   ]
  },
  {
   "cell_type": "code",
   "execution_count": 2,
   "metadata": {
    "collapsed": false
   },
   "outputs": [
    {
     "data": {
      "application/javascript": [
       "$.getScript('https://kmahelona.github.io/ipython_notebook_goodies/ipython_notebook_toc.js')"
      ],
      "text/plain": [
       "<IPython.core.display.Javascript object>"
      ]
     },
     "metadata": {},
     "output_type": "display_data"
    }
   ],
   "source": [
    "%%javascript\n",
    "$.getScript('https://kmahelona.github.io/ipython_notebook_goodies/ipython_notebook_toc.js')"
   ]
  },
  {
   "cell_type": "markdown",
   "metadata": {},
   "source": [
    "# Introducción a la Programación Orientada a Objetos\n",
    "\n",
    "Python es un lenguaje de Programación Orientado a Objetos, lo que significa que puede manipular construcciones llamadas objetos. Se puede pensar en un objeto como una única estructura que contiene tanto datos como funciones, solo que las funciones en este contexto son llamadas *métodos*. En definitiva, los objetos son una manera de organizar datos y de relacionarlos con el código apropiado para manejarlo.\n",
    "\n",
    "La Programación Orientada a Objetos introduce terminología, y una gran parte es simplemente darle un nuevo nombre a cosas que ya estuvimos usando.\n",
    "\n",
    "Si bien Python nos provee con un gran número de tipos ya definidos (int, float, str, dict, list, etc.), en muchas situaciones utilizar solamente los tipos provistos por el lenguaje resultará insuficiente. En estas situaciones queremos poder crear nuestros propios tipos, que almacenen la información relevante para el problema a resolver y contengan las funciones para operar con esa información.\n",
    "\n",
    "Supongamos un programa que gestiona jugadores de fútbol de un club, independientemente de los detalles de implementación, contar con un tipo de dato *jugador* que permita cargar los datos personales y profesionales nos brinda la posibilidad de tener un código mas legible y organizado. Por ejemplo, para cargar los datos de un nuevo jugador el código podría ser del siguiente modo:\n",
    "\n",
    "```python\n",
    "pipa = Jugador('Lucas Alario', '8-10-1992', 'Delantero')\n",
    "pipa.AgregarClub('Colon')\n",
    "pipa.AgregarClub('River')\n",
    "print(\"Club Actual: \", pipa.ClubActual())\n",
    "```\n",
    "Del ejemplo previo destacamos:\n",
    "\n",
    "- `pipa = Jugador(...)` crea una nueva instancia de la clase `Jugador` y asigna este objeto a la variable local `pipa`, una estructura que contiene un conjunto de datos (nombre, fecha de nacimiento y posición) denominados atributos (o propiedades) y métodos (funciones asociadas al objeto)\n",
    "\n",
    "\n",
    "## Atributos y métodos\n",
    "\n",
    "Veamos el modo de declarar este nuevo tipo `Jugador` con sus atributos y métodos."
   ]
  },
  {
   "cell_type": "code",
   "execution_count": 102,
   "metadata": {
    "collapsed": false
   },
   "outputs": [
    {
     "name": "stdout",
     "output_type": "stream",
     "text": [
      "Club Actual:  River\n"
     ]
    }
   ],
   "source": [
    "class Jugador(object):\n",
    "    \"\"\"Clase Jugador\"\"\"\n",
    "    def __init__(self, nombre=None, fechaNac=None, posicion=None):\n",
    "        self.nombre = nombre\n",
    "        self.fechaNac = fechaNac\n",
    "        self.posicion = posicion\n",
    "        self.clubes = []\n",
    "        \n",
    "    def setNuevoClub(self, club):\n",
    "        '''agrega club a la lista de clubes'''\n",
    "        self.clubes.append(club)\n",
    "    \n",
    "    def getClubActual(self):\n",
    "        '''retorna último club'''\n",
    "        return self.clubes[-1]\n",
    "\n",
    "pipa = Jugador('Lucas Alario', '08-10-1992', 'Delantero')\n",
    "\n",
    "pipa.setNuevoClub('Colon')\n",
    "pipa.setNuevoClub('River')\n",
    "print(\"Club Actual: \", pipa.getClubActual())\n",
    "\n",
    "d10s = Jugador('El Diego', '30-10-1960', 'Enganche')"
   ]
  },
  {
   "cell_type": "markdown",
   "metadata": {},
   "source": [
    "La clase anterior define la estructura de aquellos objetos que sean de tipo `Jugador()`. De los tres métodos que se observan, hay uno que merece especial atención:\n",
    "\n",
    "- `__init__`: este método se denomina constructor, ya que está directamente asociado a la declaración e inicialización de un objeto. Esto es, en la el fragmento de código `pipa = Jugador('Lucas Alario', '8-10-1992', 'Delantero')` se lo invoca automáticamente. Los argumentos se corresponden con `nombre`, `fechaNac` y `posicion` respectivamente. El primer argumento, `self`, hace referencia al mismo objeto y es utilizado para definir sus atributos dentro del constructor.\n",
    "\n",
    "Los métodos restantes no son más que funciones pertenecientes al objeto:\n",
    "\n",
    "- `setNuevoClub()`: agrega un club donde jugó\n",
    "- `getClubActual()`: retorna el último club\n",
    "\n",
    "Los datos relativos al club se cargan en una lista almacenada en el atributo `clubes`.  El uso métodos para modificar atributos es denominado *encapsulamiento*. \n",
    "\n",
    "\n",
    "## Métodos especiales\n",
    "\n",
    "Así como el constructor `__init__`, existen otros métodos especiales que, si están definidos en nuestra clase, Python los llamará por nosotros cuando se lo utilice en determinadas situaciones. Veamos algunos.\n",
    "\n",
    "\n",
    "### Impresión\n",
    "\n",
    "Si está definido el método `__str__` dentro de la clase, entonces será invocado automáticamente cada vez que se utilice la función `print()` con el objeto como argumento. Veamos la implementación:\n",
    "\n",
    "```python\n",
    "    def __str__(self):\n",
    "        salida = self.nombre\n",
    "        salida += '\\n' + '='*len(self.nombre) + '\\n'\n",
    "        salida += 'Club: ' + self.getClubActual() + '\\n'\n",
    "        salida += 'Posición: ' + self.posicion + '\\n'\n",
    "        return salida\n",
    "```\n",
    "\n",
    "Luego, al imprimirlo en pantalla obtendremos:\n",
    "\n",
    "```python\n",
    "print(pipa)\n",
    "```\n",
    "```\n",
    "Lucas Alario\n",
    "============\n",
    "Club: River\n",
    "Posición: Delantero\n",
    "```\n",
    "\n",
    "### Comparación\n",
    "\n",
    "Para resolver las comparaciones entre jugadores, será necesario definir algunos métodos especiales que permiten comparar objetos. En particular, cuando se quiere que los objetos puedan ser ordenados, los métodos que se\n",
    "debe definir son:\n",
    "\n",
    "- `__lt__` menor que,\n",
    "- `__le__` menor o igual, \n",
    "- `__eq__` igual,\n",
    "- `__ne__` distinto,\n",
    "- `__gt__` mayor que,\n",
    "- `__ge__` mayor o igual\n",
    "\n",
    "Para dos objetos x, y:\n",
    "\n",
    "- `x<y` llama a `x.__lt__(y)`, \n",
    "- `x<=y` llama a `x.__le__(y)`,\n",
    "- `x==y` llama a `x.__eq__(y)`,\n",
    "- `x!=y` llama a `x.__ne__(y)`,\n",
    "- `x>y` llama a `x.__gt__(y)`,\n",
    "- `x>=y` llama a `x.__ge__(y)`.\n",
    "\n",
    "Para el ejemplo que estamos desarrollando, solamente programaremos el método `__lt__`, ya que al no ser un jugador menor que otro, nos retorna el complemento. En la comparación rearmaremos la fecha en el formato aaaammmdd ya que al convertirla a un entero podremos comprarla como un simple número, donde uno mas grande significa que el jugador es mas joven y, mas adulto, en caso contrario. \n",
    "\n",
    "La implementación sería:\n",
    "\n",
    "```python\n",
    "    def __lt__(self, otro):\n",
    "        '''si self es menor a otro'''\n",
    "        dd1, mm1, aaaa1 = self.fechaNac.split('-')\n",
    "        aaaammdd1 = aaaa1 + mm1 + dd1\n",
    "        \n",
    "        dd2, mm2, aaaa2 = otro.fechaNac.split('-')\n",
    "        aaaammdd2 = aaaa2 + mm2 + dd2\n",
    "        \n",
    "        return (int(aaaammdd1) > int(aaaammdd2))\n",
    "```\n",
    "\n",
    "Luego, lo usamos:\n",
    "\n",
    "```python\n",
    "d10s = Jugador('El Diego', '30-10-1960', 'Enganche')\n",
    "print(pipa>d10s)\n",
    "```"
   ]
  },
  {
   "cell_type": "code",
   "execution_count": null,
   "metadata": {
    "collapsed": false
   },
   "outputs": [],
   "source": []
  },
  {
   "cell_type": "markdown",
   "metadata": {},
   "source": [
    "Se recomienda profundizar este tema en el capítulo *Un primer vistazo a las clases (pag. 61)*  del Tutorial de Python."
   ]
  }
 ],
 "metadata": {
  "kernelspec": {
   "display_name": "Python 3",
   "language": "python",
   "name": "python3"
  },
  "language_info": {
   "codemirror_mode": {
    "name": "ipython",
    "version": 3
   },
   "file_extension": ".py",
   "mimetype": "text/x-python",
   "name": "python",
   "nbconvert_exporter": "python",
   "pygments_lexer": "ipython3",
   "version": "3.4.2"
  }
 },
 "nbformat": 4,
 "nbformat_minor": 0
}
