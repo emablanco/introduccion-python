{
 "cells": [
  {
   "cell_type": "markdown",
   "metadata": {},
   "source": [
    "<h1 id=\"tocheading\">Tabla de Contenidos</h1>\n",
    "<div id=\"toc\"></div>"
   ]
  },
  {
   "cell_type": "code",
   "execution_count": 2,
   "metadata": {
    "collapsed": false
   },
   "outputs": [
    {
     "data": {
      "application/javascript": [
       "$.getScript('https://kmahelona.github.io/ipython_notebook_goodies/ipython_notebook_toc.js')"
      ],
      "text/plain": [
       "<IPython.core.display.Javascript object>"
      ]
     },
     "metadata": {},
     "output_type": "display_data"
    }
   ],
   "source": [
    "%%javascript\n",
    "$.getScript('https://kmahelona.github.io/ipython_notebook_goodies/ipython_notebook_toc.js')"
   ]
  },
  {
   "cell_type": "markdown",
   "metadata": {},
   "source": [
    "# Funciones y archivos\n",
    "\n",
    "## Funciones\n",
    "\n",
    "Las funciones son subprogramas que pueden ser invocados para realizar una tarea específica, siendo capaz de recibir información (datos de entrada) desde donde son llamados y a su vez de retornar algún valor (datos de salida).\n",
    "\n",
    "Cuando una función es invocada, el programa principal transfiere el control a la función hasta que finalice su ejecución, volviendo luego al punto desde donde fue llamada.\n",
    "\n",
    "En los programas desarrollados anteriormente hicimos uso de la función `len()`, que recibe como información de entrada una secuencia (lista o una cadena de caracteres por ejemplo) y retorna un valor numérico entero que representa la cantidad de elementos (o de caracteres). `len()` es una de las tantas funciones prefedinidas por el lenguaje Python en la biblioteca estándar y, en la presente sección veremos cómo definir nuestras propias funciones. \n",
    "\n",
    "El uso de funciones en el desarrollo de programas tiene un conjunto de ventajas, dentro de las que se destacan:\n",
    "\n",
    "- Subdividir un problema complejo en problemas mas simples: divide y vencerás\n",
    "- Mejoran la legibilidad del código, los programas modulares son más fáciles de mantener y entender\n",
    "- Posibilitan la reusabilidad del código, llamar funciones desde distintos programas.\n",
    "\n",
    "\n",
    "### Definición y uso\n",
    "\n",
    "Una función se define anteponiendo la palabra clave `def` seguida del nombre de la función, paréntesis de apertura y cierra y los dos puntos (:). Luego, el bloque de acciones que la conforman. Veamos la estructura:\n",
    "\n",
    "```python\n",
    "def nombre_funcion(argumento1, argumento2, ..., argumentoN):\n",
    "    accion1\n",
    "    accion2\n",
    "    ...\n",
    "    accionN\n",
    "```\n",
    "\n",
    "En el caso previo la función recibe como entrada argumentos y realiza una serie de acciones. Las funciones pueden ser definidas en el mismo programa, con la finalidad de organizar mejor el código. Veamos un ejemplo de un programa que define y utiliza una función denominada `muestra_doble()`."
   ]
  },
  {
   "cell_type": "code",
   "execution_count": 11,
   "metadata": {
    "collapsed": false
   },
   "outputs": [
    {
     "name": "stdout",
     "output_type": "stream",
     "text": [
      "7.0\n"
     ]
    }
   ],
   "source": [
    "# Definición de la función\n",
    "def muestra_doble(x):\n",
    "    '''Imprime en pantalla el doble de x'''\n",
    "    print(2*x)\n",
    " \n",
    "# Programa principal\n",
    "a = 3.5\n",
    "# invoca a la funcion\n",
    "muestra_doble(a)\n",
    "print('Todo OK')"
   ]
  },
  {
   "cell_type": "markdown",
   "metadata": {},
   "source": [
    "Analicemos en detalle la secuencia de ejecución:\n",
    "\n",
    "- Desde el programa principal se invoca a la función enviándo la variable `a` como parámetro\n",
    "- La función recibe la entrada haciendo una copia de `a` en la variable `x`\n",
    "- La función ejecuta sus acciones y vuelve el control al programa principal\n",
    "- El programa principal continúa la ejecución hasta finalizar\n",
    "\n",
    "Como vemos, la función no ha retornado valor alguno al programa principal, modifiquemos la función de manera que en vez de imprimir en pantalla el doble del valor, lo retorne al programa principal."
   ]
  },
  {
   "cell_type": "code",
   "execution_count": 2,
   "metadata": {
    "collapsed": false
   },
   "outputs": [
    {
     "name": "stdout",
     "output_type": "stream",
     "text": [
      "7.0\n"
     ]
    }
   ],
   "source": [
    "# Definición de la función\n",
    "def calc_doble(x):\n",
    "    \"\"\"Retorna el doble de x\"\"\"\n",
    "    return 2*x\n",
    " \n",
    "# Programa principal\n",
    "a = 3.5\n",
    "# invoca a la funcion\n",
    "doble = calc_doble(a)\n",
    "print(doble)"
   ]
  },
  {
   "cell_type": "markdown",
   "metadata": {},
   "source": [
    "Al igual que en el ejemplo anterior, la función es invocada desde el programa principal con el parámetro `a` y es copiado automáticamente como `x` dentro de la función. Destaquemos las diferencias:\n",
    "\n",
    "- El programa principal invoca la función desde una asignación (`doble = calc_doble(a)`)\n",
    "- Antes de realizarse la asignación, la ejecución pasa el control a la función.\n",
    "- La función realiza las acciones programadas y al ejecutar la palabra reservada `return` asigna la operación al su nombre y vuelve el control al programa principal\n",
    "- El nombre de la función contiene el resultado y es asignado a la variable `doble`\n",
    "- Finaliza el programa\n",
    "\n",
    "Si bien parece trivial, es importante que el nombre de la función sea acorde a las acciones que realiza e identifique su comportamiento, por este motivo la función fue renombrada a `calc_doble`.\n",
    "\n",
    "El retorno de valores de una función es completamente flexible, se pueden retornar mas de una variable, listas, tuplas, diccionarios o cualquier combinación de ellas. Veamos un caso de una función que recibe dos listas de nombres y teléfonos y retorna una agenda en una estructura de diccionario, donde la primer lista conforma las claves y la segunda los valores."
   ]
  },
  {
   "cell_type": "code",
   "execution_count": 6,
   "metadata": {
    "collapsed": false
   },
   "outputs": [
    {
     "name": "stdout",
     "output_type": "stream",
     "text": [
      "{'Kliksberg': '23444', 'Stiglitz': '54556', 'Zaffaroni': '66554'}\n"
     ]
    }
   ],
   "source": [
    "def arma_agenda(lista_nom, lista_tel):\n",
    "    '''recibe 2 listas y retorna un diccionario'''\n",
    "    d = {}\n",
    "    for nom, tel in zip(lista_nom, lista_tel):\n",
    "        d[nom] = tel\n",
    "    return d\n",
    "\n",
    "# Programa principal\n",
    "n = ['Kliksberg', 'Stiglitz', 'Zaffaroni']\n",
    "t = ['23444', '54556', '66554']\n",
    "agenda = arma_agenda(n,t)\n",
    "print(agenda)"
   ]
  },
  {
   "cell_type": "markdown",
   "metadata": {},
   "source": [
    "### Variables globales y locales\n",
    "\n",
    "### Agrupando el código en módulos\n",
    "\n",
    "## La biblioteca estándar\n",
    "\n",
    "## Lectura y escritura de archivos"
   ]
  }
 ],
 "metadata": {
  "kernelspec": {
   "display_name": "Python 3",
   "language": "python",
   "name": "python3"
  },
  "language_info": {
   "codemirror_mode": {
    "name": "ipython",
    "version": 3
   },
   "file_extension": ".py",
   "mimetype": "text/x-python",
   "name": "python",
   "nbconvert_exporter": "python",
   "pygments_lexer": "ipython3",
   "version": "3.4.2"
  }
 },
 "nbformat": 4,
 "nbformat_minor": 0
}
