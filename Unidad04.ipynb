{
 "cells": [
  {
   "cell_type": "markdown",
   "metadata": {},
   "source": [
    "<h1 id=\"tocheading\">Tabla de Contenidos</h1>\n",
    "<div id=\"toc\"></div>"
   ]
  },
  {
   "cell_type": "code",
   "execution_count": 2,
   "metadata": {
    "collapsed": false
   },
   "outputs": [
    {
     "data": {
      "application/javascript": [
       "$.getScript('https://kmahelona.github.io/ipython_notebook_goodies/ipython_notebook_toc.js')"
      ],
      "text/plain": [
       "<IPython.core.display.Javascript object>"
      ]
     },
     "metadata": {},
     "output_type": "display_data"
    }
   ],
   "source": [
    "%%javascript\n",
    "$.getScript('https://kmahelona.github.io/ipython_notebook_goodies/ipython_notebook_toc.js')"
   ]
  },
  {
   "cell_type": "markdown",
   "metadata": {},
   "source": [
    "# Funciones y archivos\n",
    "\n",
    "## Funciones\n",
    "\n",
    "Las funciones son subprogramas que pueden ser invocados para realizar una tarea específica, siendo capaz de recibir información (datos de entrada) desde donde son llamados y a su vez de retornar algún valor (datos de salida).\n",
    "\n",
    "Cuando una función es invocada, el programa principal transfiere el control a la función hasta que finalice su ejecución, volviendo luego al punto desde donde fue llamada.\n",
    "\n",
    "En los programas desarrollados anteriormente hicimos uso de la función `len()`, que recibe como información de entrada una secuencia (lista o una cadena de caracteres por ejemplo) y retorna un valor numérico entero que representa la cantidad de elementos (o de caracteres). `len()` es una de las tantas funciones prefedinidas por el lenguaje Python en la biblioteca estándar y, en la presente sección veremos cómo definir nuestras propias funciones. \n",
    "\n",
    "El uso de funciones en el desarrollo de programas tiene un conjunto de ventajas, dentro de las que se destacan:\n",
    "\n",
    "- Subdividir un problema complejo en problemas mas simples: divide y vencerás.\n",
    "- Mejoran la legibilidad del código, los programas modulares son más fáciles de mantener y entender.\n",
    "- Posibilitan la reusabilidad del código, llamar funciones desde distintos programas.\n",
    "\n",
    "\n",
    "### Definición y uso\n",
    "\n",
    "Una función se define anteponiendo la palabra clave `def` seguida del nombre de la función, paréntesis de apertura y cierra y los dos puntos (:). Luego, el bloque de acciones que la conforman. Veamos la estructura:\n",
    "\n",
    "```python\n",
    "def nombre_funcion(argumento1, argumento2, ..., argumentoN):\n",
    "    accion1\n",
    "    accion2\n",
    "    ...\n",
    "    accionN\n",
    "```\n",
    "\n",
    "En el caso previo la función recibe como entrada argumentos y realiza una serie de acciones. Las funciones pueden ser definidas en el mismo programa, con la finalidad de organizar mejor el código. Veamos un ejemplo de un programa que define y utiliza una función denominada `muestra_doble()`."
   ]
  },
  {
   "cell_type": "code",
   "execution_count": 1,
   "metadata": {
    "collapsed": false
   },
   "outputs": [
    {
     "name": "stdout",
     "output_type": "stream",
     "text": [
      "7.0\n",
      "Todo OK\n"
     ]
    }
   ],
   "source": [
    "# Definición de la función\n",
    "def muestra_doble(x):\n",
    "    '''Imprime en pantalla el doble de x'''\n",
    "    print(2*x)\n",
    " \n",
    "# Programa principal\n",
    "a = 3.5\n",
    "# invoca a la funcion\n",
    "muestra_doble(a)\n",
    "print('Todo OK')"
   ]
  },
  {
   "cell_type": "markdown",
   "metadata": {},
   "source": [
    "Analicemos en detalle la secuencia de ejecución:\n",
    "\n",
    "- Desde el programa principal se invoca a la función enviándo la variable `a` como parámetro\n",
    "- La función recibe la entrada haciendo una copia de `a` en la variable `x`\n",
    "- La función ejecuta sus acciones y vuelve el control al programa principal\n",
    "- El programa principal continúa la ejecución hasta finalizar\n",
    "\n",
    "Como vemos, la función no ha retornado valor alguno al programa principal, modifiquemos la función de manera que en vez de imprimir en pantalla el doble del valor, lo retorne al programa principal."
   ]
  },
  {
   "cell_type": "code",
   "execution_count": 2,
   "metadata": {
    "collapsed": false
   },
   "outputs": [
    {
     "name": "stdout",
     "output_type": "stream",
     "text": [
      "7.0\n"
     ]
    }
   ],
   "source": [
    "# Definición de la función\n",
    "def calc_doble(x):\n",
    "    \"\"\"Retorna el doble de x\"\"\"\n",
    "    return 2*x\n",
    " \n",
    "# Programa principal\n",
    "a = 3.5\n",
    "# invoca a la funcion\n",
    "doble = calc_doble(a)\n",
    "print(doble)"
   ]
  },
  {
   "cell_type": "markdown",
   "metadata": {},
   "source": [
    "Al igual que en el ejemplo anterior, la función es invocada desde el programa principal con el parámetro `a` y es copiado automáticamente como `x` dentro de la función. Destaquemos las diferencias:\n",
    "\n",
    "- El programa principal invoca la función desde una asignación (`doble = calc_doble(a)`)\n",
    "- Antes de realizarse la asignación, la ejecución pasa el control a la función.\n",
    "- La función realiza las acciones programadas y al ejecutar la palabra reservada `return` asigna la operación a su nombre y vuelve el control al programa principal\n",
    "- El nombre de la función contiene el resultado y es asignado a la variable `doble`\n",
    "- Finaliza el programa\n",
    "\n",
    "Si bien parece trivial, es importante que el nombre de la función sea acorde a las acciones que realiza e identifique su comportamiento, por este motivo la función fue renombrada a `calc_doble`. \n",
    "\n",
    "El retorno de valores de una función es completamente flexible, se pueden retornar más de una variable, listas, tuplas, diccionarios o cualquier combinación de ellas. Veamos un caso de una función que recibe dos listas de nombres y teléfonos y retorna una agenda en una estructura de diccionario, donde la primer lista conforma las claves y la segunda los valores."
   ]
  },
  {
   "cell_type": "code",
   "execution_count": 6,
   "metadata": {
    "collapsed": false
   },
   "outputs": [
    {
     "name": "stdout",
     "output_type": "stream",
     "text": [
      "{'Kliksberg': '23444', 'Stiglitz': '54556', 'Zaffaroni': '66554'}\n"
     ]
    }
   ],
   "source": [
    "def arma_agenda(lista_nom, lista_tel):\n",
    "    '''recibe 2 listas y retorna un diccionario'''\n",
    "    d = {}\n",
    "    for nom, tel in zip(lista_nom, lista_tel):\n",
    "        d[nom] = tel\n",
    "    return d\n",
    "\n",
    "# Programa principal\n",
    "n = ['Kliksberg', 'Stiglitz', 'Zaffaroni']\n",
    "t = ['23444', '54556', '66554']\n",
    "agenda = arma_agenda(n,t)\n",
    "print(agenda)"
   ]
  },
  {
   "cell_type": "markdown",
   "metadata": {},
   "source": [
    "El lector atento abrá notado que en todas las funciones debajo de su definición existe un texto encerrado entre comillas triples (como por ejemplo `\"\"\"Retorna el doble de x\"\"\"`). Esto es un comentario que se utiliza para documentar brevemente, y con nuestras palabras, que es lo que realiza dicha función. Su uso es opcional, pero es muy recomendable, dado que puede ser de mucha utilidad tanto para nostros como para otros desarrolladores.\n",
    "\n",
    "### Variables globales y locales\n",
    "\n",
    "Hemos visto que las funciones reciben un conjunto de valores a través de sus parámetros, sin embargo no fueron modificados dentro de la función. La pregunta que surge es: ¿Podemos cambiarlos? ¿Qué sucede si los modificamos?\n",
    "\n",
    "Veamos un ejemplo y su comportamiento:"
   ]
  },
  {
   "cell_type": "code",
   "execution_count": 4,
   "metadata": {
    "collapsed": false
   },
   "outputs": [
    {
     "name": "stdout",
     "output_type": "stream",
     "text": [
      "Norberto Napolitano\n"
     ]
    }
   ],
   "source": [
    "def trata_de_cambiar(nombre):\n",
    "    nombre = 'Luis Alberto Spinetta'\n",
    "\n",
    "n = 'Norberto Napolitano'\n",
    "trata_de_cambiar(n)\n",
    "print(n)"
   ]
  },
  {
   "cell_type": "markdown",
   "metadata": {},
   "source": [
    "Observamos que la variable no fué modificada o al menos no se ve reflejado desde el programa principal. Esto sucede debido a que la variable `n` es copiada en la variable `nombre` y todo cambio que se realice en el interior de `trata_de_cambiar` será local, es decir, su ámbito de validez se limita a la función, de manera tal que tanto `Spinetta` como `Napolitano` son irremplazables.\n",
    "\n",
    "No obstante, existen estructuras de datos que al ser modificadas dentro la función su cambio se verá reflejado en el programa principal. La única condición para que sea posible este comportamiento es que la estructura a ser modificada como argumentos sea *mutable*, tal es el caso de los diccionarios y listas. \n",
    "\n",
    "Veamos un caso donde definimos una función que recibe dos argumentos, una cadena de caracteres y una lista, de tipo *inmutable* y *mutable* respectivamente. "
   ]
  },
  {
   "cell_type": "code",
   "execution_count": 8,
   "metadata": {
    "collapsed": false
   },
   "outputs": [
    {
     "name": "stdout",
     "output_type": "stream",
     "text": [
      "['Luis Alberto Spinetta', 'Chango Spasiuk', 'Norberto Napolitano', 'Charly García']\n"
     ]
    }
   ],
   "source": [
    "def todo_cambia(musico, listam):\n",
    "    listam.append(musico)\n",
    "\n",
    "artistas = []\n",
    "\n",
    "todo_cambia('Luis Alberto Spinetta', artistas)\n",
    "todo_cambia('Chango Spasiuk',artistas)\n",
    "todo_cambia('Norberto Napolitano',artistas)\n",
    "todo_cambia('Charly García',artistas)\n",
    "\n",
    "print(artistas)"
   ]
  },
  {
   "cell_type": "markdown",
   "metadata": {},
   "source": [
    "El primer argumento, `musico`, es una cadena de caracteres que contiene el nombre de un artista y el segundo argumento, `listam`, es una lista donde se agrega el músico. \n",
    "\n",
    "Es importante notar que el ejemplo es equivalente al anterior, la diferencia radica únicamente en que el argumento que es modificado en la función es la misma lista del programa principal, no una copia, independientemente que en el programa principal utilice un identificador diferente al de la función.\n",
    "\n",
    "Ahora bien, existen casos donde es necesario modificar una variable del programa principal desde una función sin que sea recibida a través de sus argumentos. Para realizar este tipo de acciones necesitamos utilizar variables cuyo ámbito de validez sea tanto el programa principal como la función, es decir, variables globales.\n",
    "\n",
    "Veamos un ejemplo de una función que incrementa una variable global cuando el número que recibe por argumentos es par:"
   ]
  },
  {
   "cell_type": "code",
   "execution_count": 1,
   "metadata": {
    "collapsed": false
   },
   "outputs": [
    {
     "name": "stdout",
     "output_type": "stream",
     "text": [
      "2\n"
     ]
    }
   ],
   "source": [
    "def contar(num):\n",
    "    global pares\n",
    "    if num % 2 == 0:\n",
    "        pares = pares + 1\n",
    "\n",
    "pares = 0\n",
    "\n",
    "contar(2)\n",
    "contar(5)\n",
    "contar(8)\n",
    "\n",
    "print(pares)"
   ]
  },
  {
   "cell_type": "markdown",
   "metadata": {},
   "source": [
    "Algunos detalles a destacar sobre variables globales:\n",
    "\n",
    "- Se debe anteponer a la variable la palabra reservada `global` \n",
    "- Toda modificación repercutirá en el programa principal\n",
    "\n",
    "El uso de variables globales es una práctica que generalmente debe ser evitada. En la mayoría de los casos es preferible utilizar un parámetro y que la función retorne en su nombre el valor modificado."
   ]
  },
  {
   "cell_type": "markdown",
   "metadata": {},
   "source": [
    "### Agrupando el código en módulos\n",
    "\n",
    "Hemos visto como organizar mejor el código a través de funciones, sin embargo, una de las ventajas de utilizar funciones propias es evitar la reescritura. Carece de sentido tener que reprogramar una misma función por cada programa y, por otro lado, con el paso del tiempo es muy probable que no todas las versiones sean idénticas y por ende, su comportamiento puede diferir.\n",
    "\n",
    "Para solucionar este tipo de problemas y sacar provecho del uso de funciones existen los módulos, cuya utilidad es la de contener varias funciones que realicen algún tipo de tarea afin.\n",
    "\n",
    "Por ejemplo, una serie de funciones para cálculo matemático sería útil que estén contenidas en un mismo módulo, otras funciones para procesamiento de sonido en un módulo destinado a tal fin, o bien, una serie de funciones destinadas a almacenar todas las funciones relativas a un determinado proyecto.\n",
    "\n",
    "Para comprender la implementación veamos un módulo trivial, que contenga saludos en diferentes idiomas. Almacenamos en el archivo `saludo.py` las siguientes funciones:\n",
    "\n",
    "```python\n",
    "def espanol(nom):\n",
    "    print('Hola', nom)\n",
    "\n",
    "def quechua(nom):\n",
    "    print('Napaykullayki', nom)\n",
    "    \n",
    "def italiano(nom):\n",
    "    print('Ciao', nom)\n",
    "\n",
    "def guarani(nom):\n",
    "    '''Buen dia, cómo estas?'''\n",
    "    print(\"Mba'éichapa ndepyhareve\", nom)\n",
    "\n",
    "def aymara(nom):\n",
    "    '''¿cómo estás?'''\n",
    "    print('Kamisaraki', nom)\n",
    "    \n",
    "def maya(nom):\n",
    "    '''¿cómo estás?'''\n",
    "    print('Biix yanilech?', nom)\n",
    "```"
   ]
  },
  {
   "cell_type": "markdown",
   "metadata": {},
   "source": [
    "Luego, creamos el programa desde donde será importado el módulo e invocadas las funciones que contiene. Por ejemplo, en `charlando.py` hacemos lo siguiente:\n",
    "\n",
    "```python\n",
    "import saludo\n",
    "\n",
    "n = input('Ingrese su nombre: ')\n",
    "saludo.italiano(n)\n",
    "saludo.guarani(n)\n",
    "```\n",
    "\n",
    "Como observamos, el módulo es importado a través del nombre del archivo (sin la extensión *.py*) y luego, se invocan las funciones utilizando el nombre del módulo y la función separado por un punto (.).\n",
    "\n",
    "De esta manera, tenemos acceso a la totalidad de las funciones definidas bajo el módulo, pero, para el caso que únicamente se utilice una función específica, es posible especificarlo en la cláusula import del siguiente modo:\n",
    "\n",
    "```python\n",
    "from saludo import italiano, guarani\n",
    "\n",
    "n = input('Ingrese su nombre: ')\n",
    "italiano(n)\n",
    "guarani(n)\n",
    "```\n",
    "\n",
    "De esta manera, es posible invocar solamente las funciones importadas."
   ]
  },
  {
   "cell_type": "markdown",
   "metadata": {},
   "source": [
    "## La biblioteca estándar\n",
    "\n",
    "Se recomienda la lectura del capítulo *Pequeño paseo por la Biblioteca Estándar. Parte I* (pag. 72) del Tutorial de Python.\n",
    "\n",
    "## Archivos\n",
    "\n",
    "Hasta aquí hemos trabajado con información almacenada en estructuras de datos, ya sea a partir de la lectura interactiva (utilizando la función `input`) o cargada estáticamente en el mismo código del programa y, la salida ha sido siempre a través de la impresión en pantalla (utilizando la función `print`). \n",
    "\n",
    "La limitación de este modo de trabajo es que la información no se almacena de modo persistente. Para resolver este inconveniente veremos en la presente sección la manera de utilizar información de entrada y salida para nuestros programas a través de archivos de texto. \n",
    "\n",
    "Incorporar el uso de archivos a un programa generalmente requiere las siguientes acciones:\n",
    "\n",
    "- Abrir el archivo: la apertura de un achivo se realiza a partir de la primitiva `open` y consiste en asociar un elemento del programa con un archivo en particular.\n",
    "- Elegir el modo de apertura: un archivo puede abrirse para lectura (r), escritura (w), agregado (a), binario (b), lectura/escritura (+)\n",
    "- Leer ó escribir en el archivo\n",
    "- Cerrar el archivo\n",
    "\n",
    "Trabajemos con un archivo de texto, por ejemplo `archi01.txt`, con el siguiente contenido:\n",
    "\n",
    "```\n",
    "enero 30\n",
    "febrero 60\n",
    "marzo 55\n",
    "```\n",
    "\n",
    "### Lectura\n",
    "\n",
    "Vamos a realizar la lectura de este archivo e imprimir por pantalla su contenido. Dos de los métodos más comunes son:\n",
    "\n",
    "- readline(): lee de a una línea por vez\n",
    "- readlines(): lee todo el contenido del archivo y lo retorna en una lista\n",
    "\n",
    "Veamos como sería el funcionamiento del primer caso:"
   ]
  },
  {
   "cell_type": "code",
   "execution_count": 7,
   "metadata": {
    "collapsed": false
   },
   "outputs": [
    {
     "name": "stdout",
     "output_type": "stream",
     "text": [
      "enero 30\n",
      "\n",
      "febrero 60\n",
      "\n"
     ]
    }
   ],
   "source": [
    "# Apertura del archivo en modo lectura\n",
    "f = open('ejemplos/u4/archi01.txt', 'r')\n",
    "\n",
    "# Lee la primer línea\n",
    "r = f.readline()\n",
    "print(r)\n",
    "\n",
    "# Lee la segunda línea\n",
    "r = f.readline()\n",
    "print(r)\n",
    "\n",
    "# Cierra el archivo\n",
    "f.close()"
   ]
  },
  {
   "cell_type": "markdown",
   "metadata": {},
   "source": [
    "Probablemente sea más práctico realizar la lectura línea por línea en un ciclo iterativo hasta que se llegue al final del archivo. Esto se puede realizar combinando lo anterior con un ciclo repetitivo `while`:"
   ]
  },
  {
   "cell_type": "code",
   "execution_count": 9,
   "metadata": {
    "collapsed": false
   },
   "outputs": [
    {
     "name": "stdout",
     "output_type": "stream",
     "text": [
      "enero 30\n",
      "\n",
      "febrero 60\n",
      "\n",
      "marzo 55\n",
      "\n"
     ]
    }
   ],
   "source": [
    "# Apertura del archivo en modo lectura\n",
    "f = open('ejemplos/u4/archi01.txt', 'r')\n",
    "\n",
    "# Lee la primer línea\n",
    "r = f.readline()\n",
    "while r:\n",
    "    print(r)\n",
    "    # lee la sgte\n",
    "    r = f.readline()\n",
    "f.close()"
   ]
  },
  {
   "cell_type": "markdown",
   "metadata": {},
   "source": [
    "En este caso, la función `readline` retornara `False` cuando se llegue al final del archivo, y por lo tanto se saldrá del ciclo `while`.\n",
    "Otro método más directo y elegante -en general preferido- para realizar un comportamiento equivalente (agregado desde la versión de Python 2.2) es iterar sobre los mismos archivos, esto es:"
   ]
  },
  {
   "cell_type": "code",
   "execution_count": 2,
   "metadata": {
    "collapsed": false
   },
   "outputs": [
    {
     "ename": "IOError",
     "evalue": "[Errno 2] No such file or directory: 'ejemplos/u4/archi01.txt'",
     "output_type": "error",
     "traceback": [
      "\u001b[1;31m---------------------------------------------------------------------------\u001b[0m",
      "\u001b[1;31mIOError\u001b[0m                                   Traceback (most recent call last)",
      "\u001b[1;32m<ipython-input-2-048e5e9434f7>\u001b[0m in \u001b[0;36m<module>\u001b[1;34m()\u001b[0m\n\u001b[0;32m      1\u001b[0m \u001b[1;31m# Apertura en modo lectura (por defecto)\u001b[0m\u001b[1;33m\u001b[0m\u001b[1;33m\u001b[0m\u001b[0m\n\u001b[1;32m----> 2\u001b[1;33m \u001b[0mf\u001b[0m \u001b[1;33m=\u001b[0m \u001b[0mopen\u001b[0m\u001b[1;33m(\u001b[0m\u001b[1;34m'ejemplos/u4/archi01.txt'\u001b[0m\u001b[1;33m)\u001b[0m\u001b[1;33m\u001b[0m\u001b[0m\n\u001b[0m\u001b[0;32m      3\u001b[0m \u001b[1;33m\u001b[0m\u001b[0m\n\u001b[0;32m      4\u001b[0m \u001b[1;32mfor\u001b[0m \u001b[0mr\u001b[0m \u001b[1;32min\u001b[0m \u001b[0mf\u001b[0m\u001b[1;33m:\u001b[0m\u001b[1;33m\u001b[0m\u001b[0m\n\u001b[0;32m      5\u001b[0m     \u001b[1;32mprint\u001b[0m\u001b[1;33m(\u001b[0m\u001b[0mr\u001b[0m\u001b[1;33m)\u001b[0m\u001b[1;33m\u001b[0m\u001b[0m\n",
      "\u001b[1;31mIOError\u001b[0m: [Errno 2] No such file or directory: 'ejemplos/u4/archi01.txt'"
     ]
    }
   ],
   "source": [
    "# Apertura en modo lectura (por defecto)\n",
    "f = open('ejemplos/u4/archi01.txt')\n",
    "\n",
    "for r in f:\n",
    "    print(r)\n",
    "f.close()"
   ]
  },
  {
   "cell_type": "markdown",
   "metadata": {},
   "source": [
    "El método `readlines()` lee el contenido completo del archivo retornando una lista con su contenido, donde cada elemento corresponde a un renglón del archivo. \n",
    "\n",
    "Este método es más directo y suele ser útil para archivos que no son excesivamente grandes. Veamos un ejemplo:"
   ]
  },
  {
   "cell_type": "code",
   "execution_count": 10,
   "metadata": {
    "collapsed": false
   },
   "outputs": [
    {
     "name": "stdout",
     "output_type": "stream",
     "text": [
      "enero 30\n",
      "\n",
      "['enero 30\\n', 'febrero 60\\n', 'marzo 55\\n']\n"
     ]
    }
   ],
   "source": [
    "# Apertura del archivo en modo lectura\n",
    "f = open('ejemplos/u4/archi01.txt', 'r')\n",
    "\n",
    "# Lee todo el achivo\n",
    "todo = f.readlines()\n",
    "\n",
    "# 1er linea\n",
    "print(todo[0])\n",
    "\n",
    "# lista con todo el contenido\n",
    "print(todo)\n",
    "\n",
    "f.close()"
   ]
  },
  {
   "cell_type": "markdown",
   "metadata": {},
   "source": [
    "Ahora bien, podemos procesar los datos que son leidos del archivo. Hagamos el cálculo de un promedio con los valores numéricos de cada mes, para esto debemos extraer de la cadena de caracteres solamente aquellos valores que siguen a la cadena de caracteres correspondiente al mes. Para esto haremos uso de la función `split()`:"
   ]
  },
  {
   "cell_type": "code",
   "execution_count": 13,
   "metadata": {
    "collapsed": false
   },
   "outputs": [
    {
     "name": "stdout",
     "output_type": "stream",
     "text": [
      "Promedio:  48.333333333333336\n"
     ]
    }
   ],
   "source": [
    "# Apertura del archivo en modo lectura\n",
    "f = open('ejemplos/u4/archi01.txt', 'r')\n",
    "\n",
    "# Lee todo el achivo\n",
    "todo = f.readlines()\n",
    "\n",
    "# para promedio\n",
    "acum = 0\n",
    "cont = 0\n",
    "\n",
    "for r in todo:\n",
    "    mes, val = r.split()    # separo por espacio\n",
    "    acum = acum + int(val)  # sumo convirtiendo a entero\n",
    "    cont = cont + 1         # cuento los valores\n",
    "    \n",
    "f.close()\n",
    "promedio = acum/cont\n",
    "print('Promedio: ', promedio)"
   ]
  },
  {
   "cell_type": "markdown",
   "metadata": {},
   "source": [
    "### Escritura\n",
    "\n",
    "Para escribir datos en un archivo, inicialmente se lo abre para escritura, luego se pueden utilizar dos métodos:\n",
    "\n",
    "- write(r): escribe el contenido de r en un renglón del archivo\n",
    "- writelines(L): escribe el contenido completo de la lista L en el archivo\n",
    "\n",
    "Veamos un ejemplo de `write`:"
   ]
  },
  {
   "cell_type": "code",
   "execution_count": 15,
   "metadata": {
    "collapsed": true
   },
   "outputs": [],
   "source": [
    "# Crea archivo en modo escritura\n",
    "f = open('ejemplos/u4/archi02.txt', 'w')\n",
    "\n",
    "# Lee todo el achivo\n",
    "r1 = 'nace una flor\\n'\n",
    "f.write(r1)\n",
    "r1 = 'todos los dias\\n'\n",
    "f.write(r1)\n",
    "r1 = 'sale el sol\\n'\n",
    "f.write(r1)\n",
    "\n",
    "f.close()"
   ]
  },
  {
   "cell_type": "markdown",
   "metadata": {},
   "source": [
    "El programa creó el archivo y luego escribió los tres renglones. Se debe notar que al final de cada cadena se utilizó el caracter especial `\\n` que se traduce en un salto de línea, sino cada texto se hubiese escrito a continuación.\n",
    "\n",
    "Ahora veremos un ejemplo haciendo uso del método `writelines()`:"
   ]
  },
  {
   "cell_type": "code",
   "execution_count": 17,
   "metadata": {
    "collapsed": true
   },
   "outputs": [],
   "source": [
    "# Crea archivo en modo escritura\n",
    "f = open('ejemplos/u4/archi03.txt', 'w')\n",
    "\n",
    "# Lee todo el achivo\n",
    "L = ['nace una flor\\n', 'todos los dias\\n', 'sale el sol\\n']\n",
    "f.writelines(L)\n",
    "\n",
    "f.close()"
   ]
  },
  {
   "cell_type": "markdown",
   "metadata": {},
   "source": [
    "Como se observa, al igual que en el método anterior se debe agregar el caracter especial de retorno de línea al finalizar cada cadena. Se debe tener en cuenta que de no existir el archivo es creado pero, es borrado su contenido en caso contrario, por lo que debe prestarte especial atención para evitar la pérdida de datos involuntaria.\n",
    "\n",
    "En aquellos casos donde sea necesario agregar contenido a un archivo ya existente entonces se debe utilizar el modo de apertura `a` (proveniente de Append). Veamos un ejemplo en el que se agregan unas líneas de datos al archivo `archi01.txt`."
   ]
  },
  {
   "cell_type": "code",
   "execution_count": 18,
   "metadata": {
    "collapsed": true
   },
   "outputs": [],
   "source": [
    "# Abre archivo en modo append\n",
    "f = open('ejemplos/u4/archi01.txt', 'a')\n",
    "\n",
    "# Lee todo el achivo\n",
    "L = ['abril 33\\n', 'mayo 21\\n', 'junio 88\\n']\n",
    "f.writelines(L)\n",
    "\n",
    "f.close()"
   ]
  },
  {
   "cell_type": "markdown",
   "metadata": {},
   "source": [
    "Finalmente el archivo quedará con el siguiente contenido:\n",
    "\n",
    "```\n",
    "enero 30\n",
    "febrero 60\n",
    "marzo 55\n",
    "abril 33\n",
    "mayo 21\n",
    "junio 88\n",
    "```\n",
    "\n",
    "Es muy importante recordar que siempre debemos cerrar el archivo una vez que hemos trabajado con el mismo (función `close()`), independientemente de si lo hemos utilizado para lectura o para escritura. "
   ]
  },
  {
   "cell_type": "code",
   "execution_count": null,
   "metadata": {
    "collapsed": true
   },
   "outputs": [],
   "source": []
  }
 ],
 "metadata": {
  "kernelspec": {
   "display_name": "Python 2",
   "language": "python",
   "name": "python2"
  },
  "language_info": {
   "codemirror_mode": {
    "name": "ipython",
    "version": 2
   },
   "file_extension": ".py",
   "mimetype": "text/x-python",
   "name": "python",
   "nbconvert_exporter": "python",
   "pygments_lexer": "ipython2",
   "version": "2.7.6"
  }
 },
 "nbformat": 4,
 "nbformat_minor": 0
}
