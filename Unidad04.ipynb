{
 "cells": [
  {
   "cell_type": "markdown",
   "metadata": {},
   "source": [
    "<h1 id=\"tocheading\">Tabla de Contenidos</h1>\n",
    "<div id=\"toc\"></div>"
   ]
  },
  {
   "cell_type": "code",
   "execution_count": 2,
   "metadata": {
    "collapsed": false
   },
   "outputs": [
    {
     "data": {
      "application/javascript": [
       "$.getScript('https://kmahelona.github.io/ipython_notebook_goodies/ipython_notebook_toc.js')"
      ],
      "text/plain": [
       "<IPython.core.display.Javascript object>"
      ]
     },
     "metadata": {},
     "output_type": "display_data"
    }
   ],
   "source": [
    "%%javascript\n",
    "$.getScript('https://kmahelona.github.io/ipython_notebook_goodies/ipython_notebook_toc.js')"
   ]
  },
  {
   "cell_type": "markdown",
   "metadata": {},
   "source": [
    "# Funciones y archivos\n",
    "\n",
    "## Funciones\n",
    "\n",
    "Las funciones son subprogramas que pueden ser invocados para realizar una tarea específica, siendo capaz de recibir información (datos de entrada) desde donde son llamados y a su vez de retornar algún valor (datos de salida).\n",
    "\n",
    "Cuando una función es invocada, el programa principal transfiere el control a la función hasta que finalice su ejecución, volviendo luego al punto desde donde fue llamada.\n",
    "\n",
    "En los programas desarrollados anteriormente hicimos uso de la función `len()`, que recibe como información de entrada una secuencia (lista o una cadena de caracteres por ejemplo) y retorna un valor numérico entero que representa la cantidad de elementos (o de caracteres). `len()` es una de las tantas funciones prefedinidas por el lenguaje Python en la biblioteca estándar y, en la presente sección veremos cómo definir nuestras propias funciones. \n",
    "\n",
    "El uso de funciones en el desarrollo de programas tiene un conjunto de ventajas, dentro de las que se destacan:\n",
    "\n",
    "- Subdividir un problema complejo en problemas mas simples: divide y vencerás\n",
    "- Mejoran la legibilidad del código, los programas modulares son más fáciles de mantener y entender\n",
    "- Posibilitan la reusabilidad del código, llamar funciones desde distintos programas.\n",
    "\n",
    "\n",
    "### Definición\n",
    "\n",
    "Una función se define anteponiendo la palabra clave `def` seguida del nombre de la función, paréntesis de apertura y cierra y los dos puntos (:). Luego, el bloque de acciones que la conforman. Veamos la estructura:\n",
    "\n",
    "```python\n",
    "def nombre_funcion(argumento):\n",
    "    accion1\n",
    "    accion2\n",
    "    ...\n",
    "    accionN\n",
    "```\n",
    "\n",
    "En el caso previo la función recibe como entrada el argumento y realiza una serie de acciones. Las funciones pueden ser definidas en el mismo programa, con la finalidad de organizar mejor el código. Veamos un ejemplo de un programa que define y utiliza una función denominada `muestra_doble()`."
   ]
  },
  {
   "cell_type": "code",
   "execution_count": 3,
   "metadata": {
    "collapsed": false
   },
   "outputs": [
    {
     "name": "stdout",
     "output_type": "stream",
     "text": [
      "7.0\n"
     ]
    }
   ],
   "source": [
    "# Definición de la función\n",
    "def muestra_doble(x):\n",
    "    \"\"\"Imprime en pantalla el doble de x\"\"\"\n",
    "    print(2*x)\n",
    " \n",
    "# Programa principal\n",
    "a = 3.5\n",
    "# invoca a la funcion\n",
    "muestra_doble(a)"
   ]
  },
  {
   "cell_type": "markdown",
   "metadata": {},
   "source": [
    "En el ejemplo previo la función recibe la entrada contenida en la variable x e imprime en pantalla el doble de su valor, sin retornar valor alguno al programa principal. Modifiquemos el ejemplo, donde la función retorna un valor."
   ]
  },
  {
   "cell_type": "code",
   "execution_count": 2,
   "metadata": {
    "collapsed": false
   },
   "outputs": [
    {
     "name": "stdout",
     "output_type": "stream",
     "text": [
      "7.0\n"
     ]
    }
   ],
   "source": [
    "# Definición de la función\n",
    "def calc_doble(x):\n",
    "    \"\"\"Retorna el doble de x\"\"\"\n",
    "    return 2*x\n",
    " \n",
    "# Programa principal\n",
    "a = 3.5\n",
    "# invoca a la funcion\n",
    "doble = calc_doble(a)\n",
    "print(doble)"
   ]
  },
  {
   "cell_type": "markdown",
   "metadata": {},
   "source": [
    "Tal como se observa, el retorno del valor calculado se asigna al nombre de la función, es por eso que en el programa principal se puede asignar a `doble` la función `calc_doble` como si fuese una variable. Se hace evidente que para finalizar la función y asignar la operación realizada se debe utilizar la palabra reservada `return`.\n",
    "\n",
    "Si bien parece trivial, es importante que el nombre de la función sea acorde a las acciones que realiza e identifique su comportamiento, por este motivo la función fue renombrada a `calc_doble`.\n",
    "\n",
    "El retorno de valores de una función es completamente flexible, se pueden retornar mas de una variable, listas, tuplas, diccionarios, etc. Veamos un ejemplo de una función que recibe dos listas y retorna un diccionario, donde la primer lista conforma las claves y la segunda los valores."
   ]
  },
  {
   "cell_type": "code",
   "execution_count": null,
   "metadata": {
    "collapsed": true
   },
   "outputs": [],
   "source": [
    "def arma_agenda(nombres, telefonos):\n",
    "    d = {}\n",
    "    "
   ]
  },
  {
   "cell_type": "markdown",
   "metadata": {},
   "source": [
    "### Variables globales y locales\n",
    "\n",
    "### Agrupando el código en módulos\n",
    "\n",
    "## La biblioteca estándar\n",
    "\n",
    "## Lectura y escritura de archivos"
   ]
  }
 ],
 "metadata": {
  "kernelspec": {
   "display_name": "Python 3",
   "language": "python",
   "name": "python3"
  },
  "language_info": {
   "codemirror_mode": {
    "name": "ipython",
    "version": 3
   },
   "file_extension": ".py",
   "mimetype": "text/x-python",
   "name": "python",
   "nbconvert_exporter": "python",
   "pygments_lexer": "ipython3",
   "version": "3.4.2"
  }
 },
 "nbformat": 4,
 "nbformat_minor": 0
}
