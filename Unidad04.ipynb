{
 "cells": [
  {
   "cell_type": "markdown",
   "metadata": {},
   "source": [
    "<h1 id=\"tocheading\">Tabla de Contenidos</h1>\n",
    "<div id=\"toc\"></div>"
   ]
  },
  {
   "cell_type": "code",
   "execution_count": 2,
   "metadata": {
    "collapsed": false
   },
   "outputs": [
    {
     "data": {
      "application/javascript": [
       "$.getScript('https://kmahelona.github.io/ipython_notebook_goodies/ipython_notebook_toc.js')"
      ],
      "text/plain": [
       "<IPython.core.display.Javascript object>"
      ]
     },
     "metadata": {},
     "output_type": "display_data"
    }
   ],
   "source": [
    "%%javascript\n",
    "$.getScript('https://kmahelona.github.io/ipython_notebook_goodies/ipython_notebook_toc.js')"
   ]
  },
  {
   "cell_type": "markdown",
   "metadata": {},
   "source": [
    "# Funciones y archivos\n",
    "\n",
    "## Funciones\n",
    "\n",
    "Las funciones son subprogramas que pueden ser invocados para realizar una tarea específica, siendo capaz de recibir información (datos de entrada) desde donde son llamados y a su vez de retornar algún valor (datos de salida).\n",
    "\n",
    "En los programas que hemos desarrollado hicimos uso de la función `len()`, que recibe una secuencia (lista o una cadena de caracteres por ejemplo) como información de entrada y retorna un valor numérico entero que representa la cantidad de elementos (o de caracteres).\n",
    "\n",
    "Esta es una de las tantas funciones prefedinidas por el lenguaje Python en la biblioteca estándar y, en la presente sección veremos cómo definir nuestras propias funciones. \n",
    "\n",
    "El uso de funciones en el desarrollo de programas tiene un conjunto de ventajas, dentro de las que se destacan:\n",
    "\n",
    "- Subdividir un problema complejo en problemas mas simples: divide y vencerás\n",
    "- Mejoran la legibilidad del código, los programas modulares son más fáciles de mantener y entender\n",
    "- Posibilitan la reusabilidad del código, llamar funciones desde distintos programas.\n",
    "\n",
    "\n",
    "### Definición\n",
    "\n",
    "Una función se define anteponiendo la palabra clave `def` seguida del nombre de la función, paréntesis de apertura y cierra y los dos puntos (:). Luego, el bloque de acciones que la conforman. Veamos la estructura:\n",
    "\n",
    "```python\n",
    "def nombre_funcion(argumento):\n",
    "    accion1\n",
    "    accion2\n",
    "    ...\n",
    "    accionN\n",
    "```\n",
    "\n",
    "El caso previo es el de una función que recibe como entrada el argumento y realiza una serie de acciones. Las funciones pueden ser definidas en el mismo programa, con la finalidad de organizar mejor el código. Veamos un ejemplo de un programa que define una función denominada `muestra_doble()` y hace uso de ella."
   ]
  },
  {
   "cell_type": "code",
   "execution_count": 3,
   "metadata": {
    "collapsed": false
   },
   "outputs": [
    {
     "name": "stdout",
     "output_type": "stream",
     "text": [
      "7.0\n"
     ]
    }
   ],
   "source": [
    "# Definición de la función\n",
    "def muestra_doble(x):\n",
    "    \"\"\"Imprime en pantalla el doble de x\"\"\"\n",
    "    print(2*x)\n",
    " \n",
    "# Programa principal\n",
    "a = 3.5\n",
    "# invoca a la funcion\n",
    "muestra_doble(a)"
   ]
  },
  {
   "cell_type": "markdown",
   "metadata": {},
   "source": [
    "En el ejemplo previo la función recibe la entrada contenida en la variable x e imprime en pantalla el doble de su valor, esto no significa que retorne al programa principal un resultado. Modifiquemos el ejemplo, donde la función retorna un valor."
   ]
  },
  {
   "cell_type": "code",
   "execution_count": 4,
   "metadata": {
    "collapsed": false
   },
   "outputs": [
    {
     "name": "stdout",
     "output_type": "stream",
     "text": [
      "7.0\n"
     ]
    }
   ],
   "source": [
    "# Definición de la función\n",
    "def calc_doble(x):\n",
    "    \"\"\"Retorna el doble de x\"\"\"\n",
    "    return 2*x\n",
    " \n",
    "# Programa principal\n",
    "a = 3.5\n",
    "# invoca a la funcion\n",
    "doble = calc_doble(a)\n",
    "print(doble)"
   ]
  },
  {
   "cell_type": "markdown",
   "metadata": {},
   "source": [
    "\n",
    "\n",
    "- El nombre de la función debe identificar su comportamiento. Cambiamos su nombre de muestra_doble a calc_doble."
   ]
  },
  {
   "cell_type": "markdown",
   "metadata": {},
   "source": [
    "### Variables globales y locales\n",
    "\n",
    "### Agrupando el código en módulos\n",
    "\n",
    "## La biblioteca estándar\n",
    "\n",
    "## Lectura y escritura de archivos"
   ]
  }
 ],
 "metadata": {
  "kernelspec": {
   "display_name": "Python 3",
   "language": "python",
   "name": "python3"
  },
  "language_info": {
   "codemirror_mode": {
    "name": "ipython",
    "version": 3
   },
   "file_extension": ".py",
   "mimetype": "text/x-python",
   "name": "python",
   "nbconvert_exporter": "python",
   "pygments_lexer": "ipython3",
   "version": "3.4.2"
  }
 },
 "nbformat": 4,
 "nbformat_minor": 0
}
