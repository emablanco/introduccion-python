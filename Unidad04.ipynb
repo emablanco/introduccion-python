{
 "cells": [
  {
   "cell_type": "markdown",
   "metadata": {},
   "source": [
    "<h1 id=\"tocheading\">Tabla de Contenidos</h1>\n",
    "<div id=\"toc\"></div>"
   ]
  },
  {
   "cell_type": "code",
   "execution_count": 2,
   "metadata": {
    "collapsed": false
   },
   "outputs": [
    {
     "data": {
      "application/javascript": [
       "$.getScript('https://kmahelona.github.io/ipython_notebook_goodies/ipython_notebook_toc.js')"
      ],
      "text/plain": [
       "<IPython.core.display.Javascript object>"
      ]
     },
     "metadata": {},
     "output_type": "display_data"
    }
   ],
   "source": [
    "%%javascript\n",
    "$.getScript('https://kmahelona.github.io/ipython_notebook_goodies/ipython_notebook_toc.js')"
   ]
  },
  {
   "cell_type": "markdown",
   "metadata": {},
   "source": [
    "# Funciones y archivos\n",
    "\n",
    "## Funciones\n",
    "\n",
    "Las funciones son subprogramas que pueden ser invocados para realizar una tarea específica, siendo capaz de recibir información (datos de entrada) desde donde son llamados y a su vez de retornar algún valor (datos de salida).\n",
    "\n",
    "En los programas que hemos desarrollado hicimos uso de la función `len()`, que recibe una lista (o una cadena de caracteres por ejemplo) como información de entrada y retorna la cantidad de elementos (o de caracteres). Es decir, como dato de entrada puede recibir una secuencia de elementos, retornando un valor entero como información de salida. \n",
    "\n",
    "Esta es una de las tantas funciones prefedinidas por el lenguaje Python en la biblioteca estándar y, en la presente sección veremos cómo definir nuestras propias funciones. \n",
    "\n",
    "### Definición\n",
    "\n",
    "Una función se define anteponiendo la palabra clave `def` seguida del nombre de la función, paréntesis de apertura y cierra y los dos puntos (:). Luego, el bloque de acciones que la conforman. Veamos la estructura:\n",
    "\n",
    "```python\n",
    "def nombre_funcion(argumento):\n",
    "    accion1\n",
    "    accion2\n",
    "    ...\n",
    "    accionN\n",
    "```\n",
    "\n",
    "El caso previo es el de una función que recibe como dato de entrada lo contenido en argumento y realiza una serie de acciones. \n",
    "\n",
    "\n",
    "\n",
    "### Variables globales y locales\n",
    "\n",
    "### Agrupando el código en módulos\n",
    "\n",
    "## La biblioteca estándar\n",
    "\n",
    "## Lectura y escritura de archivos\n"
   ]
  }
 ],
 "metadata": {
  "kernelspec": {
   "display_name": "Python 3",
   "language": "python",
   "name": "python3"
  },
  "language_info": {
   "codemirror_mode": {
    "name": "ipython",
    "version": 3
   },
   "file_extension": ".py",
   "mimetype": "text/x-python",
   "name": "python",
   "nbconvert_exporter": "python",
   "pygments_lexer": "ipython3",
   "version": "3.4.2"
  }
 },
 "nbformat": 4,
 "nbformat_minor": 0
}
