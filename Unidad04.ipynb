{
 "metadata": {
  "name": "",
  "signature": "sha256:0a356e2426528d51344588705d8335b4e8fe1a4554cb5e5d34bdfafe275eb67f"
 },
 "nbformat": 3,
 "nbformat_minor": 0,
 "worksheets": [
  {
   "cells": [
    {
     "cell_type": "markdown",
     "metadata": {},
     "source": [
      "# Funciones, archivos, diccionarios\n",
      "\n",
      "## Definiendo funciones\n",
      "\n",
      "#### Variables globales y locales\n",
      "\n",
      "### Agrupando el c\u00f3digo en m\u00f3dulos\n",
      "\n",
      "## N\u00fameros aleatorios\n",
      "\n",
      "## Lectura y escritura de archivos\n",
      "\n",
      "## Diccionarios"
     ]
    }
   ],
   "metadata": {}
  }
 ]
}