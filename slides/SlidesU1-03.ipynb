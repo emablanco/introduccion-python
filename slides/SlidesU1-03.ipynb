{
 "cells": [
  {
   "cell_type": "markdown",
   "metadata": {},
   "source": [
    "# Tipos básicos\n",
    "\n",
    "## Tipos numéricos\n",
    "\n",
    "- enteros (int)\n",
    "- flotantes (float)\n",
    "- complejos (complex)"
   ]
  },
  {
   "cell_type": "code",
   "execution_count": 31,
   "metadata": {
    "collapsed": false
   },
   "outputs": [
    {
     "data": {
      "text/plain": [
       "float"
      ]
     },
     "execution_count": 31,
     "metadata": {},
     "output_type": "execute_result"
    }
   ],
   "source": [
    "a = 3.34\n",
    "b = 5\n",
    "res1 = a ** b\n",
    "type(res1)"
   ]
  },
  {
   "cell_type": "markdown",
   "metadata": {},
   "source": [
    "## Tipo Cadenas de caracteres (str)"
   ]
  },
  {
   "cell_type": "code",
   "execution_count": 35,
   "metadata": {
    "collapsed": false
   },
   "outputs": [],
   "source": [
    "cadena1 = \"la flor \"\n",
    "cadena2 = \"azul \"\n",
    "res2 = cadena1 + cadena2*3"
   ]
  },
  {
   "cell_type": "markdown",
   "metadata": {},
   "source": [
    "## Tipo Lógicos\n",
    "\n",
    "Tienen solamente dos valores: \n",
    "- True (Verdadero)\n",
    "- False (Falso)"
   ]
  },
  {
   "cell_type": "code",
   "execution_count": 36,
   "metadata": {
    "collapsed": false
   },
   "outputs": [
    {
     "data": {
      "text/plain": [
       "bool"
      ]
     },
     "execution_count": 36,
     "metadata": {},
     "output_type": "execute_result"
    }
   ],
   "source": [
    "v = True\n",
    "f = False\n",
    "type(v)"
   ]
  },
  {
   "cell_type": "markdown",
   "metadata": {},
   "source": [
    "Son imprescindibles para realizar **comparaciones**\n",
    "\n",
    "\n",
    "# Operadores\n",
    "## Operadores Relacionales\n",
    "\n",
    "| Operador | Descripción            | Ejemplo  | Resultado |\n",
    "|:---------------------------------:|:--------:|:---------:|\n",
    "|   ==     |  ¿son iguales a y b?   | 5 == 3   |False      |\n",
    "|   !=     |  ¿son distintos a y b? | 5 != 3   |True       |\n",
    "|   <      |  ¿es a menor que b?    | 5 < 3    |False      |\n",
    "|   >      |  ¿es a mayor que b?    | 5 > 3    |True       |"
   ]
  },
  {
   "cell_type": "code",
   "execution_count": 45,
   "metadata": {
    "collapsed": false
   },
   "outputs": [
    {
     "data": {
      "text/plain": [
       "True"
      ]
     },
     "execution_count": 45,
     "metadata": {},
     "output_type": "execute_result"
    }
   ],
   "source": [
    "c1 = 'juano'\n",
    "c2 = 'juana'\n",
    "c1 > c2"
   ]
  },
  {
   "cell_type": "markdown",
   "metadata": {},
   "source": [
    "## Operadores Lógicos\n",
    "\n",
    "| Operador | Descripción        | Ejemplo       | Resultado |\n",
    "|:--------:|:------------------:|:-------------:|:---------:|\n",
    "|   **and**    |  ¿se cumple a y b? | True **and** False| False     |\n",
    "|   **or**     |  ¿se cumple a o b? | True **or** False | True      |\n",
    "|   **not**    |  No a              | **not** True      | False     |"
   ]
  },
  {
   "cell_type": "code",
   "execution_count": 46,
   "metadata": {
    "collapsed": false
   },
   "outputs": [
    {
     "name": "stdout",
     "output_type": "stream",
     "text": [
      "False\n"
     ]
    }
   ],
   "source": [
    "a = 9\n",
    "b = 16\n",
    "c = 6\n",
    "resultado = (a < b) and (a < c)\n",
    "print(resultado)"
   ]
  },
  {
   "cell_type": "code",
   "execution_count": 48,
   "metadata": {
    "collapsed": false
   },
   "outputs": [
    {
     "name": "stdout",
     "output_type": "stream",
     "text": [
      "True\n"
     ]
    }
   ],
   "source": [
    "resultado = (a < b) or (a < c)\n",
    "print(resultado)"
   ]
  },
  {
   "cell_type": "code",
   "execution_count": 19,
   "metadata": {
    "collapsed": false
   },
   "outputs": [
    {
     "data": {
      "text/plain": [
       "True"
      ]
     },
     "execution_count": 19,
     "metadata": {},
     "output_type": "execute_result"
    }
   ],
   "source": [
    "not resultado"
   ]
  },
  {
   "cell_type": "code",
   "execution_count": null,
   "metadata": {
    "collapsed": true
   },
   "outputs": [],
   "source": []
  }
 ],
 "metadata": {
  "kernelspec": {
   "display_name": "Python 3",
   "language": "python",
   "name": "python3"
  },
  "language_info": {
   "codemirror_mode": {
    "name": "ipython",
    "version": 3
   },
   "file_extension": ".py",
   "mimetype": "text/x-python",
   "name": "python",
   "nbconvert_exporter": "python",
   "pygments_lexer": "ipython3",
   "version": "3.4.2"
  }
 },
 "nbformat": 4,
 "nbformat_minor": 0
}
