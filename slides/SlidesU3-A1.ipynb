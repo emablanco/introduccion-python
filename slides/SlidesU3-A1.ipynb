{
 "cells": [
  {
   "cell_type": "markdown",
   "metadata": {
    "slideshow": {
     "slide_type": "slide"
    }
   },
   "source": [
    "# Unidad 3: Estructuras de Control de Flujo\n",
    "\n",
    "Hasta ahora hemos desarrollado programas utilizando:"
   ]
  },
  {
   "cell_type": "markdown",
   "metadata": {
    "slideshow": {
     "slide_type": "fragment"
    }
   },
   "source": [
    "## Estructuras secuenciales\n",
    "\n",
    "![](files/u3/escalera2.jpg)"
   ]
  },
  {
   "cell_type": "markdown",
   "metadata": {
    "slideshow": {
     "slide_type": "subslide"
    }
   },
   "source": [
    "## Características de estructuras secuenciales"
   ]
  },
  {
   "cell_type": "markdown",
   "metadata": {
    "slideshow": {
     "slide_type": "fragment"
    }
   },
   "source": [
    "### - cada instrucción"
   ]
  },
  {
   "cell_type": "markdown",
   "metadata": {
    "slideshow": {
     "slide_type": "fragment"
    }
   },
   "source": [
    "### - se ejecuta"
   ]
  },
  {
   "cell_type": "markdown",
   "metadata": {
    "slideshow": {
     "slide_type": "fragment"
    }
   },
   "source": [
    "### - una tras otra"
   ]
  },
  {
   "cell_type": "markdown",
   "metadata": {
    "slideshow": {
     "slide_type": "fragment"
    }
   },
   "source": [
    "### - siempre y, "
   ]
  },
  {
   "cell_type": "markdown",
   "metadata": {
    "slideshow": {
     "slide_type": "fragment"
    }
   },
   "source": [
    "### - por única vez"
   ]
  },
  {
   "cell_type": "markdown",
   "metadata": {
    "slideshow": {
     "slide_type": "subslide"
    }
   },
   "source": [
    "## Por ejemplo\n",
    "\n",
    "Realice un programa donde se pregunte el nombre y edad de una persona y luego se muestre un\n",
    "cordial saludo"
   ]
  },
  {
   "cell_type": "code",
   "execution_count": 3,
   "metadata": {
    "collapsed": false,
    "slideshow": {
     "slide_type": "fragment"
    }
   },
   "outputs": [
    {
     "name": "stdout",
     "output_type": "stream",
     "text": [
      "¿Cómo es tu nombre? Matusalén\n",
      "¿Cuál es tu edad? 969\n",
      "Hola  Matusalén , ya estás un poco grande\n"
     ]
    }
   ],
   "source": [
    "nombre = input(\"¿Cómo es tu nombre? \")\n",
    "edad = input(\"¿Cuál es tu edad? \")\n",
    "print(\"Hola \", nombre, \"ya estás un poco grande\")"
   ]
  },
  {
   "cell_type": "markdown",
   "metadata": {
    "slideshow": {
     "slide_type": "fragment"
    }
   },
   "source": [
    "### ¿Limitaciones?\n",
    "\n",
    "- ¿Distintas edades? \n",
    "- ¿Siempre el mismo mensaje?\n",
    "- ¿Personalizar el mensaje según la edad?\n",
    "\n"
   ]
  },
  {
   "cell_type": "markdown",
   "metadata": {
    "slideshow": {
     "slide_type": "fragment"
    }
   },
   "source": [
    "### => Estructuras condicionales <="
   ]
  },
  {
   "cell_type": "markdown",
   "metadata": {
    "slideshow": {
     "slide_type": "slide"
    }
   },
   "source": [
    "## Estructuras condicionales\n",
    "\n",
    "### Permiten controlar el flujo del programa\n",
    "\n",
    "![](files/u3/autopista2.jpg)"
   ]
  },
  {
   "cell_type": "markdown",
   "metadata": {
    "slideshow": {
     "slide_type": "fragment"
    }
   },
   "source": [
    "Por ej: **Si** es mayor de 110 años mostrar el mensaje **ya estás un poco grande**"
   ]
  },
  {
   "cell_type": "markdown",
   "metadata": {
    "slideshow": {
     "slide_type": "subslide"
    }
   },
   "source": [
    "### Sentencia ``if``"
   ]
  },
  {
   "cell_type": "code",
   "execution_count": null,
   "metadata": {
    "collapsed": true,
    "slideshow": {
     "slide_type": "fragment"
    }
   },
   "outputs": [],
   "source": [
    "# Lectura\n",
    "nombre = input(\"¿Cómo es tu nombre? \")\n",
    "edad = input(\"¿Cuál es tu edad? \")\n",
    "# Condicional\n",
    "if edad >= 110:\n",
    "    # Mensaje\n",
    "    print(\"Hola \", nombre, \"ya estás un poco grande\") "
   ]
  },
  {
   "cell_type": "markdown",
   "metadata": {
    "slideshow": {
     "slide_type": "fragment"
    }
   },
   "source": [
    "- Mismo comportamiento si la condición es ``True``\n",
    "```\n",
    "¿Cómo es tu nombre? Matusalén\n",
    "¿Cuál es tu edad? 969\n",
    "Hola  Matusalén , ya estás un poco grande\n",
    "```"
   ]
  },
  {
   "cell_type": "markdown",
   "metadata": {
    "slideshow": {
     "slide_type": "fragment"
    }
   },
   "source": [
    "- ¿y si es ``False``?"
   ]
  },
  {
   "cell_type": "markdown",
   "metadata": {
    "slideshow": {
     "slide_type": "fragment"
    }
   },
   "source": [
    "```\n",
    "¿Cómo es tu nombre? Pedro\n",
    "¿Cuál es tu edad? 8\n",
    "```"
   ]
  },
  {
   "cell_type": "markdown",
   "metadata": {
    "slideshow": {
     "slide_type": "subslide"
    }
   },
   "source": [
    "### Sentencia ``if``\n",
    "\n",
    "![](files/u3/if2.png)"
   ]
  },
  {
   "cell_type": "markdown",
   "metadata": {
    "slideshow": {
     "slide_type": "fragment"
    }
   },
   "source": [
    "### Sentencia ``if - else``"
   ]
  },
  {
   "cell_type": "markdown",
   "metadata": {
    "slideshow": {
     "slide_type": "slide"
    }
   },
   "source": [
    "### Sentencia ``if - else``\n",
    "![](files/u3/if-else.png)"
   ]
  },
  {
   "cell_type": "code",
   "execution_count": null,
   "metadata": {
    "collapsed": true,
    "slideshow": {
     "slide_type": "fragment"
    }
   },
   "outputs": [],
   "source": [
    "# Lectura\n",
    "nombre = input(\"¿Cómo es tu nombre? \")\n",
    "edad = input(\"¿Cuál es tu edad? \")\n",
    "# Condicional\n",
    "if edad >= 110:\n",
    "    # Mensaje A\n",
    "    print(\"Hola \", nombre, \"ya estás un poco grande\")\n",
    "else:\n",
    "    # Mensaje B\n",
    "    print(\"Hola \", nombre, \"sos una criatura\")"
   ]
  }
 ],
 "metadata": {
  "celltoolbar": "Slideshow",
  "kernelspec": {
   "display_name": "Python 3",
   "language": "python",
   "name": "python3"
  },
  "language_info": {
   "codemirror_mode": {
    "name": "ipython",
    "version": 3
   },
   "file_extension": ".py",
   "mimetype": "text/x-python",
   "name": "python",
   "nbconvert_exporter": "python",
   "pygments_lexer": "ipython3",
   "version": "3.4.2"
  }
 },
 "nbformat": 4,
 "nbformat_minor": 0
}
