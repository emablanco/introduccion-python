{
 "metadata": {
  "name": "",
  "signature": "sha256:5590ac5919f5499d1b34349ca4524db88066a738176fd7c4d646b28d978ede53"
 },
 "nbformat": 3,
 "nbformat_minor": 0,
 "worksheets": [
  {
   "cells": [
    {
     "cell_type": "markdown",
     "metadata": {},
     "source": [
      "# Introducci\u00f3n al desarrollo de software (Unidad 1)\n",
      "Docente: Emiliano L\u00f3pez (emiliano [dot] lopez [at] gmail [dot] com)\n",
      "\n",
      "# Instalaci\u00f3n\n",
      "\n",
      "Tenemos diferentes herramientas donde desarrollar y ejecutar nuestros programas. A lo largo del curso vamos a utilizar las siguientes:\n",
      "\n",
      "* IDE GUI\n",
      "* Interactivo\n",
      "* IPython Notebooks\n"
     ]
    },
    {
     "cell_type": "code",
     "collapsed": false,
     "input": [],
     "language": "python",
     "metadata": {},
     "outputs": []
    }
   ],
   "metadata": {}
  }
 ]
}