{
 "metadata": {
  "name": "",
  "signature": "sha256:d6e6b3e345f35bc1176833d15a11f02f9ea63dcf04230acb70710ebebe82e8d3"
 },
 "nbformat": 3,
 "nbformat_minor": 0,
 "worksheets": [
  {
   "cells": [
    {
     "cell_type": "markdown",
     "metadata": {},
     "source": [
      "# Introducci\u00f3n al Desarrollo de Software (Unidad 1)\n",
      "Docente: Emiliano L\u00f3pez (emiliano [dot] lopez [at] gmail [dot] com)\n",
      "\n",
      "# Unidad 1\n",
      "\n",
      "# Instalaci\u00f3n\n",
      "\n",
      "Tenemos diferentes herramientas donde desarrollar y ejecutar nuestros programas. A lo largo del curso vamos a utilizar las siguientes:\n",
      "\n",
      "* IDE GUI\n",
      "* Interactivo\n",
      "* IPython Notebooks\n"
     ]
    },
    {
     "cell_type": "code",
     "collapsed": false,
     "input": [],
     "language": "python",
     "metadata": {},
     "outputs": []
    }
   ],
   "metadata": {}
  }
 ]
}