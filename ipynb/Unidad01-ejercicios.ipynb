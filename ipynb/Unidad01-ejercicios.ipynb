{
 "cells": [
  {
   "cell_type": "markdown",
   "metadata": {},
   "source": [
    "## Unidad 1: Ejercicios\n",
    "\n",
    "1. Realice un programa donde se pregunte el nombre y edad de una persona y luego\n",
    "se muestre un cordial saludo. Por ejemplo:\n",
    "\n",
    "```\n",
    "    Ingrese su nombre: Carlos\n",
    "    Ingrese su edad: 98\n",
    "    \n",
    "    Hola Carlos, 98 años no es nada, estás hecho un pibe!\n",
    "```\n",
    "2- Realice un programa donde se ingrese el nombre y edad de dos personas en variables separadas\n",
    "(nom1, edad1, nom2, edad2). Luego, intercambie la edad de las personas y muestre el\n",
    "resultado en pantalla. Posteriormente indague otras maneras de intercambiar el contenido de variables en Python.\n",
    "\n",
    "3- Realice un programa que permita ingresar por teclado dos valores \n",
    "referidos al kilometraje de un automóvil antes y después de un viaje. \n",
    "Con los dos valores ingresados muestre en pantalla la cantidad total\n",
    "de kilómetros recorridos, así como también\n",
    "ese valor convertido a metros y centímetros.\n",
    "\n",
    "\n",
    "4- Realice un programa que permita al usuario ingresar una temperatura\n",
    "en grados centígrados y que muestre su equivalente en grados fahrenheit.\n",
    "El programa debe mostrar como el siguiente:\n",
    "\n",
    "```\n",
    "    Ingrese temperatura en °C: 33.8\n",
    "    Conversión a Fahrenheit: 92.84\n",
    "```\n",
    "\n",
    "5- Realice un programa que permita al usuario ingresar su nombre y que\n",
    "luego lo muestre repetido en pantalla tantas veces como cantidad de\n",
    "letras posea el nombre.\n",
    "\n",
    "6- Las benévolas companías telefónicas cobran la tarifa de cada llamada del siguiente modo: un valor fijo de \\$0.80 cuando se establece la llamada, luego, fracciona por tiempo, donde el primer minuto tiene un valor de \\$1.30 y los subsiguientes de \\$1.45. Realice un programa que permita ingresar la duración de una llamada y que muestre luego el costo total de la misma, a la que se le debe agregar un porcentaje del 20\\% correspondiente a impuestos.\n",
    "\n",
    "7- Un atleta realiza sus entrenamientos para una maratón (42.195km) y desea conocer su velocidad promedio. Desarrolle un programa donde se ingrese el tiempo transcurrido en tres variables diferentes: horas, minutos y segundos. Luego, muestre la velocidad promedio en km/h y km/seg.\n",
    "\n",
    "8- En el siguiente programa se calcula la diferencia de tiempo entre dos marcas de tiempo. Analice el código del programa y explique las acciones que se llevan a cabo. Luego, modifiquelo para que las dos marcas de tiempo sean ingresadas por un usuario."
   ]
  },
  {
   "cell_type": "code",
   "execution_count": null,
   "metadata": {
    "collapsed": true
   },
   "outputs": [],
   "source": [
    "# dos marcas de tiempo\n",
    "hora1,min1,seg1 = 14, 58,59 \n",
    "hora2,min2,seg2 = 16, 0, 0\n",
    "\n",
    "# conversión del tiempo a segundos\n",
    "t1s = hora1*60*60 + min1*60 + seg1\n",
    "t2s = hora2*60*60 + min2*60 + seg2\n",
    "\n",
    "# diferencia\n",
    "t = abs(t1s-t2s)\n",
    "\n",
    "# cálculos de hora, minuto y segundos\n",
    "h = t//3600\n",
    "m = (t-h*3600)//60\n",
    "s = t-h*3600-m*60\n",
    "\n",
    "# impresión en pantalla\n",
    "print ('Diferencia de tiempo:', h, 'hs', m, 'min',s, 'seg')"
   ]
  },
  {
   "cell_type": "markdown",
   "metadata": {},
   "source": [
    "9- Modifique el código anterior para que reciba en vez de dos marcas de tiempo, 2 marcas de distancia, expresadas las mismas en kilometros y que luego imprima la diferencia en kilómetros, metros y centímetros."
   ]
  },
  {
   "cell_type": "markdown",
   "metadata": {},
   "source": [
    "10- Hace unos cuantos años, Don Pitagoras dijo que el cuadrado de la hipotenusa era igual a la suma de los cuadrados de los catetos.\n",
    "\n",
    "![](files/img/u1-ejercicios/teorema-pitagoras.jpg)\n",
    "\n",
    "¿Será cierto esto?. Supongamos que el valor de la hipotenusa(C) es de 29,15 , la del cateto A 25, y la del cateto B es de 15. Realice un programa que permita validar esto."
   ]
  },
  {
   "cell_type": "markdown",
   "metadata": {},
   "source": [
    "11- Modifique el cógido anterior, para que (ahora que sabe que es cierto) le pregunte al usuario por los valores de los catetos A y B, y luego realice el cálculo de la hipotenusa y lo devuelva por pantalla."
   ]
  },
  {
   "cell_type": "markdown",
   "metadata": {},
   "source": [
    "12- Un grupo de amigos se reunen a ver un clásico de fútbol entre el equipo A y el equipo B, y establecen como regla que los hinchas del equipo que pierda deberán pagar la totalidad de las cervezas consumidas durante el partido, como así también el costo de picada consumida en la previa. En caso de empate los costos se dividen por igual. El siguiente código refleja esta situación, pero solo contempla 2 de los 3 casos posibles. Modifíquelo para que también informe cuanto tendría que pagar cada hincha en caso de un empate:"
   ]
  },
  {
   "cell_type": "code",
   "execution_count": null,
   "metadata": {
    "collapsed": true
   },
   "outputs": [],
   "source": [
    " # Datos de entrada\n",
    "equipo_a = input('Cantidad de hinchas del equipo A: ')\n",
    "equipo_b = input('Cantidad de hinchas del equipo B: ')\n",
    "costo_picada = input('Costo de la picada: ')\n",
    "costo_cervezas = input('Costo total de las cervezas: ')\n",
    "\n",
    "# Sumo los costos\n",
    "costo_total = float(costo_picada) + float(costo_cervezas)\n",
    "\n",
    "# Para el caso en que gane el equipo A\n",
    "monto_a_pagar = costo_total/int(equipo_b)\n",
    "print('Si el equipo B pierde, sus hinchas deberan pagar: $', monto_a_pagar)\n",
    "\n",
    "# Para el caso en que gane el equipo B\n",
    "monto_a_pagar = costo_total/int(equipo_a)\n",
    "print('Si el equipo A pierde, sus hinchas deberan pagar: $', monto_a_pagar)"
   ]
  },
  {
   "cell_type": "markdown",
   "metadata": {},
   "source": [
    "13- Modifique el código del ejercicio 4 para que haciendo uso del módulo *statistics* de la biblioteca estándar de python, devuelva el valor de la media(mean), mediana(median) y varianza(variance) del conjunto."
   ]
  },
  {
   "cell_type": "markdown",
   "metadata": {},
   "source": [
    "14- Modifique el código anterior, para que en vez de pedir que se ingresen los 3 valores por teclado, genere estos de manera aleatoria. El programa deberá devolver la media, mediana y varianza, junto a los 3 valores que se generaron aleatoriamente."
   ]
  }
 ],
 "metadata": {
  "kernelspec": {
   "display_name": "Python 3",
   "language": "python",
   "name": "python3"
  },
  "language_info": {
   "codemirror_mode": {
    "name": "ipython",
    "version": 3
   },
   "file_extension": ".py",
   "mimetype": "text/x-python",
   "name": "python",
   "nbconvert_exporter": "python",
   "pygments_lexer": "ipython3",
   "version": "3.4.2"
  }
 },
 "nbformat": 4,
 "nbformat_minor": 0
}
