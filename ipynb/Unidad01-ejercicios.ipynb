{
 "cells": [
  {
   "cell_type": "markdown",
   "metadata": {},
   "source": [
    "## Ejercicios\n",
    "\n",
    "1- Realice un programa que permita al usuario ingresar una temperatura en grados centígrados y que muestre su equivalente en grados fahrenheit.\n",
    "\n",
    "    Ingrese temperatura en °C: 33.8\n",
    "    Conversión a Fahrenheit: 92.84\n",
    "\n",
    "2- Realice un programa que permita al usuario ingresar su nombre y que luego lo muestre repetido en pantalla tantas vees como cantidad de letras posea el nombre.\n",
    "\n",
    "3- Ingrese el nombre y edad de dos personas en variables separadas (nom1, edad1, nom2, edad2). Luego, intercambie la edad y muestre el resultado en pantalla. Indague de qué manera puede intercambiar el contenido de variables en Python.\n",
    "\n",
    "4- Realice un programa que permita ingresar 3 valores (valor1, valor2,valor3) y luego muestre el promedio de los mismos.\n",
    "\n",
    "5- Lea por teclado el valor del cuenta kilómetros de un automovil, posteriormente, permita ingresar el nuevo valor luego de realizar un viaje y muestre en pantalla los kilómetros recorridos, así como también ese valor en metros, centímetros, yardas y pies.\n",
    "\n",
    "6- Las benévolas companías telefónicas cobran la tarifa de cada llamada del siguiente modo: un valor fijo de \\$0.80 cuando se establece la llamada, luego, fracciona por tiempo, donde el primer minuto tiene un valor de \\$1.30 y los subsiguientes de \\$1.45. Realice un programa que permita ingresar la duración de una llamada y que muestre luego el costo total de la misma, a la que se le debe agregar un porcentaje del 20% correspondiente a impuestos.\n",
    "\n",
    "7- Un atleta realiza sus entrenamientos para una maratón (42.195km) y desea conocer su velocidad promedio. Desarrolle un programa donde se ingrese el tiempo transcurrido en tres variables diferentes: horas, minutos y segundos. Luego, muestre la velocidad promedio en km/h y km/seg.\n",
    "\n",
    "8- En el siguiente programa se calcula la diferencia de tiempo entre dos marcas de tiempo. Analice el código del programa y explique las acciones que se llevan a cabo. Luego, modifiquelo para que las dos marcas de tiempo sean ingresadas por un usuario."
   ]
  },
  {
   "cell_type": "code",
   "execution_count": null,
   "metadata": {
    "collapsed": true
   },
   "outputs": [],
   "source": [
    "# dos marcas de tiempo\n",
    "hora1,min1,seg1 = 14, 58,59 \n",
    "hora2,min2,seg2 = 16, 0, 0\n",
    "\n",
    "# conversión del tiempo a segundos\n",
    "t1s = hora1*60*60 + min1*60 + seg1\n",
    "t2s = hora2*60*60 + min2*60 + seg2\n",
    "\n",
    "# diferencia\n",
    "t = abs(t1s-t2s)\n",
    "\n",
    "# cálculos de hora, minuto y segundos\n",
    "h = t//3600\n",
    "m = (t-h*3600)//60\n",
    "s = t-h*3600-m*60\n",
    "\n",
    "# impresión en pantalla\n",
    "print ('Diferencia de tiempo:', h, 'hs', m, 'min',s, 'seg')"
   ]
  },
  {
   "cell_type": "markdown",
   "metadata": {},
   "source": [
    "9- Modifique el código anterior para que reciba en vez de dos marcas de tiempo, 2 marcas de distancia, expresadas las mismas en kilometros y que luego imprima la diferencia en kilómetros, metros y centímetros."
   ]
  },
  {
   "cell_type": "markdown",
   "metadata": {},
   "source": [
    "10- Hace unos cuantos años, Don Pitagoras dijo que el cuadrado de la hipotenusa era igual a la suma de los cuadrados de los catetos.\n",
    "\n",
    "![](files/img/u1-ejercicios/teorema-pitagoras.jpg)\n",
    "\n",
    "¿Será cierto esto?. Supongamos que el valor de la hipotenusa(C) es de 29,15 , la del cateto A 25, y la del cateto B es de 15. Realice un programa que permita validar esto."
   ]
  },
  {
   "cell_type": "markdown",
   "metadata": {},
   "source": [
    "11- Modifique el cógido anterior, para que (ahora que sabe que es cierto) le pregunte al usuario por los valores de los catetos A y B, y luego realice el cálculo de la hipotenusa y lo devuelva por pantalla."
   ]
  },
  {
   "cell_type": "markdown",
   "metadata": {},
   "source": [
    "12- Un grupo de amigos se reunen a ver un clásico Colón vs Unión, y establecen como regla que los hinchas del equipo que pierda, la totalidad de las cervezas consumidas durante el partido, quedando a cargo de la hinchada ganadora, el costo de la picada de la previa. Realice un programa que permita ingresar la cantidad de hinchas por cada equipo, el costo total de la picada, el costo total de las cervezas y el equipo que ha ganado. El programa deberá devolver cuanto tiene que pagar cada uno de los hinchas del equipo perdedor, y del equipo ganador."
   ]
  },
  {
   "cell_type": "markdown",
   "metadata": {},
   "source": [
    "13- Modifique el código anterior para que en caso de empate, permita dividir el costo total entre todos los hinchas, y devuelva cuanto tiene que pagar cada asistente."
   ]
  }
 ],
 "metadata": {
  "kernelspec": {
   "display_name": "Python 2",
   "language": "python",
   "name": "python2"
  },
  "language_info": {
   "codemirror_mode": {
    "name": "ipython",
    "version": 2
   },
   "file_extension": ".py",
   "mimetype": "text/x-python",
   "name": "python",
   "nbconvert_exporter": "python",
   "pygments_lexer": "ipython2",
   "version": "2.7.6"
  }
 },
 "nbformat": 4,
 "nbformat_minor": 0
}
