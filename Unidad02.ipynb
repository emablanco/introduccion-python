{
 "metadata": {
  "name": "",
  "signature": "sha256:29d39c67531d08bdde2dfad108893c9673e8b4946ecb18422f2e95b409fda733"
 },
 "nbformat": 3,
 "nbformat_minor": 0,
 "worksheets": [
  {
   "cells": [
    {
     "cell_type": "markdown",
     "metadata": {},
     "source": [
      "# Estructuras de control\n",
      "\n",
      "Las acciones ejecutadas por un programa muchas veces requieren de condiciones que permitan tomar decisiones sobre las instrucciones a ejecutar.\n",
      "\n",
      "## Condicionales\n",
      "\n",
      "### if\n",
      "\n",
      "### else\n",
      "\n",
      "### Estructuras anidadas\n",
      "\n",
      "### elif\n",
      "\n",
      "## Repeticiones\n",
      "\n",
      "### while\n",
      "\n",
      "## Ejercicios\n",
      "\n"
     ]
    },
    {
     "cell_type": "code",
     "collapsed": false,
     "input": [
      "for i in range(1,10):\n",
      "    if i%2==0:\n",
      "        print(i,\"es par\")\n",
      "    else:\n",
      "        print(i, \"es impar\")"
     ],
     "language": "python",
     "metadata": {},
     "outputs": [
      {
       "output_type": "stream",
       "stream": "stdout",
       "text": [
        "1 es impar\n",
        "2 es par\n",
        "3 es impar\n",
        "4 es par\n",
        "5 es impar\n",
        "6 es par\n",
        "7 es impar\n",
        "8 es par\n",
        "9 es impar\n"
       ]
      }
     ],
     "prompt_number": 2
    },
    {
     "cell_type": "code",
     "collapsed": false,
     "input": [],
     "language": "python",
     "metadata": {},
     "outputs": []
    }
   ],
   "metadata": {}
  }
 ]
}