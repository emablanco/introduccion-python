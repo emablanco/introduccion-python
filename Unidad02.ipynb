{
 "cells": [
  {
   "cell_type": "markdown",
   "metadata": {},
   "source": [
    "# Tipos básicos\n",
    "\n",
    "Como vimos en la Unidad 1, las variables pueden contener diferentes tipos de datos. Hemos visto 2 de los 3 tipos básicos que utiliza python.\n",
    "Estos tipos básicos se dividen en:\n",
    "* **Números**\n",
    "* **Cadenas de texto**\n",
    "* **Booleanos**"
   ]
  },
  {
   "cell_type": "markdown",
   "metadata": {},
   "source": [
    "## Números\n",
    "\n",
    "Los cuales como vimos pueden ser enteros, de coma flotante ó complejos."
   ]
  },
  {
   "cell_type": "code",
   "execution_count": 4,
   "metadata": {
    "collapsed": false
   },
   "outputs": [
    {
     "data": {
      "text/plain": [
       "int"
      ]
     },
     "execution_count": 4,
     "metadata": {},
     "output_type": "execute_result"
    }
   ],
   "source": [
    "a = 4\n",
    "type(a)"
   ]
  },
  {
   "cell_type": "markdown",
   "metadata": {},
   "source": [
    "En este caso vemos que **a** es de tipo **int** (entero) lo que corresponde al tipo básico \"números\", y subtipo **enteros**"
   ]
  },
  {
   "cell_type": "code",
   "execution_count": 5,
   "metadata": {
    "collapsed": false
   },
   "outputs": [
    {
     "data": {
      "text/plain": [
       "float"
      ]
     },
     "execution_count": 5,
     "metadata": {},
     "output_type": "execute_result"
    }
   ],
   "source": [
    "b = 4.12\n",
    "type(b)"
   ]
  },
  {
   "cell_type": "markdown",
   "metadata": {},
   "source": [
    "En el caso de la variable **b**, esta es del tipo básico \"número\", y del subtipo **coma flotante**."
   ]
  },
  {
   "cell_type": "code",
   "execution_count": 6,
   "metadata": {
    "collapsed": false
   },
   "outputs": [
    {
     "data": {
      "text/plain": [
       "complex"
      ]
     },
     "execution_count": 6,
     "metadata": {},
     "output_type": "execute_result"
    }
   ],
   "source": [
    "c= 4+5j\n",
    "type(c)"
   ]
  },
  {
   "cell_type": "markdown",
   "metadata": {},
   "source": [
    "La variable **c** es del tipo básico número, y del subtipo **Complejo**"
   ]
  },
  {
   "cell_type": "markdown",
   "metadata": {},
   "source": [
    "##Cadenas de texto\n",
    "\n",
    "Tal como hemos visto en la unidad anterior, las cadenas (string en inglés ó str) no son más que texto encerrado entre comillas simples\n",
    "(‘cadena’), dobles (“cadena”) ó triples('''Cadenas multilíneas''').\n",
    "Por ejemplo:"
   ]
  },
  {
   "cell_type": "code",
   "execution_count": 12,
   "metadata": {
    "collapsed": false
   },
   "outputs": [
    {
     "data": {
      "text/plain": [
       "str"
      ]
     },
     "execution_count": 12,
     "metadata": {},
     "output_type": "execute_result"
    }
   ],
   "source": [
    "a = 'El futuro mostrará los resultados y juzgará a cada uno de acuerdo a sus logros (Nikola Tesla)'\n",
    "type(a)"
   ]
  },
  {
   "cell_type": "code",
   "execution_count": 15,
   "metadata": {
    "collapsed": false
   },
   "outputs": [
    {
     "data": {
      "text/plain": [
       "str"
      ]
     },
     "execution_count": 15,
     "metadata": {},
     "output_type": "execute_result"
    }
   ],
   "source": [
    "b = \"En realidad no me preocupa que quieran robar mis ideas, me preocupa que ellos no las tengan (Nikola Tesla)\"\n",
    "type(b)"
   ]
  },
  {
   "cell_type": "code",
   "execution_count": 16,
   "metadata": {
    "collapsed": false
   },
   "outputs": [
    {
     "data": {
      "text/plain": [
       "str"
      ]
     },
     "execution_count": 16,
     "metadata": {},
     "output_type": "execute_result"
    }
   ],
   "source": [
    "c = '''Un instrumento de poco costo y no más grande que un reloj, permitirá a su portador escuchar en \n",
    "cualquier parte, ya sea en el mar o en la tierra, música, canciones o un discurso de un líder político, \n",
    "dictado en cualquier otro sitio distante. Del mismo modo, cualquier dibujo o impresión podrá ser \n",
    "transferida de un lugar a otro (Nikola Tesla, ~ año 1891).\n",
    "'''\n",
    "type(c)"
   ]
  },
  {
   "cell_type": "markdown",
   "metadata": {},
   "source": [
    "## Booleanos\n",
    "\n",
    "Una variable de tipo booleano sólo puede tener dos valores: True (cierto) y False (falso). Estos valores son especialmente importantes para las expresiones condicionales y los bucles, como veremos más adelante. Pero veamos algunos ejemplos:\n"
   ]
  },
  {
   "cell_type": "code",
   "execution_count": 24,
   "metadata": {
    "collapsed": false
   },
   "outputs": [
    {
     "data": {
      "text/plain": [
       "bool"
      ]
     },
     "execution_count": 24,
     "metadata": {},
     "output_type": "execute_result"
    }
   ],
   "source": [
    "a = True\n",
    "type(a)"
   ]
  },
  {
   "cell_type": "code",
   "execution_count": 23,
   "metadata": {
    "collapsed": false
   },
   "outputs": [
    {
     "data": {
      "text/plain": [
       "bool"
      ]
     },
     "execution_count": 23,
     "metadata": {},
     "output_type": "execute_result"
    }
   ],
   "source": [
    "b = False\n",
    "type(b)"
   ]
  },
  {
   "cell_type": "code",
   "execution_count": 30,
   "metadata": {
    "collapsed": false
   },
   "outputs": [
    {
     "name": "stdout",
     "output_type": "stream",
     "text": [
      "True\n"
     ]
    }
   ],
   "source": [
    "c = 10 > 2\n",
    "print c"
   ]
  },
  {
   "cell_type": "markdown",
   "metadata": {},
   "source": [
    "En este último ejemplo vemos algo particular, hemos asignado a la variable **c** el resultado de una expresión lógica (10 > 2). Python en este caso, opera con la misma y termina asignando a la variable **c** el resultado de dicha operación, la cual en este caso es verdadera (True), dado que 10 es mayor que 2. Al tratarse se una operación lógica, el resultado siempre será de tipo booleando (bool), es decir, será verdadero o será falso."
   ]
  },
  {
   "cell_type": "code",
   "execution_count": 36,
   "metadata": {
    "collapsed": false
   },
   "outputs": [
    {
     "data": {
      "text/plain": [
       "bool"
      ]
     },
     "execution_count": 36,
     "metadata": {},
     "output_type": "execute_result"
    }
   ],
   "source": [
    "type(c)"
   ]
  },
  {
   "cell_type": "markdown",
   "metadata": {},
   "source": [
    "Veamos otro ejemplo:"
   ]
  },
  {
   "cell_type": "code",
   "execution_count": 2,
   "metadata": {
    "collapsed": false
   },
   "outputs": [
    {
     "name": "stdout",
     "output_type": "stream",
     "text": [
      "False\n"
     ]
    }
   ],
   "source": [
    "d = (10*22.6+2265**2)<(2123*2/4321*8)\n",
    "print d"
   ]
  },
  {
   "cell_type": "code",
   "execution_count": 33,
   "metadata": {
    "collapsed": false
   },
   "outputs": [
    {
     "data": {
      "text/plain": [
       "bool"
      ]
     },
     "execution_count": 33,
     "metadata": {},
     "output_type": "execute_result"
    }
   ],
   "source": [
    "type(d)"
   ]
  },
  {
   "cell_type": "markdown",
   "metadata": {},
   "source": [
    "En Python, una expresión que es cierta tiene el valor 1, y una expresión que es falsa tiene el valor 0."
   ]
  },
  {
   "cell_type": "code",
   "execution_count": 12,
   "metadata": {
    "collapsed": false
   },
   "outputs": [
    {
     "data": {
      "text/plain": [
       "True"
      ]
     },
     "execution_count": 12,
     "metadata": {},
     "output_type": "execute_result"
    }
   ],
   "source": [
    "a = True\n",
    "a == 1\n"
   ]
  },
  {
   "cell_type": "code",
   "execution_count": 10,
   "metadata": {
    "collapsed": false
   },
   "outputs": [
    {
     "data": {
      "text/plain": [
       "True"
      ]
     },
     "execution_count": 10,
     "metadata": {},
     "output_type": "execute_result"
    }
   ],
   "source": [
    "b = False\n",
    "b == 0"
   ]
  },
  {
   "cell_type": "markdown",
   "metadata": {},
   "source": [
    "El uso de **==** se utiliza para comparar el valor de la derecha (b) con el de la izquierda (0). El resultado será una siempre de tipo bool, y por lo tanto será cierto (True) o será falso (False)."
   ]
  },
  {
   "cell_type": "markdown",
   "metadata": {},
   "source": [
    "# Estructuras de control\n",
    "\n",
    "Si un programa no fuera más que una lista de órdenes a ejecutar de forma secuencial, una por una, no tendría mucha utilidad. Es por ello que en la mayoría de los lenguajes de programación existen lo que se denominan estructuras de control. Estas estructuras permiten que, ante determinadas condiciones, un programa se comporte de diferentes maneras.\n",
    "\n",
    "Supongamos por ejemplo que tenemos que definir un programa que nos indique paso a paso como llegar de un punto de la ciudad a otro punto. Este programa deberá indicar diferentes caminos dependiendo si vamos en auto, colectivo, bicicleta o caminando, dado que en el caso de los autos hay ciertas reglas que se deben respetar (semáforos, sentido de circulación de las calles, etc.), y que en caso de ir caminando no son necesarias.\n",
    "Este tipo de diferencias son las que se pueden controlar mediante las estructuras de control, haciendo que el programa se comporte de una forma u otra dependiendo de ciertas condiciones.\n",
    "\n",
    "## Condicionales\n",
    "\n",
    "La primer estructura de control que veremos son los condicionales, los cuales nos permiten comprobar condiciones y hacer que nuestro programa se comporte de una forma u otra, que ejecute un fragmento de código u otro, dependiendo de esta condición.\n",
    "Aquí es donde cobra su importancia el tipo booleano que aprendimos en la sección anterior sobre los tipos básicos de Python.\n",
    "\n",
    "### Sentencia if\n",
    "La forma más simple de un estamento condicional es un if (del inglés si) seguido de la condición a evaluar, dos puntos (:) y en la siguiente línea e indentado, el código a ejecutar en caso de que se cumpla dicha condición.\n"
   ]
  },
  {
   "cell_type": "code",
   "execution_count": 27,
   "metadata": {
    "collapsed": false
   },
   "outputs": [],
   "source": [
    "if vehiculo == 'auto':\n",
    "    respetar_sentido_calles = True    \n",
    "    usar_bicisendas = False\n",
    "respetar_semaforos = True"
   ]
  },
  {
   "cell_type": "markdown",
   "metadata": {},
   "source": [
    "Esta sentencia se lee como: <code>si (if) vehiculo es igual a 'auto', entonces ejecutar: respetar_sentido_calles = True y usar_bicisendas = False</code>. Estas sentencias solo se ejecutarán si se cumple la condición de que la variable vehículo contenga el valor 'auto'. Por último, la sentencia <code>respetar_semaforos = True</code> se ejecutará independientemente del valor que contenga la variable vehículo."
   ]
  },
  {
   "cell_type": "markdown",
   "metadata": {},
   "source": [
    "Siguiendo con nuestro ejemplo, podemos ir un poco mas allá y completar estas condiciones para el caso de ir en bicicleta o caminando:"
   ]
  },
  {
   "cell_type": "code",
   "execution_count": 28,
   "metadata": {
    "collapsed": false
   },
   "outputs": [],
   "source": [
    "if vehiculo == 'auto':\n",
    "    respetar_sentido_calles = True    \n",
    "    usar_bicisendas = False\n",
    "\n",
    "if vehiculo == 'bicicleta':\n",
    "    respetar_sentido_calles = True    \n",
    "    usar_bicisendas = True\n",
    "\n",
    "# Esto se puede interpretar como que no va en ningun vehículo, es decir, va caminando.\n",
    "if vehiculo == False:\n",
    "    respetar_sentido_calles = False    \n",
    "    usar_bicisendas = False\n",
    "\n",
    "respetar_semaforos = True"
   ]
  },
  {
   "cell_type": "markdown",
   "metadata": {},
   "source": [
    "Una cuestión muy importante es asegurarnos de que el código esta indentado tal cual se ha hecho en el ejemplo, es decir, aseguraros de pulsar Tabulación en la línea que esta debajo de los 2 puntos (:), dado que esta es la forma de Python de saber que nuestra intención es la de que el las sentencias que están indentadas, se ejecute sólo en el caso de que se cumpla la condición."
   ]
  },
  {
   "cell_type": "markdown",
   "metadata": {
    "collapsed": true
   },
   "source": [
    "### Sentencia if..else\n",
    "\n",
    "Si prestamos atención al código anterior, veremos que la variable <code>usar_bicisendas</code> solo debería ser igual a <code>True</code> en el caso de que vehículo sea igual a 'bicicleta', en el resto de los casos debería ser siempre False. Lo mismo sucede con la variable <code>respetar_sentido_calles</code> la que debería ser siempre True salvo en los casos donde vehículo sea igual a False (o sea, cuando vayamos caminando). Para estos casos existe un condicional llamado <code>else</code>(del inglés si no), que se usa conjuntamente con <code>if</code> y que sirve para ejecutar ciertas instrucciones en caso de que la condición de la sentencia <code>if</code> no se cumpla. Por ejemplo:"
   ]
  },
  {
   "cell_type": "code",
   "execution_count": null,
   "metadata": {
    "collapsed": true
   },
   "outputs": [],
   "source": [
    "if vehiculo == 'bicicleta':\n",
    "    usar_bicisendas = True\n",
    "else:\n",
    "    usar_bicisendas = False"
   ]
  },
  {
   "cell_type": "markdown",
   "metadata": {},
   "source": [
    "De este modo, y siguiendo con el ejemplo que venimos trabajando, podríamos reescribir el código de nuestro programa de la siguiente manera"
   ]
  },
  {
   "cell_type": "code",
   "execution_count": 22,
   "metadata": {
    "collapsed": true
   },
   "outputs": [],
   "source": [
    "if vehiculo == 'bicicleta':\n",
    "    usar_bicisendas = True\n",
    "else:\n",
    "    usar_bicisendas = False\n",
    "\n",
    "if vehiculo == False:\n",
    "    respetar_sentido_calles = False  \n",
    "else:\n",
    "    respetar_sentido_calles = True \n",
    "\n",
    "respetar_semaforos = True"
   ]
  },
  {
   "cell_type": "markdown",
   "metadata": {},
   "source": [
    "Como se ve en este caso, solo tomamos deciciones en caso de que vehiculo sea igual a bicicleta o igual a False (ir caminando). Ya no es necesario preguntar si el vehículo es igual a 'auto', dado que los valores de <code>usar_bicisendas</code> y <code>respetar_sentido_calles</code> seran definidos cuando se pregunte si el vehículo es una bicicleta o si es False."
   ]
  },
  {
   "cell_type": "code",
   "execution_count": null,
   "metadata": {
    "collapsed": true
   },
   "outputs": [],
   "source": []
  },
  {
   "cell_type": "markdown",
   "metadata": {},
   "source": [
    "### Estructuras anidadas\n",
    "\n",
    "### elif\n",
    "\n",
    "## Repeticiones\n",
    "\n",
    "### while\n",
    "\n",
    "## Ejercicios\n"
   ]
  },
  {
   "cell_type": "code",
   "execution_count": 2,
   "metadata": {
    "collapsed": false
   },
   "outputs": [
    {
     "name": "stdout",
     "output_type": "stream",
     "text": [
      "(1, 'es impar')\n",
      "(2, 'es par')\n",
      "(3, 'es impar')\n",
      "(4, 'es par')\n",
      "(5, 'es impar')\n",
      "(6, 'es par')\n",
      "(7, 'es impar')\n",
      "(8, 'es par')\n",
      "(9, 'es impar')\n"
     ]
    }
   ],
   "source": [
    "for i in range(1,10):\n",
    "    if i%2==0:\n",
    "        print(i,\"es par\")\n",
    "    else:\n",
    "        print(i, \"es impar\")"
   ]
  },
  {
   "cell_type": "markdown",
   "metadata": {
    "collapsed": false
   },
   "source": [
    "####Referencias utilizadas en esta unidad:\n",
    "- ***Python para todos***, Raúl González Duque, http://mundogeek.net/tutorial-python\n",
    "    "
   ]
  },
  {
   "cell_type": "code",
   "execution_count": null,
   "metadata": {
    "collapsed": true
   },
   "outputs": [],
   "source": []
  }
 ],
 "metadata": {
  "kernelspec": {
   "display_name": "Python 2",
   "language": "python",
   "name": "python2"
  },
  "language_info": {
   "codemirror_mode": {
    "name": "ipython",
    "version": 2
   },
   "file_extension": ".py",
   "mimetype": "text/x-python",
   "name": "python",
   "nbconvert_exporter": "python",
   "pygments_lexer": "ipython2",
   "version": "2.7.6"
  }
 },
 "nbformat": 4,
 "nbformat_minor": 0
}
