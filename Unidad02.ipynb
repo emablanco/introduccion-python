{
 "cells": [
  {
   "cell_type": "markdown",
   "metadata": {},
   "source": [
    "# Tipos básicos\n",
    "\n",
    "Como vimos en la Unidad 1, las variables pueden contener diferentes tipos de datos. Hemos visto 2 de los 3 tipos básicos que utiliza python.\n",
    "Estos tipos básicos se dividen en:\n",
    "* **Números**\n",
    "* **Cadenas de texto**\n",
    "* **Booleanos**:  una variable de tipo booleano sólo puede tener dos valores: True (cierto) y False (falso). Estos\n",
    "valores son especialmente importantes para las expresiones condicionales y los bucles, como veremos más adelante.\n",
    "Veamos algunos ejemplos de estos tipos de datos, valiendonos de la función type() que vimos en la unidad anterior:\n"
   ]
  },
  {
   "cell_type": "markdown",
   "metadata": {},
   "source": [
    "## Números\n",
    "\n",
    "Los cuales como vimos pueden ser enteros, de coma flotante ó complejos."
   ]
  },
  {
   "cell_type": "code",
   "execution_count": 4,
   "metadata": {
    "collapsed": false
   },
   "outputs": [
    {
     "data": {
      "text/plain": [
       "int"
      ]
     },
     "execution_count": 4,
     "metadata": {},
     "output_type": "execute_result"
    }
   ],
   "source": [
    "a = 4\n",
    "type(a)"
   ]
  },
  {
   "cell_type": "markdown",
   "metadata": {},
   "source": [
    "En este caso vemos que **a** es de tipo **int** (entero) lo que corresponde al tipo básico \"números\", y subtipo **enteros**"
   ]
  },
  {
   "cell_type": "code",
   "execution_count": 5,
   "metadata": {
    "collapsed": false
   },
   "outputs": [
    {
     "data": {
      "text/plain": [
       "float"
      ]
     },
     "execution_count": 5,
     "metadata": {},
     "output_type": "execute_result"
    }
   ],
   "source": [
    "b = 4.12\n",
    "type(b)"
   ]
  },
  {
   "cell_type": "markdown",
   "metadata": {},
   "source": [
    "En el caso de la variable **b**, esta es del tipo básico \"número\", y del subtipo **coma flotante**."
   ]
  },
  {
   "cell_type": "code",
   "execution_count": 6,
   "metadata": {
    "collapsed": false
   },
   "outputs": [
    {
     "data": {
      "text/plain": [
       "complex"
      ]
     },
     "execution_count": 6,
     "metadata": {},
     "output_type": "execute_result"
    }
   ],
   "source": [
    "c= 4+5j\n",
    "type(c)"
   ]
  },
  {
   "cell_type": "markdown",
   "metadata": {},
   "source": [
    "La variable **c** es del tipo básico número, y del subtipo **Complejo**"
   ]
  },
  {
   "cell_type": "markdown",
   "metadata": {},
   "source": [
    "##Cadenas de texto\n",
    "\n",
    "Tal como hemos visto en la unidad anterior, las cadenas (string en inglés ó str) no son más que texto encerrado entre comillas simples\n",
    "(‘cadena’), dobles (“cadena”) ó triples('''Cadenas multilíneas''').\n",
    "Por ejemplo:"
   ]
  },
  {
   "cell_type": "code",
   "execution_count": 12,
   "metadata": {
    "collapsed": false
   },
   "outputs": [
    {
     "data": {
      "text/plain": [
       "str"
      ]
     },
     "execution_count": 12,
     "metadata": {},
     "output_type": "execute_result"
    }
   ],
   "source": [
    "a = 'El futuro mostrará los resultados y juzgará a cada uno de acuerdo a sus logros (Nikola Tesla)'\n",
    "type(a)"
   ]
  },
  {
   "cell_type": "code",
   "execution_count": 15,
   "metadata": {
    "collapsed": false
   },
   "outputs": [
    {
     "data": {
      "text/plain": [
       "str"
      ]
     },
     "execution_count": 15,
     "metadata": {},
     "output_type": "execute_result"
    }
   ],
   "source": [
    "b = \"En realidad no me preocupa que quieran robar mis ideas, me preocupa que ellos no las tengan (Nikola Tesla)\"\n",
    "type(b)"
   ]
  },
  {
   "cell_type": "code",
   "execution_count": 16,
   "metadata": {
    "collapsed": false
   },
   "outputs": [
    {
     "data": {
      "text/plain": [
       "str"
      ]
     },
     "execution_count": 16,
     "metadata": {},
     "output_type": "execute_result"
    }
   ],
   "source": [
    "c = '''Un instrumento de poco costo y no más grande que un reloj, permitirá a su portador escuchar en \n",
    "cualquier parte, ya sea en el mar o en la tierra, música, canciones o un discurso de un líder político, \n",
    "dictado en cualquier otro sitio distante. Del mismo modo, cualquier dibujo o impresión podrá ser \n",
    "transferida de un lugar a otro (Nikola Tesla, ~ año 1891).\n",
    "'''\n",
    "type(c)"
   ]
  },
  {
   "cell_type": "markdown",
   "metadata": {},
   "source": [
    "## Booleanos\n",
    "\n",
    "Una variable de tipo booleano sólo puede tener dos valores: True (cierto) y False (falso). Estos valores son especialmente importantes para las expresiones condicionales y los bucles, como veremos más adelante. Pero veamos algunos ejemplos:\n"
   ]
  },
  {
   "cell_type": "code",
   "execution_count": 24,
   "metadata": {
    "collapsed": false
   },
   "outputs": [
    {
     "data": {
      "text/plain": [
       "bool"
      ]
     },
     "execution_count": 24,
     "metadata": {},
     "output_type": "execute_result"
    }
   ],
   "source": [
    "a = True\n",
    "type(a)"
   ]
  },
  {
   "cell_type": "code",
   "execution_count": 23,
   "metadata": {
    "collapsed": false
   },
   "outputs": [
    {
     "data": {
      "text/plain": [
       "bool"
      ]
     },
     "execution_count": 23,
     "metadata": {},
     "output_type": "execute_result"
    }
   ],
   "source": [
    "b = False\n",
    "type(b)"
   ]
  },
  {
   "cell_type": "code",
   "execution_count": 30,
   "metadata": {
    "collapsed": false
   },
   "outputs": [
    {
     "name": "stdout",
     "output_type": "stream",
     "text": [
      "True\n"
     ]
    }
   ],
   "source": [
    "c = 10 > 2\n",
    "print c"
   ]
  },
  {
   "cell_type": "markdown",
   "metadata": {},
   "source": [
    "En este último ejemplo vemos algo particular, hemos asignado a la variable **c** el resultado de una expresión lógica (10 > 2). Python en este caso, opera con la misma y termina asignando a la variable **c** el resultado de dicha operación, la cual en este caso es verdadera (True), dado que 10 es mayor que 2. Al tratarse se una operación lógica, el resultado siempre será de tipo booleando, es decir, será verdadero o será falso."
   ]
  },
  {
   "cell_type": "code",
   "execution_count": 36,
   "metadata": {
    "collapsed": false
   },
   "outputs": [
    {
     "data": {
      "text/plain": [
       "bool"
      ]
     },
     "execution_count": 36,
     "metadata": {},
     "output_type": "execute_result"
    }
   ],
   "source": [
    "type(c)"
   ]
  },
  {
   "cell_type": "markdown",
   "metadata": {},
   "source": [
    "Veamos otro ejemplo:"
   ]
  },
  {
   "cell_type": "code",
   "execution_count": 32,
   "metadata": {
    "collapsed": false
   },
   "outputs": [
    {
     "name": "stdout",
     "output_type": "stream",
     "text": [
      "True\n"
     ]
    }
   ],
   "source": [
    "d = (10*22.6+2265**2)>(2123*2/4321*8)\n",
    "print c"
   ]
  },
  {
   "cell_type": "code",
   "execution_count": 33,
   "metadata": {
    "collapsed": false
   },
   "outputs": [
    {
     "data": {
      "text/plain": [
       "bool"
      ]
     },
     "execution_count": 33,
     "metadata": {},
     "output_type": "execute_result"
    }
   ],
   "source": [
    "type(d)"
   ]
  },
  {
   "cell_type": "markdown",
   "metadata": {},
   "source": [
    "# Estructuras de control\n",
    "\n",
    "Las acciones ejecutadas por un programa muchas veces requieren de condiciones que permitan tomar decisiones sobre las instrucciones a ejecutar.\n",
    "\n",
    "## Condicionales\n",
    "\n",
    "### if\n",
    "\n",
    "### else\n",
    "\n",
    "### Estructuras anidadas\n",
    "\n",
    "### elif\n",
    "\n",
    "## Repeticiones\n",
    "\n",
    "### while\n",
    "\n",
    "## Ejercicios\n",
    "\n"
   ]
  },
  {
   "cell_type": "code",
   "execution_count": 2,
   "metadata": {
    "collapsed": false
   },
   "outputs": [
    {
     "name": "stdout",
     "output_type": "stream",
     "text": [
      "(1, 'es impar')\n",
      "(2, 'es par')\n",
      "(3, 'es impar')\n",
      "(4, 'es par')\n",
      "(5, 'es impar')\n",
      "(6, 'es par')\n",
      "(7, 'es impar')\n",
      "(8, 'es par')\n",
      "(9, 'es impar')\n"
     ]
    }
   ],
   "source": [
    "for i in range(1,10):\n",
    "    if i%2==0:\n",
    "        print(i,\"es par\")\n",
    "    else:\n",
    "        print(i, \"es impar\")"
   ]
  },
  {
   "cell_type": "code",
   "execution_count": null,
   "metadata": {
    "collapsed": false
   },
   "outputs": [],
   "source": []
  }
 ],
 "metadata": {
  "kernelspec": {
   "display_name": "Python 2",
   "language": "python",
   "name": "python2"
  },
  "language_info": {
   "codemirror_mode": {
    "name": "ipython",
    "version": 2
   },
   "file_extension": ".py",
   "mimetype": "text/x-python",
   "name": "python",
   "nbconvert_exporter": "python",
   "pygments_lexer": "ipython2",
   "version": "2.7.6"
  }
 },
 "nbformat": 4,
 "nbformat_minor": 0
}
