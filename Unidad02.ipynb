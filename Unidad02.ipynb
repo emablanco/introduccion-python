{
 "metadata": {
  "name": "",
  "signature": "sha256:15d6c2362670c7e61ddf7d895e5b269ba88586277c07d6e82ed62c642419f043"
 },
 "nbformat": 3,
 "nbformat_minor": 0,
 "worksheets": [
  {
   "cells": [
    {
     "cell_type": "markdown",
     "metadata": {},
     "source": [
      "# Control de flujo"
     ]
    }
   ],
   "metadata": {}
  }
 ]
}