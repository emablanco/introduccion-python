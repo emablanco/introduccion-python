{
 "metadata": {
  "name": "",
  "signature": "sha256:7a094e9e60089ed7172b6e9e1a9960ba3a7580fe674752fa2fde6ac9c2687113"
 },
 "nbformat": 3,
 "nbformat_minor": 0,
 "worksheets": [
  {
   "cells": [
    {
     "cell_type": "markdown",
     "metadata": {},
     "source": [
      "# Estructuras de control\n",
      "\n",
      "## Condicionales\n",
      "\n",
      "### if\n",
      "\n",
      "### else\n",
      "\n",
      "### Estructuras anidadas\n",
      "\n",
      "### elif\n",
      "\n",
      "## Repeticiones\n",
      "\n",
      "### while\n",
      "\n",
      "## Ejercicios\n",
      "\n"
     ]
    },
    {
     "cell_type": "code",
     "collapsed": false,
     "input": [
      "for i in range(1,10):\n",
      "    if i%2==0:\n",
      "        print(i,\"es par\")\n",
      "    else:\n",
      "        print(i, \"es impar\")"
     ],
     "language": "python",
     "metadata": {},
     "outputs": [
      {
       "output_type": "stream",
       "stream": "stdout",
       "text": [
        "1 es impar\n",
        "2 es par\n",
        "3 es impar\n",
        "4 es par\n",
        "5 es impar\n",
        "6 es par\n",
        "7 es impar\n",
        "8 es par\n",
        "9 es impar\n"
       ]
      }
     ],
     "prompt_number": 2
    },
    {
     "cell_type": "code",
     "collapsed": false,
     "input": [],
     "language": "python",
     "metadata": {},
     "outputs": []
    }
   ],
   "metadata": {}
  }
 ]
}