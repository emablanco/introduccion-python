{
 "cells": [
  {
   "cell_type": "markdown",
   "metadata": {},
   "source": [
    "**Introducción al Desarrollo de Software - TuSL**"
   ]
  },
  {
   "cell_type": "markdown",
   "metadata": {},
   "source": [
    "**1-** Realice un programa donde un apostador elija 6 números de entre el 0 y 45 (incluídos ambos) sin repetir ninguno y luego simule que se sacan de un bolillero 6 números en el mismo rango. Determine mediante el programa en cuántas veces se logra sacar las mismas bolillas que el apostador eligió."
   ]
  },
  {
   "cell_type": "markdown",
   "metadata": {},
   "source": [
    "**2-** Programe una función que reciba 4 argumentos correspondientes a dos cartas de truco. Se recibe por cada carta un número y una cadena de caracteres corresponiente al palo. por ej: \"espada\", 1, \"espada\", 7 donde los dos primeros se corresponden a la carta 1 de espada y los dos argumentos siguientes a la carta 7 de espada.  La función debe retornar cuántos puntos de envído ha sumado. Dos cartas del mismo palo suman 20 independientemente de sus valores, luego la suma de cada uno, para el ejemplo los puntos serían 28. Hay algunos casos particulares como las cartas 10, 11 y 12 que suman 0 puntos, así por ejemplo un 10 y un 7 de oro suman 27 puntos (20 + 0 + 7)."
   ]
  },
  {
   "cell_type": "markdown",
   "metadata": {},
   "source": [
    "**3-** Haga un programa que elija al azar cuatro cartas de truco (palo y número) diferentes (dos para cada jugador) y usando la función programada en el inciso previo determine un ganador. "
   ]
  },
  {
   "cell_type": "markdown",
   "metadata": {},
   "source": [
    "**4-** Indique la salida de los siguientes ciclos"
   ]
  },
  {
   "cell_type": "code",
   "execution_count": null,
   "metadata": {},
   "outputs": [],
   "source": [
    "for i in range(10,6,-1):\n",
    "    print(2*i)"
   ]
  },
  {
   "cell_type": "code",
   "execution_count": null,
   "metadata": {},
   "outputs": [],
   "source": [
    "for i in range(4):\n",
    "    for j in range(3):\n",
    "        print(f\"{i}:{j}\")"
   ]
  },
  {
   "cell_type": "markdown",
   "metadata": {},
   "source": [
    "**5-** Explique el funcionamiento del siguiente programa, qué elementos tiene, cuándo finaliza, etc?"
   ]
  },
  {
   "cell_type": "code",
   "execution_count": null,
   "metadata": {},
   "outputs": [],
   "source": [
    "nom = input(\"Nombre: \")\n",
    "while nom != \"Eduardo Galeano\":\n",
    "    nom = input(\"Nombre: \")"
   ]
  },
  {
   "cell_type": "markdown",
   "metadata": {},
   "source": [
    "**6-** Sea L una lista de elementos, ¿muestre dos maneras diferentes de imprimir en pantalla el último elemento?"
   ]
  },
  {
   "cell_type": "markdown",
   "metadata": {},
   "source": [
    "**7-** Muestre los primeros 10 números pares usando dos formas distintas: un ciclo ``while`` y un ciclo ``for``."
   ]
  },
  {
   "cell_type": "markdown",
   "metadata": {},
   "source": [
    "**8-** ¿De qué manera leería todos los renglones de un archivo y los almacenaría en una lista?\n",
    "\n",
    "- ```f = open(\"archi.txt\", \"r\")```\n",
    "- ```m = f.readlines()```\n",
    "- ```m = r.read()```"
   ]
  },
  {
   "cell_type": "markdown",
   "metadata": {},
   "source": [
    "**9-** Marque las acciones que unen en una tercera lista (L) el contenido de otras dos listas (A y B)\n",
    "\n",
    "- ```L = A + B```\n",
    "- ```L = [A] + [B]```\n",
    "- .\n",
    "```python\n",
    "L = []\n",
    "for i in A:\n",
    "    L.append(i)\n",
    "for i in B:\n",
    "    L.append(i)\n",
    "```\n",
    "    "
   ]
  },
  {
   "cell_type": "markdown",
   "metadata": {},
   "source": [
    "**10-** Explique en forma resumida lo que entiende por cada uno de los siguientes elementos de un programa:\n",
    "\n",
    "- Variables\n",
    "- Listas\n",
    "- Condicionales\n",
    "- Ciclos iterativos\n",
    "- Funciones\n",
    "- True\n",
    "- str\n",
    "- while\n",
    "- for\n",
    "- []"
   ]
  },
  {
   "cell_type": "code",
   "execution_count": null,
   "metadata": {},
   "outputs": [],
   "source": []
  }
 ],
 "metadata": {
  "kernelspec": {
   "display_name": "Python 3",
   "language": "python",
   "name": "python3"
  },
  "language_info": {
   "codemirror_mode": {
    "name": "ipython",
    "version": 3
   },
   "file_extension": ".py",
   "mimetype": "text/x-python",
   "name": "python",
   "nbconvert_exporter": "python",
   "pygments_lexer": "ipython3",
   "version": "3.7.1"
  }
 },
 "nbformat": 4,
 "nbformat_minor": 2
}
