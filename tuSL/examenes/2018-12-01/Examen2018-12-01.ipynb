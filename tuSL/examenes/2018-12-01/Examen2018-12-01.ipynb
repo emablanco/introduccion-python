{
 "cells": [
  {
   "cell_type": "markdown",
   "metadata": {},
   "source": [
    "**Examen final 01/12/2018 - Intruducción al desarrollo de software - Tec. Univ. en Software Libre - FICH/UNL**\n",
    "\n",
    "**Ejercicio 1:** El juego \"La Generala\" consiste en tirar cinco dados y establecer el puntaje de la jugada. De las posibles, la escalera es cuando suceden algunas de las tres secuencias: \n",
    "\n",
    "- 1-2-3-4-5\n",
    "- 2-3-4-5-6\n",
    "\n",
    "En el siguiente programa se simula el lanzamiento de los 5 dados y se corrobora si la jugada fue escalera."
   ]
  },
  {
   "cell_type": "code",
   "execution_count": null,
   "metadata": {},
   "outputs": [],
   "source": [
    "import random\n",
    "\n",
    "# las tres posibles escaleras\n",
    "escalera1 = [1,2,3,4,5]\n",
    "escalera2 = [2,3,4,5,6]\n",
    "\n",
    "# genera 5 dados al azar y almacena en lista\n",
    "dados_lanzados = []\n",
    "for i in range(5):\n",
    "    dados_lanzados.append(random.randint(1,6))\n",
    "\n",
    "# ordeno los dados\n",
    "dados_lanzados.sort()\n",
    "\n",
    "# corroboro si fue escalera\n",
    "if dados_lanzados in (escalera1, escalera2):\n",
    "    print(\"Escalera!!!\")"
   ]
  },
  {
   "cell_type": "markdown",
   "metadata": {},
   "source": [
    "**a)** Modifique el programa anterior haciendo que el fragmento de código que se encuentra entre las líneas ``8`` y ``14`` esté en una función\n",
    "\n",
    "**b)** La generala servida es cuando todos los dados lanzados fueron iguales, y se gana el partido. Agregue al programa anterior una nueva condición donde se corrobore esto y se informe al jugador en caso de haber ganado.\n",
    "\n",
    "**c)** El poker es cuando 4 de los dados fueron iguales, implemente este código agregándolo al programa previo, de manera que se informe al jugador si obtuvo esta jugada."
   ]
  },
  {
   "cell_type": "markdown",
   "metadata": {},
   "source": [
    "**Ejercicio 2:** Programe 2 maneras diferentes de hacer un ciclo que muestre los números pares entre sel 1 al 20. \n",
    "\n",
    "**Ejercicio 3:** Indique la línea donde encuentra un error o errorees en los siguientes fragmentos de código y proponga una solución:"
   ]
  },
  {
   "cell_type": "code",
   "execution_count": null,
   "metadata": {},
   "outputs": [],
   "source": [
    "temperatura = 8\n",
    "if 5 > temperatura > 10:\n",
    "    print(\"que fresquete!\")"
   ]
  },
  {
   "cell_type": "code",
   "execution_count": null,
   "metadata": {},
   "outputs": [],
   "source": [
    "volumen = 10\n",
    "if 0 < volumen < 5:\n",
    "    print(\"Bajo\")\n",
    "elif  5 <= volumen < 10\n",
    "    print(Medio)\n",
    "else\n",
    "    print(\"Alto\")"
   ]
  },
  {
   "cell_type": "code",
   "execution_count": null,
   "metadata": {},
   "outputs": [],
   "source": [
    "lista = [1,2,3,4,5,6]\n",
    "for i is lista:\n",
    "    print(i*i)"
   ]
  },
  {
   "cell_type": "code",
   "execution_count": null,
   "metadata": {},
   "outputs": [],
   "source": [
    "i = 10\n",
    "while i>0:\n",
    "    print(i)\n",
    "    i += 1"
   ]
  },
  {
   "cell_type": "code",
   "execution_count": 1,
   "metadata": {},
   "outputs": [
    {
     "name": "stdout",
     "output_type": "stream",
     "text": [
      "ingrese un valor (0 finaliza)0\n",
      "continuar\n"
     ]
    }
   ],
   "source": [
    "dato = input(\"ingrese un valor (0 finaliza)\")\n",
    "if dato != 0:\n",
    "    print(\"continuar\")\n",
    "else:\n",
    "    print(\"programa finalizado\")"
   ]
  },
  {
   "cell_type": "markdown",
   "metadata": {},
   "source": [
    "**Ejercicio 4:** Utilizando algún ciclo repetitivo realice un programa por cada una de las siguientes salidas:\n",
    "\n",
    "- -10 -8 -6 -4 -2 0\n",
    "- 1 3 5 7 9 11 13\n",
    "- -10 8 -6 4 -2 0"
   ]
  },
  {
   "cell_type": "markdown",
   "metadata": {},
   "source": [
    "**Ejercicio 5:** **a)** Realice un programa genere un archivo de mil líneas con nombres de 5 personas seleccionadas al azar junto a un número aleatorio correspondiente a alguna evaluación (entre 0 y 100). Por ejemplo:\n",
    "\n",
    "```\n",
    "Marcia 100\n",
    "Eduardo 80\n",
    "Alejandro 87\n",
    "Juana 29\n",
    "Marcia 99\n",
    "Pedro 88\n",
    "```\n",
    "\n",
    "**b)** En otro programa lea el archivo generado previamente para calcular el promedio de cada persona y muéstrelo por pantalla.\n"
   ]
  },
  {
   "cell_type": "markdown",
   "metadata": {},
   "source": [
    "**Ejercicio 6:** En el siguiente fragmento de código se genera una fecha en forma aleatoria, pero no controla que sea válida, por ejemplo que sea 29 de febrero o 31 de abril. Haga una modificación para que muestre la fecha solamente si es válida. AYUDA: use ``if``s para corroborar día y mes."
   ]
  },
  {
   "cell_type": "code",
   "execution_count": 13,
   "metadata": {},
   "outputs": [
    {
     "name": "stdout",
     "output_type": "stream",
     "text": [
      "Fecha generada: 4/10/1804\n"
     ]
    }
   ],
   "source": [
    "import random \n",
    "\n",
    "dia = random.randint(1,31)\n",
    "mes = random.randint(1,12)\n",
    "anio = random.randint(1800,2100)\n",
    "\n",
    "fecha = str(dia) + \"/\" + str(mes) + \"/\" +str(anio)\n",
    "\n",
    "print(\"Fecha generada:\", fecha)"
   ]
  },
  {
   "cell_type": "code",
   "execution_count": null,
   "metadata": {},
   "outputs": [],
   "source": []
  }
 ],
 "metadata": {
  "kernelspec": {
   "display_name": "Python 3",
   "language": "python",
   "name": "python3"
  },
  "language_info": {
   "codemirror_mode": {
    "name": "ipython",
    "version": 3
   },
   "file_extension": ".py",
   "mimetype": "text/x-python",
   "name": "python",
   "nbconvert_exporter": "python",
   "pygments_lexer": "ipython3",
   "version": "3.6.6"
  },
  "toc": {
   "nav_menu": {},
   "number_sections": true,
   "sideBar": true,
   "skip_h1_title": false,
   "title_cell": "Tabla de Contenidos",
   "title_sidebar": "Contenido",
   "toc_cell": false,
   "toc_position": {},
   "toc_section_display": true,
   "toc_window_display": false
  }
 },
 "nbformat": 4,
 "nbformat_minor": 2
}
