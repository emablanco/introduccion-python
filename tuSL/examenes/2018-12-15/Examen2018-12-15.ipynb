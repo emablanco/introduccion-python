{
 "cells": [
  {
   "cell_type": "markdown",
   "metadata": {},
   "source": [
    "**Examen final 15/12/2018 - Intruducción al desarrollo de software - Tec. Univ. en Software Libre - FICH/UNL**\n",
    "\n",
    "**Ejercicio 1:** El juego \"La Generala\" consiste en tirar cinco dados y establecer el puntaje de la jugada. De las posibles, la escalera es cuando suceden algunas de las tres secuencias: \n",
    "\n",
    "- 1-2-3-4-5\n",
    "- 2-3-4-5-6\n",
    "\n",
    "Corroborar si la jugada fue escalera."
   ]
  },
  {
   "cell_type": "code",
   "execution_count": 25,
   "metadata": {},
   "outputs": [],
   "source": [
    "import random\n",
    "\n",
    "# las tres posibles escaleras\n",
    "escalera1 = [1,2,3,4,5]\n",
    "escalera2 = [2,3,4,5,6]\n",
    "\n",
    "# genera 5 dados al azar y almacena en lista\n",
    "dados_lanzados = []\n",
    "for i in range(5):\n",
    "    dados_lanzados.append(random.randint(1,6))\n",
    "\n",
    "# ordeno los dados\n",
    "dados_lanzados.sort()\n",
    "\n",
    "# corroborar si fue escalera\n"
   ]
  },
  {
   "cell_type": "markdown",
   "metadata": {},
   "source": [
    "**a)** La generala servida es cuando todos los dados lanzados fueron iguales, y se gana el partido. Agregue al programa anterior una nueva condición donde se corrobore esto y se informe al jugador en caso de haber ganado.\n",
    "\n",
    "**b)** El poker es cuando 4 de los dados fueron iguales, implemente este código agregándolo al programa previo, de manera que se informe al jugador si obtuvo esta jugada."
   ]
  },
  {
   "cell_type": "markdown",
   "metadata": {},
   "source": [
    "**Ejercicio 2:** Replique el primer ciclo pero usando un *while* y el segundo usando un *for*"
   ]
  },
  {
   "cell_type": "code",
   "execution_count": 5,
   "metadata": {},
   "outputs": [
    {
     "name": "stdout",
     "output_type": "stream",
     "text": [
      "10\n",
      "9\n",
      "8\n",
      "7\n",
      "6\n",
      "5\n",
      "4\n",
      "3\n",
      "2\n"
     ]
    }
   ],
   "source": [
    "# primer ciclo\n",
    "for i in range(10,1,-1):\n",
    "    print(i)"
   ]
  },
  {
   "cell_type": "code",
   "execution_count": 4,
   "metadata": {},
   "outputs": [
    {
     "name": "stdout",
     "output_type": "stream",
     "text": [
      "0\n",
      "-1\n",
      "2\n",
      "-3\n",
      "4\n",
      "-5\n",
      "6\n",
      "-7\n",
      "8\n",
      "-9\n"
     ]
    }
   ],
   "source": [
    "# segundo ciclo\n",
    "i = 0\n",
    "while i<10:\n",
    "    print(i*(-1)**i)\n",
    "    i += 1"
   ]
  },
  {
   "cell_type": "markdown",
   "metadata": {},
   "source": [
    "**Ejercicio 3:** Indique la línea donde encuentra un error o errorees en los siguientes fragmentos de código y proponga una solución:"
   ]
  },
  {
   "cell_type": "code",
   "execution_count": null,
   "metadata": {},
   "outputs": [],
   "source": [
    "temperatura = 8\n",
    "if temperatura > 10 and temperatura < 5:\n",
    "    print(\"que fresquete!\")"
   ]
  },
  {
   "cell_type": "code",
   "execution_count": 6,
   "metadata": {},
   "outputs": [
    {
     "ename": "IndentationError",
     "evalue": "unexpected indent (<ipython-input-6-0c0031a84be8>, line 5)",
     "output_type": "error",
     "traceback": [
      "\u001b[0;36m  File \u001b[0;32m\"<ipython-input-6-0c0031a84be8>\"\u001b[0;36m, line \u001b[0;32m5\u001b[0m\n\u001b[0;31m    print(\"Medio\")\u001b[0m\n\u001b[0m    ^\u001b[0m\n\u001b[0;31mIndentationError\u001b[0m\u001b[0;31m:\u001b[0m unexpected indent\n"
     ]
    }
   ],
   "source": [
    "volumen = 10\n",
    "if 0 < volumen < 5:\n",
    "    print(\"Bajo\")\n",
    "else:  5 <= volumen < 10\n",
    "    print(\"Medio\")\n",
    "elif:\n",
    "    print(\"Alto\")"
   ]
  },
  {
   "cell_type": "code",
   "execution_count": null,
   "metadata": {},
   "outputs": [],
   "source": [
    "lista = [1,2,3,4,5,6]\n",
    "for in i lista:\n",
    "    print(i*i)"
   ]
  },
  {
   "cell_type": "code",
   "execution_count": null,
   "metadata": {},
   "outputs": [],
   "source": [
    "i = 10\n",
    "while i>0:\n",
    "    print(i)\n",
    "    i += 1"
   ]
  },
  {
   "cell_type": "code",
   "execution_count": null,
   "metadata": {},
   "outputs": [],
   "source": [
    "dato = input(\"ingrese un valor (0 finaliza)\")\n",
    "if dato != 0:\n",
    "    print(\"continuar\")\n",
    "else:\n",
    "    print(\"programa finalizado\")"
   ]
  },
  {
   "cell_type": "markdown",
   "metadata": {},
   "source": [
    "**Ejercicio 4:** Utilizando algún ciclo repetitivo realice un programa que produzca exactamente las siguientes salidas:\n",
    "\n",
    "- a) 1 22 333 4444 55555\n",
    "- b) n110,e101,s115,t116,a97,"
   ]
  },
  {
   "cell_type": "markdown",
   "metadata": {},
   "source": [
    "**Ejercicio 5:** **a)** Realice un programa genere un archivo de 2 mil líneas con un nombre al azar por línea, de tres posibles.\n",
    "\n",
    "**b)** En otro programa lea el archivo generado previamente y muestre cuantas veces aparece cada nombre.\n"
   ]
  },
  {
   "cell_type": "markdown",
   "metadata": {},
   "source": [
    "**Ejercicio 6:** En el siguiente fragmento de código se genera una fecha en forma aleatoria, y la muestra en caso que sea válida o da un mensaje alusivo en caso contrario (por ejemplo 29 de febrero o 31 de abril). Haga una modificación al programa para extenderlo a que genere y muestre lo mismo pero para 100 fechas."
   ]
  },
  {
   "cell_type": "code",
   "execution_count": 24,
   "metadata": {},
   "outputs": [
    {
     "name": "stdout",
     "output_type": "stream",
     "text": [
      "Fecha generada: 23/10/1805\n"
     ]
    }
   ],
   "source": [
    "import random \n",
    "\n",
    "dia = random.randint(1,31)\n",
    "mes = random.randint(1,12)\n",
    "anio = random.randint(1800,2100)\n",
    "\n",
    "cantdias = {1:31, 2:28, 3:31, 4:30, 5:31, 6:30, 7:31, 8:31, 9:30, 10:31, 11:30, 12:31}\n",
    "\n",
    "fecha = str(dia) + \"/\" + str(mes) + \"/\" +str(anio)\n",
    "\n",
    "if dia <= cantdias[mes]:\n",
    "    print(\"Fecha generada:\", fecha)\n",
    "else:\n",
    "    print(\"Fecha inválida\")"
   ]
  },
  {
   "cell_type": "code",
   "execution_count": null,
   "metadata": {},
   "outputs": [],
   "source": []
  }
 ],
 "metadata": {
  "kernelspec": {
   "display_name": "Python 3",
   "language": "python",
   "name": "python3"
  },
  "language_info": {
   "codemirror_mode": {
    "name": "ipython",
    "version": 3
   },
   "file_extension": ".py",
   "mimetype": "text/x-python",
   "name": "python",
   "nbconvert_exporter": "python",
   "pygments_lexer": "ipython3",
   "version": "3.6.6"
  },
  "toc": {
   "nav_menu": {},
   "number_sections": true,
   "sideBar": true,
   "skip_h1_title": false,
   "title_cell": "Tabla de Contenidos",
   "title_sidebar": "Contenido",
   "toc_cell": false,
   "toc_position": {},
   "toc_section_display": true,
   "toc_window_display": false
  }
 },
 "nbformat": 4,
 "nbformat_minor": 2
}
