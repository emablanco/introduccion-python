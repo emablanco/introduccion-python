{
 "cells": [
  {
   "cell_type": "markdown",
   "metadata": {},
   "source": [
    "## Ejercicios\n",
    "1 . Escriba una función que reciba como parámetro la temperatura expresada en grados centígrados (ºC) e imprima en pantalla la misma temperatura en grados  Fahrenheit (ºF). Tenga en cuenta que la formula de conversión de Celsius a Fahrenheit es la siguiente: \n",
    "\n",
    "$$F = (9C/5.0) + 32$$\n",
    "\n",
    "2 . Escriba un programa que lea un archivo con temperaturas expresadas en grados centigrados, y que luego genere otro archivo que contenga dichas temperaturas pero expresadas en grado Fahrenheit. \n",
    "Como archivo de entrada, utilice el siguiente:\n",
    "\n",
    "    10 ºC\n",
    "    12.5 ºC\n",
    "    14.2 ºC \n",
    "    16.6 ºC\n",
    "    18.2 ºC\n",
    "    20.1 ºC\n",
    "    26.8 ºC\n",
    "    22.6 ºC\n",
    "    20.4 ºC\n",
    "    \n",
    "3 . Modifique el programa anterior para que soporte como entrada un archivo que no solo tiene la temperatura expresada en grados centígrados, sino que puede tener temperaturas expresadas en Fahrenheit o Kelvin, pero que siga generando un archivo de salida con las temperaturas en grados Fahrenheit.\n",
    "Para esto tenga en cuenta que la formula de conversión de Kelvin (ºK) a Fahrenheit (ºF) es la siguiente: \n",
    "\n",
    "$$F = (9*(K-273.15)/5.0) + 32$$\n",
    "\n",
    "Utilice el siguiente archivo de temperaturas de entradas:\n",
    "\n",
    "    50 ºF\n",
    "    12.5 ºC\n",
    "    287.35 ºK \n",
    "    16.6 ºC\n",
    "    291.35 ºK\n",
    "    20.1 ºC\n",
    "    299.95 ºK\n",
    "    22.6 ºF\n",
    "    20.4 ºC"
   ]
  }
 ],
 "metadata": {
  "kernelspec": {
   "display_name": "Python 3",
   "language": "python",
   "name": "python3"
  },
  "language_info": {
   "codemirror_mode": {
    "name": "ipython",
    "version": 3
   },
   "file_extension": ".py",
   "mimetype": "text/x-python",
   "name": "python",
   "nbconvert_exporter": "python",
   "pygments_lexer": "ipython3",
   "version": "3.4.2"
  }
 },
 "nbformat": 4,
 "nbformat_minor": 0
}
