{
 "metadata": {
  "name": "",
  "signature": "sha256:6e699faf2af670ed12ccd6588c051339b20637a26263b78c7108266d6fc2181d"
 },
 "nbformat": 3,
 "nbformat_minor": 0,
 "worksheets": [
  {
   "cells": [
    {
     "cell_type": "markdown",
     "metadata": {},
     "source": [
      "# Conceptos b\u00e1sicos\n",
      "Docente: Emiliano L\u00f3pez (emiliano [dot] lopez [at] gmail [dot] com)\n",
      "\n",
      "En el presente cap\u00edtulo introduciremos los conceptos necesarios para desarrollar los primeros algoritmos computacionales. Adem\u00e1s, se explican las herramientas necesarias para llevar a cabo el desarrollo y sus diferentes alternativas.\n",
      "\n",
      "## Motivaci\u00f3n\n",
      "\n",
      "## Instalaci\u00f3n\n",
      "\n",
      "Tenemos diferentes herramientas donde desarrollar y ejecutar nuestros programas. A lo largo del curso vamos a utilizar los siguientes:\n",
      "\n",
      "* Interactivo\n",
      "* IPython Notebooks\n",
      "* IDE\n",
      "\n",
      "## El primer programa \"Adi\u00f3s Mundo!\"\n",
      "\n",
      "## Elementos de un programa\n",
      "\n",
      "### Variables\n",
      "\n",
      "### Operadores relacionales y l\u00f3gicos\n",
      "\n",
      "### Entrada y salida de datos\n",
      "\n",
      "## Ejercicios\n",
      "\n",
      "\n",
      "\n",
      "\n"
     ]
    },
    {
     "cell_type": "code",
     "collapsed": false,
     "input": [],
     "language": "python",
     "metadata": {},
     "outputs": []
    }
   ],
   "metadata": {}
  }
 ]
}