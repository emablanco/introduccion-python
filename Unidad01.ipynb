{
 "metadata": {
  "name": "",
  "signature": "sha256:29535dd57775954ebecd310c51de5b905490388c070e90f48e238db9d50b5e5f"
 },
 "nbformat": 3,
 "nbformat_minor": 0,
 "worksheets": [
  {
   "cells": [
    {
     "cell_type": "markdown",
     "metadata": {},
     "source": [
      "# Introducci\u00f3n\n",
      "Docente: Emiliano L\u00f3pez (emiliano [dot] lopez [at] gmail [dot] com)\n",
      "\n",
      "En el presente cap\u00edtulo introduciremos los conceptos necesarios para desarrollar los primeros algoritmos computacionales. Adem\u00e1s, se explican las herramientas necesarias para llevar a cabo el desarrollo y sus diferentes alternativas.\n",
      "\n",
      "## Instalando Python\n",
      "\n",
      "Actualmente existen dos versiones de Python com\u00fanmente utilizadas, la versi\u00f3n 2 y 3, ambas son completamente funcionales y muy utilizadas. En este curso nos basaremos en la versi\u00f3n 3.\n",
      "\n",
      "### Windows\n",
      "\n",
      "Para instalar Python en una m\u00e1quina con Windows, debemos seguir los siguientes pasos:\n",
      "\n",
      "* Apuntar el navegador a: https://www.python.org/downloads/windows/\n",
      "* Ir al link de la \u00faltima versi\u00f3n disponible (por ej: latest python 3 relase)\n",
      "* En la secci\u00f3n Files, descargar el instalador correspondiente a su arquitectura (64/32 bits), por ej: https://www.python.org/ftp/python/3.4.3/python-3.4.3.msi\n",
      "* Ejecutar el instalador (por ej: python-3.4.3.msi) aceptando las opciones por defecto\n",
      "\n",
      "\n",
      "### GNU/Linux\n",
      "\n",
      "En los sistemas operativos serios, es muy probable que ya contemos con el int\u00e9rprete instalado, incluso en sus dos versiones.  Para instalarlo utilizando los administradores de paquetes debemos ejecutar los siguientes comandos desde una terminal:\n",
      "\n",
      "Para sistemas basados en Debian (como Ubuntu o sus derivados):\n",
      "\n",
      "```bash\n",
      "apt-get install python3\n",
      "```\n",
      "## Entornos de programaci\u00f3n\n",
      "\n",
      "### El int\u00e9rprete interactivo \n",
      "\n",
      "Ya con el int\u00e9rprete de Python podemos comenzar programar. Si ejecutamos en una terminal `python3`, ingresaremos al int\u00e9rprete en modo interactivo y veremos una salida similar a la siguiente:\n",
      "\n",
      "```python\n",
      "Python 3.4.2 (default, Oct  8 2014, 10:45:20) \n",
      "[GCC 4.9.1] on linux\n",
      "Type \"help\", \"copyright\", \"credits\" or \"license\" for more information.\n",
      ">>>\n",
      "```\n",
      "Podemos ejecutar algunas operaciones matem\u00e1ticas para corroborar su funcionamiento.\n",
      "\n",
      "```python\n",
      ">>> 2*5\n",
      "10\n",
      ">>> 2*5+10\n",
      "20\n",
      ">>> -3*19+3.1415\n",
      "-53.8585\n",
      ">>> \n",
      "```\n",
      "\n",
      "### El int\u00e9rprete interactivo mejorado\n",
      "\n",
      "[IPython][1] es una interfaz mejorada del int\u00e9rprete nativo. Se lo puede utilizar en modo consola o a trav\u00e9s de una interfaz web. La instalaci\u00f3n en GNU/Linux es: `apt-get install ipython3`. \n",
      "\n",
      "La ejecuci\u00f3n de ipython desde una terminal nos arroja una pantalla similar a la siguiente:\n",
      "\n",
      "```python\n",
      "emiliano@pynandi:~ $ ipython3\n",
      "Python 3.4.2 (default, Oct  8 2014, 10:45:20) \n",
      "Type \"copyright\", \"credits\" or \"license\" for more information.\n",
      "\n",
      "IPython 2.3.0 -- An enhanced Interactive Python.\n",
      "?         -> Introduction and overview of IPython's features.\n",
      "%quickref -> Quick reference.\n",
      "help      -> Python's own help system.\n",
      "object?   -> Details about 'object', use 'object??' for extra details.\n",
      "\n",
      "In [1]: \n",
      "```\n",
      "Otra alternativa muy interesante son los notebooks de ipython, una interfaz que permite programar utilizando el navegador web como entorno. No entraremos en detalle ya que posteriormente analizaremos su funcionamiento. Se debe ejecutar en una terminal `ipython3 notebook` y esto abrir\u00e1 el navegador por defecto con el entorno cargado.\n",
      "\n",
      "## Entorno integrado de desarrollo (IDE)\n",
      "\n",
      "![](files/img/u1/ninja-ide.png)\n",
      "\n",
      "Un IDE es un entorno que nos facilita las tareas a la hora de programar. Consiste en la integraci\u00f3n de un editor de texto, con caracter\u00edsticas de resaltado de sintaxis autocompletado -entre otras-, y el int\u00e9rprete de Python. Existen cientos de entornos muy buenos, como por ejemplo [Spyder][2], [PyCharm][3] o [Ninja-IDE][4]. Para el presente curso, nos basaremos en Ninja-IDE, software libre que ha sido desarrollado por la comunidad de Python Argentina, [PyAr][5].\n",
      "\n",
      "Una lista bastante completa sobre las IDEs disponibles pueden encontrarse en la [wiki oficial de Python][6]\n",
      "\n",
      "[1]: http://ipython.org\n",
      "[2]: https://github.com/spyder-ide/spyder\n",
      "[3]: https://www.jetbrains.com/pycharm\n",
      "[4]: http://ninja-ide.org\n",
      "[5]: http://python.org.ar\n",
      "[6]: https://wiki.python.org/moin/IntegratedDevelopmentEnvironments\n",
      "\n",
      "## El primer programa \"Adi\u00f3s mundo!\"\n",
      "El acercamiento inicial a un lenguaje de programaci\u00f3n suele ser con el archiconocido programa \"Hola mundo\". Consiste simmplemente en un programa que muestra en pantalla ese mensaje. \n",
      "\n",
      "Renunciando a cualquier pretensi\u00f3n de originalidad comenzaremos del mismo modo, pero despidi\u00e9ndonos. Para esto utilizaremos la instrucci\u00f3n *print()* pasando el mensaje de despedida entre comillas, a continuaci\u00f3n la instrucci\u00f3n.\n",
      "\n",
      "```python\n",
      "print(\"Adios mundo cruel!\")\n",
      "```\n",
      "\n",
      "Podemos probar la intrucci\u00f3n directamente desde el int\u00e9rprete, creando con un editor de texto plano un archivo guardado como `chau.py` y luego ejecut\u00e1ndolo desde la terminal haciendo `python3 chau.py`, o bien utilizando un IDE y haciendo todo desde ah\u00ed mismo.\n",
      "\n",
      "Ahora bien, es much\u00edsimo m\u00e1s lo que podemos hacer programando adem\u00e1s de saludar cordialmente. Veamos los elementos de un programa que nos permitir\u00e1n realizar tareas m\u00e1s complejas y entretenidas.\n",
      "\n",
      "## Algoritmos computacionales\n",
      "\n",
      "En forma simplificada, un programa o software es un conjunto de instrucciones que la computadora puede ejecutar. Este procedimiento formado por un conjunto de instrucciones es lo que denominamos algoritmo computacional. Una analog\u00eda a un algoritmo computacional es una receta de cocina, por ejemplo:\n",
      "\n",
      "    Prender el fuego\n",
      "    Salar la carne\n",
      "    Controlar cada 5 minutos hasta que haya brasas\n",
      "    Poner la carne a la parrilla\n",
      "    Cocinar hasta que est\u00e9 la carne, controlar cada 5 minutos\n",
      "    Dar vuelta la carne\n",
      "    Cocinar hasta que est\u00e9 la carne, controlar cada 5 minutos\n",
      "    Si falta sal al probar, salar\n",
      "\n",
      "En esta receta se ven una serie de instrucciones que deben ser seguidas en un determinado orden, en algunos casos contamos con ingredientes, intrucciones, decisiones y acciones que se repiten. No muy distinto a un programa de computaci\u00f3n, comencemos con algunos *ingredientes* simples de Python y veamos lo que podemos hacer con ellos. \n",
      "\n",
      "## Elementos de un programa\n",
      "\n",
      "A continuaci\u00f3n veremos los ingredientes fundamentales de un lenguaje de programaci\u00f3n como Python, para llevar a cabo los ejemplos utilizaremos el int\u00e9rprete interactivo mejorado ipython.\n",
      "\n",
      "### N\u00fameros y expresiones\n",
      "\n",
      "Frecuentemente requerimos resolver c\u00e1lculos matem\u00e1ticos, las operaciones aritm\u00e9ticas b\u00e1sicas son:\n",
      "\n",
      "- adici\u00f3n: +\n",
      "- sustracci\u00f3n: -\n",
      "- multiplicaci\u00f3n: *\n",
      "- divisi\u00f3n: /\n",
      "- m\u00f3dulo: %\n",
      "- potencia: **\n",
      "- divisi\u00f3n entera: //\n",
      "\n",
      "Las operaciones se pueden agrupar con parentesis y tienen precedencia est\u00e1ndar. Veamos unos ejemplos.\n"
     ]
    },
    {
     "cell_type": "code",
     "collapsed": false,
     "input": [
      "1/3"
     ],
     "language": "python",
     "metadata": {},
     "outputs": [
      {
       "metadata": {},
       "output_type": "pyout",
       "prompt_number": 3,
       "text": [
        "0.3333333333333333"
       ]
      }
     ],
     "prompt_number": 3
    },
    {
     "cell_type": "code",
     "collapsed": false,
     "input": [
      "1//3"
     ],
     "language": "python",
     "metadata": {},
     "outputs": [
      {
       "metadata": {},
       "output_type": "pyout",
       "prompt_number": 6,
       "text": [
        "0"
       ]
      }
     ],
     "prompt_number": 6
    },
    {
     "cell_type": "code",
     "collapsed": false,
     "input": [
      "10%3"
     ],
     "language": "python",
     "metadata": {},
     "outputs": [
      {
       "metadata": {},
       "output_type": "pyout",
       "prompt_number": 7,
       "text": [
        "1"
       ]
      }
     ],
     "prompt_number": 7
    },
    {
     "cell_type": "code",
     "collapsed": false,
     "input": [
      "4%2"
     ],
     "language": "python",
     "metadata": {},
     "outputs": [
      {
       "metadata": {},
       "output_type": "pyout",
       "prompt_number": 10,
       "text": [
        "0"
       ]
      }
     ],
     "prompt_number": 10
    },
    {
     "cell_type": "markdown",
     "metadata": {},
     "source": [
      "El caso de la potencia, tambi\u00e9n nos sirve para calcularraices. Veamos una potencia al cubo y luego una ra\u00edz cuadrada, equivalente a una potencia a la 1/2."
     ]
    },
    {
     "cell_type": "code",
     "collapsed": false,
     "input": [
      "5**3"
     ],
     "language": "python",
     "metadata": {},
     "outputs": [
      {
       "metadata": {},
       "output_type": "pyout",
       "prompt_number": 13,
       "text": [
        "8"
       ]
      }
     ],
     "prompt_number": 13
    },
    {
     "cell_type": "code",
     "collapsed": false,
     "input": [
      "2**(1/2)"
     ],
     "language": "python",
     "metadata": {},
     "outputs": [
      {
       "metadata": {},
       "output_type": "pyout",
       "prompt_number": 14,
       "text": [
        "1.4142135623730951"
       ]
      }
     ],
     "prompt_number": 14
    },
    {
     "cell_type": "markdown",
     "metadata": {},
     "source": [
      "Los datos num\u00e9ricos que obtenidos en las operaciones previas se clasifican en reales y enteros, en python se los clasifica como  float e int respectivamente, adem\u00e1s existe el tipo complex, para n\u00fameros complejos. \n",
      "\n",
      "Utilizando la funci\u00f3n type() podemos identificar el tipo de dato. Veamos:"
     ]
    },
    {
     "cell_type": "code",
     "collapsed": false,
     "input": [
      "type(0.333)"
     ],
     "language": "python",
     "metadata": {},
     "outputs": [
      {
       "metadata": {},
       "output_type": "pyout",
       "prompt_number": 11,
       "text": [
        "float"
       ]
      }
     ],
     "prompt_number": 11
    },
    {
     "cell_type": "code",
     "collapsed": false,
     "input": [
      "type(3)"
     ],
     "language": "python",
     "metadata": {},
     "outputs": [
      {
       "metadata": {},
       "output_type": "pyout",
       "prompt_number": 12,
       "text": [
        "int"
       ]
      }
     ],
     "prompt_number": 12
    },
    {
     "cell_type": "markdown",
     "metadata": {},
     "source": [
      "### Variables\n",
      "Las variables son contenedores para almacenar informaci\u00f3n. Por ejemplo, para elevar un n\u00famero al cubo podemos utilizar 3 variables, para la base (*num1*), para el exponenete (*num2*) y para almacenar el *resultado*:\n",
      "\n",
      "```python\n",
      "num1 = 5                              # A num1 se le asigna el valor num\u00e9rico 5.\n",
      "num2 = 3                              # A num2 se le asigna 3.    \n",
      "resultado = num1**num2                # A resultado se le asigna num1 elevado a num2. \n",
      "print(\"El resultado es\", resultado)\n",
      "```\n",
      "\n",
      "Del c\u00f3digo podemos rescatar que el operador igual (=) sirve para asignar lo que est\u00e1 a la derecha a la variable que se encuentra a la izquierda. \n"
     ]
    },
    {
     "cell_type": "markdown",
     "metadata": {},
     "source": [
      "### Entrada y salida de datos\n",
      "\n",
      "Comunicarnos con el entorno\n",
      "\n",
      "### Operadores relacionales y l\u00f3gicos\n",
      "\n",
      "### Funciones\n",
      "\n",
      "### M\u00f3dulos\n",
      "\n",
      "\n",
      "\n",
      "## Ejercicios"
     ]
    }
   ],
   "metadata": {}
  }
 ]
}