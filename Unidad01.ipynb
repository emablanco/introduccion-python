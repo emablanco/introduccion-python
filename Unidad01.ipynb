{
 "cells": [
  {
   "cell_type": "markdown",
   "metadata": {},
   "source": [
    "# Introducción\n",
    "\n",
    "En el presente capítulo introduciremos los conceptos necesarios para desarrollar los primeros algoritmos computacionales. Además, se explican las herramientas necesarias para llevar a cabo el desarrollo y sus diferentes alternativas.\n",
    "\n",
    "## Motivación\n",
    "\n",
    "que lindo es programar\n",
    "\n",
    "### ¿Por qué Python?\n",
    "lo lindo que es python y quienes lo usan, su crecimiento, su ámbito de aplicación: web, científico, etc.\n",
    "\n",
    "## Instalando Python\n",
    "\n",
    "Actualmente existen dos versiones de Python comúnmente utilizadas, la versión 2 y 3, ambas son completamente funcionales y muy utilizadas. En este curso nos basaremos en la versión 3.\n",
    "\n",
    "**Ver como funcionaría miniconda en windows y linux:** http://conda.pydata.org/miniconda.html\n",
    "\n",
    "### Windows\n",
    "\n",
    "Para instalar Python en una máquina con Windows, debemos seguir los siguientes pasos:\n",
    "\n",
    "* Apuntar el navegador a: https://www.python.org/downloads/windows/\n",
    "* Ir al link de la última versión disponible (por ej: latest python 3 relase)\n",
    "* En la sección Files, descargar el instalador correspondiente a su arquitectura (64/32 bits), por ej: https://www.python.org/ftp/python/3.4.3/python-3.4.3.msi\n",
    "* Ejecutar el instalador (por ej: python-3.4.3.msi) aceptando las opciones por defecto\n",
    "\n",
    "\n",
    "### GNU/Linux\n",
    "\n",
    "En los sistemas operativos serios, es muy probable que ya contemos con el intérprete instalado, incluso en sus dos versiones.  Para instalarlo utilizando los administradores de paquetes debemos ejecutar los siguientes comandos desde una terminal:\n",
    "\n",
    "Para sistemas basados en Debian (como Ubuntu o sus derivados):\n",
    "\n",
    "```bash\n",
    "apt-get install python3\n",
    "```\n",
    "## Entornos de programación\n",
    "\n",
    "### El intérprete interactivo \n",
    "\n",
    "Ya con el intérprete de Python podemos comenzar programar. Si ejecutamos en una terminal `python3`, ingresaremos al intérprete en modo interactivo y veremos una salida similar a la siguiente:\n",
    "\n",
    "```python\n",
    "Python 3.4.2 (default, Oct  8 2014, 10:45:20) \n",
    "[GCC 4.9.1] on linux\n",
    "Type \"help\", \"copyright\", \"credits\" or \"license\" for more information.\n",
    ">>>\n",
    "```\n",
    "Podemos ejecutar algunas operaciones matemáticas para corroborar su funcionamiento.\n",
    "\n",
    "```python\n",
    ">>> 2*5\n",
    "10\n",
    ">>> 2*5+10\n",
    "20\n",
    ">>> -3*19+3.1415\n",
    "-53.8585\n",
    ">>> \n",
    "```\n",
    "\n",
    "### IPython, el intérprete interactivo mejorado\n",
    "\n",
    "[IPython][1] es una interfaz mejorada del intérprete nativo. Se lo puede utilizar en modo consola o a través de una interfaz web. La instalación en GNU/Linux es: `apt-get install ipython3`. \n",
    "\n",
    "La ejecución de ipython desde una terminal nos arroja una pantalla similar a la siguiente:\n",
    "\n",
    "```python\n",
    "emiliano@pynandi:~ $ ipython3\n",
    "Python 3.4.2 (default, Oct  8 2014, 10:45:20) \n",
    "Type \"copyright\", \"credits\" or \"license\" for more information.\n",
    "\n",
    "IPython 2.3.0 -- An enhanced Interactive Python.\n",
    "?         -> Introduction and overview of IPython's features.\n",
    "%quickref -> Quick reference.\n",
    "help      -> Python's own help system.\n",
    "object?   -> Details about 'object', use 'object??' for extra details.\n",
    "\n",
    "In [1]: \n",
    "```\n",
    "Otra alternativa muy interesante son los notebooks de ipython, una interfaz que permite programar utilizando el navegador web como entorno. No entraremos en detalle ya que posteriormente analizaremos su funcionamiento. Se debe ejecutar en una terminal `ipython3 notebook` y esto abrirá el navegador por defecto con el entorno cargado.\n",
    "\n",
    "### Entorno integrado de desarrollo (IDE)\n",
    "\n",
    "![](files/img/u1/ninja-ide.png)\n",
    "\n",
    "Un IDE es un entorno que nos facilita las tareas a la hora de programar. Consiste en la integración de un editor de texto, con características de resaltado de sintaxis autocompletado -entre otras-, y el intérprete de Python. Existen cientos de entornos muy buenos, como por ejemplo [Spyder][2], [PyCharm][3] o [Ninja-IDE][4]. Para el presente curso, nos basaremos en Ninja-IDE, software libre que ha sido desarrollado por la comunidad de Python Argentina, [PyAr][5].\n",
    "\n",
    "Una lista bastante completa sobre las IDEs disponibles pueden encontrarse en la [wiki oficial de Python][6]\n",
    "\n",
    "[1]: http://ipython.org\n",
    "[2]: https://github.com/spyder-ide/spyder\n",
    "[3]: https://www.jetbrains.com/pycharm\n",
    "[4]: http://ninja-ide.org\n",
    "[5]: http://python.org.ar\n",
    "[6]: https://wiki.python.org/moin/IntegratedDevelopmentEnvironments\n",
    "\n",
    "\n",
    "## Algoritmos computacionales\n",
    "\n",
    "En forma simplificada, un programa o software es un conjunto de instrucciones que la computadora puede ejecutar. Este procedimiento formado por un conjunto de instrucciones es lo que denominamos algoritmo computacional. Una analogía a un algoritmo computacional es una receta de cocina, por ejemplo:\n",
    "\n",
    "    Prender el fuego\n",
    "    Salar la carne\n",
    "    Controlar cada 5 minutos hasta que haya brasas\n",
    "    Poner la carne a la parrilla\n",
    "    Cocinar hasta que esté la carne, controlar cada 5 minutos\n",
    "    Dar vuelta la carne\n",
    "    Cocinar hasta que esté la carne, controlar cada 5 minutos\n",
    "    Si falta sal al probar, salar\n",
    "\n",
    "En esta receta se ven una serie de instrucciones que deben ser seguidas en un determinado orden, en algunos casos contamos con ingredientes, intrucciones, decisiones y acciones que se repiten. No muy distinto a un programa de computación, comencemos con algunos *ingredientes* simples de Python y veamos lo que podemos hacer con ellos. \n",
    "\n",
    "### El primer programa\n",
    "El acercamiento inicial a un lenguaje de programación suele ser con el archiconocido programa \"Hola mundo\". Consiste simmplemente en un programa que muestra en pantalla ese mensaje. \n",
    "\n",
    "Renunciando a cualquier pretensión de originalidad comenzaremos del mismo modo, pero despidiéndonos. Para esto utilizaremos la instrucción *print()* pasando el mensaje de despedida entre comillas, a continuación la instrucción.\n",
    "\n",
    "```python\n",
    "print(\"Adios mundo cruel!\")\n",
    "```\n",
    "\n",
    "Podemos probar la intrucción directamente desde el intérprete, creando con un editor de texto plano un archivo guardado como `chau.py` y luego ejecutándolo desde la terminal haciendo `python3 chau.py`, o bien utilizando un IDE y haciendo todo desde ahí mismo.\n",
    "\n",
    "Ahora bien, es muchísimo más lo que podemos hacer programando además de saludar cordialmente. Veamos los elementos de un programa que nos permitirán realizar tareas más complejas y entretenidas.\n",
    "\n",
    "## Modos de ejecutar tus programas\n",
    "\n",
    "El intérprete interactivo de Python es una gran ayuda para realizar pruebas y experimentar en tiempo real sobre el lenguaje. Sin embargo, cuando cerramos el intérprete perdemos lo escrito, por lo que no es una solución para escribir programas mas largos y con mayores complejidades. Por otro lado, tampoco resulta poco práctico abrir el IDE para correr un script Python. Entonces, para un programa guardado con el nombre hola_mundo.py, lo podemos ejecutar de las siguientes maneras:\n",
    " \n",
    "### Desde la línea de comandos\n",
    "\n",
    "Abriendo una terminal, e invocando al intérprete python y luego la ruta y nombre del archivo:\n",
    "\n",
    "\n",
    "```bash\n",
    "$python3 hola_mundo.py\n",
    "```\n",
    "\n",
    "### Como un script\n",
    "\n",
    "Es posible ejecutarlo sin invocar al intérprete desde la línea de comandos, para esto, se debe incluir al principio del programa la siguiente línea:\n",
    "\n",
    "```python\n",
    "#!/usr/bin/env python3\n",
    "```\n",
    "\n",
    "Con esa línea, estaremos especificando en el mismo programa la ruta del intérprete que debe ejecutarlo. Antes de poder ejecutarlo, debemos otorgarle permisos de ejecución con el comando del sistema operativo chmod:\n",
    "\n",
    "```bash\n",
    "$chmod +x hola_mundo.py\n",
    "```\n",
    "\n",
    "Una vez realizado lo anterior, es posible ejecutarlo desde la terminal, como cualquier ejecutable del sistema operativo, llamándolo con el nombre del programa antecediendo \"./\" (punto barra, sin comillas):\n",
    "\n",
    "```bash\n",
    "$./hola_mundo.py\n",
    "Adiós mundo cruel\n",
    "```\n",
    "\n",
    "## Elementos de un programa\n",
    "\n",
    "A continuación veremos los ingredientes fundamentales de un lenguaje de programación como Python, para llevar a cabo los ejemplos utilizaremos el intérprete interactivo mejorado ipython.\n",
    "\n",
    "\n",
    "### Números y expresiones\n",
    "\n",
    "Frecuentemente requerimos resolver cálculos matemáticos, las operaciones aritméticas básicas son:\n",
    "\n",
    "- adición: +\n",
    "- sustracción: -\n",
    "- multiplicación: *\n",
    "- división: /\n",
    "- módulo: %\n",
    "- potencia: **\n",
    "- división entera: //\n",
    "\n",
    "Las operaciones se pueden agrupar con parentesis y tienen precedencia estándar. Veamos unos ejemplos.\n",
    "\n",
    "\n",
    "```python\n",
    "In [9]: 1/3\n",
    "Out[9]: 0.3333333333333333\n",
    "\n",
    "In [10]: 1//3\n",
    "Out[10]: 0\n",
    "\n",
    "In [11]: 10%3\n",
    "Out[11]: 1\n",
    "\n",
    "In [12]: 4%2\n",
    "Out[12]: 0\n",
    "```\n",
    "\n",
    "El caso de la potencia, también nos sirve para calcular raices. Veamos una potencia al cubo y luego una raíz cuadrada, equivalente a una potencia a la 1/2.\n",
    "\n",
    "```python\n",
    "In [13]: 5**3\n",
    "Out[13]: 125\n",
    "\n",
    "In [14]: 2**(1/2)\n",
    "Out[14]: 1.4142135623730951\n",
    "```\n",
    "\n",
    "Los datos numéricos que obtenidos en las operaciones previas se clasifican en reales y enteros, en python se los clasifica como  float e int respectivamente, además existe el tipo complex, para números complejos. \n",
    "\n",
    "Utilizando la función type() podemos identificar el tipo de dato. Veamos:\n",
    "```python\n",
    "In [15]: type(0.333)\n",
    "Out[15]: float\n",
    "\n",
    "In [16]: type(4)\n",
    "Out[16]: int\n",
    "```\n",
    "### Cadenas de carateres\n",
    "\n",
    "Además de números, es posible manipular texto. Las cadenas son secuencias de caracteres encerradas en comillas simples ('...') o dobles (\"...\"), el tipo de datos es denominado *str*. Sin adentrarnos en detalles, que posteriormente veremos, aquí trataremos lo indispensable para poder desarrollar los primeros programas. Veamos unos ejemplos:\n",
    "\n",
    "```python\n",
    ">>> 'huevos y pan'         # comillas simples\n",
    "'huevos y pan'\n",
    "```\n",
    "Los operadores algebraicos para la suma y multiplicación tienen efecto sobre las cadenas:\n",
    "\n",
    "```python\n",
    ">>> 'eco '*4               # La multiplicación repite la cadena\n",
    "'eco eco eco eco '\n",
    "\n",
    ">>>'yo y '+ 'mi otro yo'   # La suma concatena dos o mas cadenas\n",
    "'yo y mi otro yo'\n",
    "```\n",
    "Es posible utilizar cadenas de más de una línea, anteponiendo **triples comillas** simples o dobles al inicio y al final, por ejemplo (fragmento del poema de Fortunato Ramos *Yo jamás fui un niño*):\n",
    "\n",
    "```python\n",
    "'''\n",
    "Mi sonrisa es seca y mi rostro es serio,\n",
    "mis espaldas anchas, mis músculos duros\n",
    "mis manos partidas por el crudo frío\n",
    "sólo ocho años tengo, pero no soy un niño.\n",
    "'''\n",
    "```"
   ]
  },
  {
   "cell_type": "markdown",
   "metadata": {},
   "source": [
    "### Comentarios\n",
    "\n",
    "En los ejemplos previos y siguientes, veremos dentro del código comentarios explicativos que no serán ejecutados por el intérprete. Su uso solamente está destinado a quien lea el código, como texto explicativo para orientar sobre lo que se realiza.\n",
    "\n",
    "Los comentarios pueden ser de una única o múltiples líneas. Para el primer caso se utiliza el símbolo numeral. Lo que continúa a la derecha de su uso no es ejecutado. \n",
    "\n",
    "Los comentarios de múltiples líneas se deben escribir entre triples comillas, ya sean simples o dobles.\n",
    "\n",
    "### Variables\n",
    "Las variables son contenedores para almacenar información. Por ejemplo, para elevar un número al cubo podemos utilizar 3 variables, para la base (*num1*), para el exponenete (*num2*) y para almacenar el *resultado*:\n",
    "\n",
    "```python\n",
    "num1 = 5                   # num1 toma valor 5.\n",
    "num2 = 3                   # num2 toma 3.    \n",
    "resultado = num1**num2     # resultado toma num1 elevado a num2. \n",
    "print('El resultado es', resultado)\n",
    "```\n",
    "\n",
    "El operador igual (=) sirve para asignar lo que está a su derecha, a la variable que se encuentra a su izquierda. Implementemos la siguiente ecuación para dos valores de *x*, 0.1 y 0.2. \n",
    "$$y = (x-4)^2-3$$\n",
    "\n",
    "```python\n",
    "x1 = 0.1                              \n",
    "y1 = (x1-4)**2-3\n",
    "\n",
    "x2 = 0.2                              \n",
    "y2 = (x2-4)**2-3\n",
    "\n",
    "print(x1,y1)\n",
    "print(x2,y2)\n",
    "```\n",
    "\n",
    "Veremos la siguiente salida por pantalla: \n",
    "\n",
    "    0.1 12.209999999999999\n",
    "    0.2 11.44\n",
    "\n",
    "Otros ejemplos utilizando variables que contengan **cadenas de caracteres**:\n",
    "\n",
    "```python\n",
    "cadena1 = 'siento que '\n",
    "cadena2 = 'nací en el viento '\n",
    "\n",
    "cadena3 = cadena1 + cadena2\n",
    "\n",
    "print(cadena3)\n",
    "\n",
    "```"
   ]
  },
  {
   "cell_type": "markdown",
   "metadata": {},
   "source": [
    "Los nombres de las variables (identificador o etiqueta) pueden estar formados por letras, dígitos y guiones bajos, teniendo en cuenta ciertas restricciones, no pueden comenzar con un número y ni ser algunas de las siguientes palabras reservadas:\n",
    "\n",
    "    False      class      finally    is         return\n",
    "    None       continue   for        lambda     try\n",
    "    True       def        from       nonlocal   while\n",
    "    and        del        global     not        with\n",
    "    as         elif       if         or         yield\n",
    "    assert     else       import     pass\n",
    "    break      except     in         raise\n",
    "\n",
    "Se debe tener en cuenta que las variables diferencian entre mayúsculas y minúsculas, de modo que juana, JUANA, JuAnA, JUANa son variables diferentes. Esta característica suele denominarse como *case-sensitive*.\n",
    "\n",
    "### Lectura de datos\n",
    "\n",
    "De los ejemplos que vimos, los valores que almacenan las variables fueron ingresadas en el mismo código, difícilmente sea útil contar con los valores cargados en el programa en forma estática. Por esta razón, generalmente se requiere leer información de diferentes fuentes, puede ser desde un archivo o bien interactuando con un usuario.\n",
    "\n",
    "La lectura de datos desde el teclado se realiza utilizando la sentencia *input()* del siguiente modo:\n",
    "\n",
    "```python\n",
    "nombre = input(\"¿Cómo es su nombre, maestro? \")\n",
    "print \"Hola, \" + nombre + \"!\"\n",
    "```\n",
    "El comportamiento es:\n",
    "\n",
    "    ¿Cómo es su nombre, maestro?\n",
    "    Juan de los palotes\n",
    "    Hola, Juan de los palotes!\n",
    "\n",
    "Es importante tener en cuenta que toda lectura por teclado utilizando la función *input()* va a almacenar lo ingresado como una variable de tipo *str*, es decir una cadena de caracteres. Veamos el comportamiento al sumar dos números:"
   ]
  },
  {
   "cell_type": "code",
   "execution_count": 2,
   "metadata": {
    "collapsed": false
   },
   "outputs": [
    {
     "name": "stdout",
     "output_type": "stream",
     "text": [
      "Ingrese un número = 28\n",
      "Ingrese otro número = 03\n",
      "El resultado es = 2803\n"
     ]
    }
   ],
   "source": [
    "num1 = input(\"Ingrese un número = \")\n",
    "num2 = input(\"Ingrese otro número = \")\n",
    "print(\"El resultado es =\", num1+num2)"
   ]
  },
  {
   "cell_type": "markdown",
   "metadata": {},
   "source": [
    "Claramente la suma de los valores ingresados no da el resultado observado. El inconveniente se debe a que ambos valores son tomados como cadenas de caracteres y la operación de suma entre cadenas de caracteres produce la concatenación de las mismas. Es necesaria convertir la cadena de caracteres (str) a un valor numérico, ya sea entero o real (int o float).\n",
    "\n",
    "Para convertir datos de diferentes tipo se utilizan las funciones int(), float() o str(). \n",
    "Modificando el caso anterior:"
   ]
  },
  {
   "cell_type": "code",
   "execution_count": 19,
   "metadata": {
    "collapsed": false
   },
   "outputs": [
    {
     "name": "stdout",
     "output_type": "stream",
     "text": [
      "Ingrese un número = 28\n",
      "Ingrese otro número = 03\n",
      "El resultado es = 31\n"
     ]
    }
   ],
   "source": [
    "num1 = int(input(\"Ingrese un número = \"))\n",
    "num2 = int(input(\"Ingrese otro número = \"))\n",
    "print(\"El resultado es =\", num1+num2)"
   ]
  },
  {
   "cell_type": "markdown",
   "metadata": {},
   "source": [
    "Veamos un ejemplo para operar directamente el valor leído en una ecuación matemática con el siguiente código:"
   ]
  },
  {
   "cell_type": "code",
   "execution_count": 15,
   "metadata": {
    "collapsed": false
   },
   "outputs": [
    {
     "name": "stdout",
     "output_type": "stream",
     "text": [
      "Ingrese x = 3\n"
     ]
    },
    {
     "ename": "TypeError",
     "evalue": "unsupported operand type(s) for -: 'str' and 'int'",
     "output_type": "error",
     "traceback": [
      "\u001b[0;31m---------------------------------------------------------------------------\u001b[0m\n\u001b[0;31mTypeError\u001b[0m                                 Traceback (most recent call last)",
      "\u001b[0;32m<ipython-input-15-3baa5c95d16e>\u001b[0m in \u001b[0;36m<module>\u001b[0;34m()\u001b[0m\n\u001b[1;32m      1\u001b[0m \u001b[0mx\u001b[0m \u001b[0;34m=\u001b[0m \u001b[0minput\u001b[0m\u001b[0;34m(\u001b[0m\u001b[0;34m\"Ingrese x = \"\u001b[0m\u001b[0;34m)\u001b[0m\u001b[0;34m\u001b[0m\u001b[0m\n\u001b[0;32m----> 2\u001b[0;31m \u001b[0my\u001b[0m \u001b[0;34m=\u001b[0m \u001b[0;34m(\u001b[0m\u001b[0mx\u001b[0m\u001b[0;34m-\u001b[0m\u001b[0;36m4\u001b[0m\u001b[0;34m)\u001b[0m\u001b[0;34m**\u001b[0m\u001b[0;36m2\u001b[0m\u001b[0;34m-\u001b[0m\u001b[0;36m3\u001b[0m\u001b[0;34m\u001b[0m\u001b[0m\n\u001b[0m\u001b[1;32m      3\u001b[0m \u001b[0mprint\u001b[0m\u001b[0;34m(\u001b[0m\u001b[0mx\u001b[0m\u001b[0;34m,\u001b[0m\u001b[0my\u001b[0m\u001b[0;34m)\u001b[0m\u001b[0;34m\u001b[0m\u001b[0m\n",
      "\u001b[0;31mTypeError\u001b[0m: unsupported operand type(s) for -: 'str' and 'int'"
     ]
    }
   ],
   "source": [
    "x = input(\"Ingrese x = \") \n",
    "y = (x-4)**2-3\n",
    "print(x,y)"
   ]
  },
  {
   "cell_type": "markdown",
   "metadata": {},
   "source": [
    "A diferencia del ejemplo visto anteriormente, donde la suma de dos cadenas era una operación perfectamente válida, ahora nos encontramos con operaciones entre diferentes tipos pero incompatibles. En este caso, podemos convertir la entrada en un número flotante para opearar con normalidad:"
   ]
  },
  {
   "cell_type": "code",
   "execution_count": 3,
   "metadata": {
    "collapsed": false
   },
   "outputs": [
    {
     "name": "stdout",
     "output_type": "stream",
     "text": [
      "Ingrese x = 3\n",
      "3.0 -2.0\n"
     ]
    }
   ],
   "source": [
    "x = float(input(\"Ingrese x = \"))\n",
    "y = (x-4)**2-3\n",
    "print(x,y)"
   ]
  },
  {
   "cell_type": "markdown",
   "metadata": {},
   "source": [
    "Es posible combinar distintos tipos de datos haciendo la conversión correspondiente, en el último ejemplo, tanto *x* como *y* son de tipo *float* y es posible concatenarlos a una cadena de caracteres haciendo la conversión correspondiente, utilizando la función *str()*:"
   ]
  },
  {
   "cell_type": "code",
   "execution_count": 25,
   "metadata": {
    "collapsed": false
   },
   "outputs": [],
   "source": [
    "mensaje = 'y vale ' + str(y) + ' para un valor de x = '+ str(x)"
   ]
  },
  {
   "cell_type": "markdown",
   "metadata": {},
   "source": [
    "### Escritura de datos\n",
    "\n",
    "Hemos hecho uso de la función *print()* en su mínima expresión. Iremos viendo diferentes usos a partir de las siguientes variables:"
   ]
  },
  {
   "cell_type": "code",
   "execution_count": 2,
   "metadata": {
    "collapsed": false
   },
   "outputs": [],
   "source": [
    "# Variables a imprimir\n",
    "cad = 'Pi es'\n",
    "pi = 3.1415\n",
    "mil = 1000\n",
    "uno = 1"
   ]
  },
  {
   "cell_type": "markdown",
   "metadata": {},
   "source": [
    "#### Como argumentos\n",
    "\n",
    "La forma más simple es separar los argumentos a ser impresos mediante comas. "
   ]
  },
  {
   "cell_type": "code",
   "execution_count": 3,
   "metadata": {
    "collapsed": false
   },
   "outputs": [
    {
     "name": "stdout",
     "output_type": "stream",
     "text": [
      "Pi es 3.1415 aproximadamente\n"
     ]
    }
   ],
   "source": [
    "print(cad,pi,'aproximadamente')"
   ]
  },
  {
   "cell_type": "markdown",
   "metadata": {},
   "source": [
    "Por defecto, la separación que se obtiene entre cada argumento es un espacio en blanco, sin embargo, se puede cambiar este comportamiento agregando como argumento ***sep=' '*** y entre las comillas incluir el separador deseado, por ejemplo: "
   ]
  },
  {
   "cell_type": "code",
   "execution_count": 3,
   "metadata": {
    "collapsed": false
   },
   "outputs": [
    {
     "name": "stdout",
     "output_type": "stream",
     "text": [
      "Pi es;3.1415;aproximadamente\n",
      "Pi es,3.1415,aproximadamente\n",
      "Pi es:-)3.1415:-)aproximadamente\n"
     ]
    }
   ],
   "source": [
    "print(cad,pi,'aproximadamente', sep=';')\n",
    "print(cad,pi,'aproximadamente', sep=',')\n",
    "print(cad,pi,'aproximadamente', sep=':-)')"
   ]
  },
  {
   "cell_type": "markdown",
   "metadata": {},
   "source": [
    "Como vemos, en cada ejecución la impresión se realiza en diferentes renglones, este es el comportamiento por defecto, que puede ser modificando agregando el parámetro ***end=\" \"***. Reflejemos esto con un ejemplo:"
   ]
  },
  {
   "cell_type": "code",
   "execution_count": 26,
   "metadata": {
    "collapsed": false
   },
   "outputs": [
    {
     "name": "stdout",
     "output_type": "stream",
     "text": [
      "1 2 3\n",
      "4\n"
     ]
    }
   ],
   "source": [
    "print(1, end=\" \")\n",
    "print(2, end=\" \")\n",
    "print(3)\n",
    "print(4)"
   ]
  },
  {
   "cell_type": "markdown",
   "metadata": {},
   "source": [
    "####  Usando comodines\n",
    "\n",
    "Los comodines consisten en una marca especial en la cadena a imprimir que es reemplazada por la variable y el formato que se le indique. Existen tres tipos de comodines, para números enteros, reales (flotantes) y para cadenas de caracteres:\n",
    "\n",
    "* Comodín para reales: %f\n",
    "* Comodín para enteros:  %d\n",
    "* Comodín para cadenas: %s\n",
    "\n",
    "Se utilizan del siguiente modo:\n"
   ]
  },
  {
   "cell_type": "code",
   "execution_count": 28,
   "metadata": {
    "collapsed": false
   },
   "outputs": [
    {
     "name": "stdout",
     "output_type": "stream",
     "text": [
      "Pi es 3.141500 aproximadamente\n",
      "El número 1000 es menor que 999\n"
     ]
    }
   ],
   "source": [
    "print('Pi es %f aproximadamente' %pi)   \n",
    "print('El número %d es %s que %d' %(mil,\"menor\",mil-1))"
   ]
  },
  {
   "cell_type": "markdown",
   "metadata": {},
   "source": [
    "Es posible formatear los valores, elegir el ancho del campo, la cantidad de decimales, entre muchas otras funciones. "
   ]
  },
  {
   "cell_type": "code",
   "execution_count": 20,
   "metadata": {
    "collapsed": false
   },
   "outputs": [
    {
     "name": "stdout",
     "output_type": "stream",
     "text": [
      "3.14 3.1415 3.142\n",
      "   1\n"
     ]
    }
   ],
   "source": [
    "print('%.2f %.4f %.3f' %(pi,pi,pi))\n",
    "print('%4d' %uno)"
   ]
  },
  {
   "cell_type": "markdown",
   "metadata": {},
   "source": [
    "La sintaxis general del uso de comodines es:\n",
    "\n",
    "    %[opciones][ancho][.precisión]tipo \n",
    "\n",
    "\n",
    "Algunas variantes de lo visto se explica en la siguiente lista:\n",
    "\n",
    "- %d : un entero\n",
    "- %5d: un entero escrito en un campo de 5 caracteres, alineado a la derecha\n",
    "- %-5d: un entero escrito en un campo de 5 caracteres, alineado a la izquierda\n",
    "- %05d: un entero escrito en un campo de 5 caracteres, completado con ceros desde la izquierda (ej. 00041)\n",
    "- %e: flotante escrito en notación científica\n",
    "- %E: como %e, pero E en mayúscula\n",
    "- %11.3e: flotante escrito en notación científica con 3 decimales en un campo de 11 caracteres\n",
    "- %.3e: flotante escrito en notación científica con 3 decimales en un campo de ancho mínimo\n",
    "- %5.1f: flotante con un decimal en un campo de 5 de caracteres\n",
    "- %.3f: flotante con 3 decimales en un campo de mínimo ancho\n",
    "- %s: una cadena\n",
    "- %-20s: una cadena alineada a la izquierda en un campo de 20 caracteres de ancho\n",
    "\n",
    "Con lo visto hasta aquí tenemos suficientes alternativas para mostrar en pantalla información de diferentes tipos. Existen una alternativa para imprimir en pantalla utilizando el método format, el lector interesado puede indagar más al respecto en http://docs.python.org.ar/tutorial/3/inputoutput.html , en el capítulo Entrada y Salida del tutorial de Python oficial http://docs.python.org.ar/tutorial/pdfs/TutorialPython3.pdf o también en http://www.python-course.eu/python3_formatted_output.php"
   ]
  },
  {
   "cell_type": "markdown",
   "metadata": {},
   "source": [
    "### Operadores relacionales y lógicos\n",
    "¿¿¿capaz va a la unidad siguiente!!!\n",
    "\n",
    "### Funciones\n",
    "\n",
    "Las funciones son programas o subprogramas que realizan una determinada acción y pueden ser invocados desde otro programa. En los capítulos posteriores trabajaremos intensamente con funciones creando propias, sin embargo en esta sección, con el fin de comprender su uso, presentaremos algunas pocas de las que nos provee Python. \n",
    "\n",
    "El uso de funciones nativas en Python es directo, veamos algunas:"
   ]
  },
  {
   "cell_type": "code",
   "execution_count": 19,
   "metadata": {
    "collapsed": false
   },
   "outputs": [
    {
     "name": "stdout",
     "output_type": "stream",
     "text": [
      "28\n"
     ]
    }
   ],
   "source": [
    "frase = 'simple es mejor que complejo'\n",
    "num_letras = len(frase)\n",
    "print(num_letras)"
   ]
  },
  {
   "cell_type": "markdown",
   "metadata": {},
   "source": [
    "\n",
    "El ejemplo previo hicimos uso de dos funciones, por un lado la función ***print()***, presentada ya desde el primer programa y una nueva función, ***len()***, que recibe como dato de entrada una cadena de caracteres y calcula la cantidad de caracteres de la misma y lo retorna de manera tal que lo podemos asignar a una variable (num_letras).\n",
    "\n",
    "ver ejemplo 2-3 pag 38 de Begining Python from novice to professional 2nd edition.\n",
    "\n",
    "Estos subprogramas pueden están vinculadas, de modo que se organizan en módulos. \n",
    "\n",
    "### Módulos\n",
    "\n",
    "Python posee cientos de funciones que se organizan o agrupan en módulos. Veamos un ejemplo para calcular la raiz cuadrada, el seno y coseno de un número haciendo uso de las funciones *sqrt()*, *sin()* y *cos()*, todas ubicadas bajo el módulo math."
   ]
  },
  {
   "cell_type": "code",
   "execution_count": 27,
   "metadata": {
    "collapsed": false
   },
   "outputs": [
    {
     "name": "stdout",
     "output_type": "stream",
     "text": [
      "La raiz de 2 es 1.4142\n",
      "El seno de 2 es 0.9093\n",
      "El coseno de 2 es -0.4161\n"
     ]
    }
   ],
   "source": [
    "import math\n",
    "\n",
    "nro = 2\n",
    "raiz = math.sqrt(nro)\n",
    "print(\"La raiz de %d es %.4f\" %(nro,raiz))\n",
    "print(\"El seno de %d es %.4f\" %(nro,math.sin(nro)))\n",
    "print(\"El coseno de %d es %.4f\" %(nro,math.cos(nro)))"
   ]
  },
  {
   "cell_type": "markdown",
   "metadata": {},
   "source": [
    "Del ejemplo previo, hemos visto como indicarle a Python que importe -o haga uso de- un módulo en particular y de algunas de sus funciones incluidas.\n",
    "\n",
    "En capítulos posteriores veremos en profundidad distintos modos de importar módulos e invocar sus funciones."
   ]
  },
  {
   "cell_type": "markdown",
   "metadata": {},
   "source": [
    "## Ejercicios\n",
    "\n",
    "1- Realice un programa que permita al usuario ingresar una temperatura en grados centígrados y que muestre su equivalente en grados fahrenheit.\n",
    "\n",
    "    Ingrese temperatura en °C: 33.8\n",
    "    Conversión a Fahrenheit: 92.84\n",
    "\n",
    "2- Realice un programa que permita al usuario ingresar su nombre y que luego lo muestre repetido en pantalla tantas vees como cantidad de letras posea el nombre.\n",
    "\n",
    "3- Ingrese el nombre y edad de dos personas en variables separadas (nom1, edad1, nom2, edad2). Luego, intercambie la edad y muestre el resutlado en pantalla. Indague de qué manera puede intercambiar el contenido de variables en Python.\n",
    "\n",
    "4- La simple tarea de realizar la cocción de un huevo pasado por agua tiene sus secretos. Con la ecuación a continuación se puede conocer el tiempo en alcanzar el punto exacto. Programe la ecuación para valores de bla bla bla\n",
    "\n",
    "5- Lea por teclado el valor del cuenta kilómetros de un automovil, posteriormente, permita ingresar el nuevo valor luego de realizar un viaje y muestre en pantalla los kilómetros recorridos, así como también ese valor en metros, centímetros, yardas y pies.\n",
    "\n",
    "6- Las benévolas companías telefónicas cobran la tarifa de cada llamada del siguiente modo: un valor fijo de \\$0.80 cuando se establece la llamada, luego, fracciona por tiempo, donde el primer minuto tiene un valor de \\$1.30 y los subsiguientes de \\$1.45. Realice un programa que permita ingresar la duración de una llamada y que muestre luego el costo total de la misma, a la que se le debe agregar un porcentaje del 20% correspondiente a impuestos.\n",
    "\n",
    "7- Un atleta realiza sus entrenamientos para una maratón (42.195km) y desea conocer su velocidad promedio. Desarrolle un programa donde se ingrese el tiempo transcurrido en tres variables diferentes: horas, minutos y segundos. Luego, muestre la velocidad promedio en km/h y km/seg.\n",
    "\n",
    "8- En el siguiente programa se calcula la diferencia de tiempo entre dos marcas de tiempo. Analice el código del programa y explique las acciones que se llevan a cabo. Luego, modifiquelo para que las dos marcas de tiempo sean ingresadas por un usuario.\n"
   ]
  },
  {
   "cell_type": "code",
   "execution_count": 38,
   "metadata": {
    "collapsed": false
   },
   "outputs": [
    {
     "name": "stdout",
     "output_type": "stream",
     "text": [
      "Diferencia de tiempo: 1 hs 1 min 1 seg\n"
     ]
    }
   ],
   "source": [
    "# dos marcas de tiempo\n",
    "hora1,min1,seg1 = 14, 58,59 \n",
    "hora2,min2,seg2 = 16, 0, 0\n",
    "\n",
    "# conversión del tiempo a segundos\n",
    "t1s = hora1*60*60 + min1*60 + seg1\n",
    "t2s = hora2*60*60 + min2*60 + seg2\n",
    "\n",
    "# diferencia\n",
    "t = abs(t1s-t2s)\n",
    "\n",
    "# cálculos de hora, minuto y segundos\n",
    "h = t//3600\n",
    "m = (t-h*3600)//60\n",
    "s = t-h*3600-m*60\n",
    "\n",
    "# impresión en pantalla\n",
    "print ('Diferencia de tiempo:', h, 'hs', m, 'min',s, 'seg')"
   ]
  },
  {
   "cell_type": "code",
   "execution_count": null,
   "metadata": {
    "collapsed": true
   },
   "outputs": [],
   "source": []
  }
 ],
 "metadata": {
  "kernelspec": {
   "display_name": "Python 3",
   "language": "python",
   "name": "python3"
  },
  "language_info": {
   "codemirror_mode": {
    "name": "ipython",
    "version": 3
   },
   "file_extension": ".py",
   "mimetype": "text/x-python",
   "name": "python",
   "nbconvert_exporter": "python",
   "pygments_lexer": "ipython3",
   "version": "3.4.2"
  }
 },
 "nbformat": 4,
 "nbformat_minor": 0
}
