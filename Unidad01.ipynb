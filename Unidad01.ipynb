{
 "metadata": {
  "name": "",
  "signature": "sha256:8ffd7ef4dcca5bce3a2efa6981ed09af6a8adc353574579495549f6c37174778"
 },
 "nbformat": 3,
 "nbformat_minor": 0,
 "worksheets": [
  {
   "cells": [
    {
     "cell_type": "markdown",
     "metadata": {},
     "source": [
      "# Unidad 1\n",
      "Docente: Emiliano L\u00f3pez (emiliano [dot] lopez [at] gmail [dot] com)\n",
      "\n",
      "## Instalaci\u00f3n\n",
      "\n",
      "Tenemos diferentes herramientas donde desarrollar y ejecutar nuestros programas. A lo largo del curso vamos a utilizar las siguientes:\n",
      "\n",
      "* IDE GUI\n",
      "* Interactivo\n",
      "* IPython Notebooks\n"
     ]
    },
    {
     "cell_type": "code",
     "collapsed": false,
     "input": [],
     "language": "python",
     "metadata": {},
     "outputs": []
    }
   ],
   "metadata": {}
  }
 ]
}