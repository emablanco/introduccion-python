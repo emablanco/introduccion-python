{
 "metadata": {
  "name": "",
  "signature": "sha256:9581e3ceed6b9f9129f8482a559fdd66b9b5cb574f16f6704fb17ef4e8fedcf4"
 },
 "nbformat": 3,
 "nbformat_minor": 0,
 "worksheets": [
  {
   "cells": [
    {
     "cell_type": "markdown",
     "metadata": {},
     "source": [
      "# Conceptos b\u00e1sicos\n",
      "Docente: Emiliano L\u00f3pez (emiliano [dot] lopez [at] gmail [dot] com)\n",
      "\n",
      "En el presente cap\u00edtulo introduciremos los conceptos necesarios para desarrollar los primeros algoritmos computacionales. Adem\u00e1s, se explican las herramientas necesarias para llevar a cabo el desarrollo y sus diferentes alternativas.\n",
      "\n",
      "## Instalaci\u00f3n\n",
      "\n",
      "Tenemos diferentes herramientas donde desarrollar y ejecutar nuestros programas. A lo largo del curso vamos a utilizar las siguientes:\n",
      "\n",
      "* IDE GUI\n",
      "* Interactivo\n",
      "* IPython Notebooks\n",
      "\n",
      "## Elementos de un programa\n",
      "\n",
      "\n"
     ]
    },
    {
     "cell_type": "code",
     "collapsed": false,
     "input": [],
     "language": "python",
     "metadata": {},
     "outputs": []
    }
   ],
   "metadata": {}
  }
 ]
}