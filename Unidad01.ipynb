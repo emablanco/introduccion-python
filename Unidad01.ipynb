{
 "metadata": {
  "name": "",
  "signature": "sha256:108a78227c61995762b534f02ef7337598e1ab3dca86d8524033538efc448003"
 },
 "nbformat": 3,
 "nbformat_minor": 0,
 "worksheets": [
  {
   "cells": [
    {
     "cell_type": "markdown",
     "metadata": {},
     "source": [
      "# Introducci\u00f3n al Desarrollo de Software\n",
      "Docente: Emiliano L\u00f3pez (emiliano [dot] lopez [at] gmail [dot] com)\n",
      "\n",
      "# Unidad 1\n",
      "\n",
      "## Instalaci\u00f3n\n",
      "\n",
      "Tenemos diferentes herramientas donde desarrollar y ejecutar nuestros programas. A lo largo del curso vamos a utilizar las siguientes:\n",
      "\n",
      "* IDE GUI\n",
      "* Interactivo\n",
      "* IPython Notebooks\n"
     ]
    },
    {
     "cell_type": "code",
     "collapsed": false,
     "input": [],
     "language": "python",
     "metadata": {},
     "outputs": []
    }
   ],
   "metadata": {}
  }
 ]
}