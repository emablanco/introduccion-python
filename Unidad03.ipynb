{
 "cells": [
  {
   "cell_type": "markdown",
   "metadata": {},
   "source": [
    "<h1 id=\"tocheading\">Tabla de Contenidos</h1>\n",
    "<div id=\"toc\"></div>"
   ]
  },
  {
   "cell_type": "code",
   "execution_count": 6,
   "metadata": {
    "collapsed": false
   },
   "outputs": [
    {
     "data": {
      "application/javascript": [
       "$.getScript('https://kmahelona.github.io/ipython_notebook_goodies/ipython_notebook_toc.js')"
      ],
      "text/plain": [
       "<IPython.core.display.Javascript object>"
      ]
     },
     "metadata": {},
     "output_type": "display_data"
    }
   ],
   "source": [
    "%%javascript\n",
    "$.getScript('https://kmahelona.github.io/ipython_notebook_goodies/ipython_notebook_toc.js')"
   ]
  },
  {
   "cell_type": "markdown",
   "metadata": {},
   "source": [
    "# Estructuras de datos y control de flujo\n",
    "\n",
    "**NOTA EMI: Poner algo sobre las instrucciones secuenciales, donde el flujo del programa es inevitablemente único y donde el recorrido consiste en ejecutar una secuencia de pasos, sin podér cambiar o saltear algunas instrucciones, sin poder repetir etc, etc, etc... Teorema fundamental de la programación estructurada**\n",
    "\n",
    "Si un programa no fuera más que una lista de órdenes a ejecutar de forma secuencial, una por una, no tendría mucha utilidad. Es por ello que en la mayoría de los lenguajes de programación existen lo que se denominan estructuras de control. Estas estructuras permiten que, ante determinadas condiciones, un programa se comporte de diferentes maneras.\n",
    "\n",
    "Supongamos que queremos hacer un programa que nos haga ciertas preguntas y en base a las respuestas determine si nos conviene ir al trabajo en bicicleta o en auto. Este programa prodría considerar inicialmente la temperatura ambiente, la hora y la distancia. Estos indicadores (variables), determinarán si el programa se debe comportar de una forma u de otra para de este modo recomendarnos una cosa (el uso de la bicicleta) u otra (el auto).\n",
    "\n",
    "## Estructuras condicionales\n",
    "\n",
    "La primer estructura de control que veremos son los condicionales, los cuales nos permiten comprobar condiciones y hacer que ejecute un fragmento de código u otro, dependiendo de esta condición.\n",
    "Aquí es donde cobra su importancia el tipo booleano que aprendimos en la sección anterior sobre los tipos básicos.\n",
    "\n",
    "### Sentencia *if*\n",
    "La forma más simple de un estamento condicional es un ***if*** (del inglés si) seguido de la condición a evaluar, dos puntos (:) y en la siguiente línea e indentado, el código a ejecutar en caso de que se cumpla dicha condición.\n",
    "Por ejemplo, si consideramos lo anterior, y hacemos que el programa por ahora solo considere la temperatura, podríamos hacer lo siguiente:"
   ]
  },
  {
   "cell_type": "code",
   "execution_count": 1,
   "metadata": {
    "collapsed": false
   },
   "outputs": [
    {
     "name": "stdout",
     "output_type": "stream",
     "text": [
      "Deberías ser amable con el medio ambiente e ir en bicicleta\n"
     ]
    }
   ],
   "source": [
    "temperatura = 12\n",
    "if (temperatura > 10) and (temperatura < 30):\n",
    "    print('Deberías ser amable con el medio ambiente e ir en bicicleta')"
   ]
  },
  {
   "cell_type": "markdown",
   "metadata": {},
   "source": [
    "Esta sentencia se lee como: <code>si (if) temperatura mayor a 10 y menor a 30, entonces ejecutar: print('Deberías ser amable con el medio ambiente e ir en bicicleta')</code>. Estas sentencias solo se ejecutarán si se cumple la condición de que la variable temperatura contenga un valor que este entre 10 y 29, para el caso donde temperatura sea menor a 10 o mayor a 29, el programa no hará nada.\n",
    "\n",
    "![](files/img/u3/ej_sentencia_if.png)\n",
    "\n",
    "Una característica saliente para este tipo de comparaciones en Python es la de asemejar al lenguaje natural, por lo que podemos implementar la comparación previa haciendo:"
   ]
  },
  {
   "cell_type": "code",
   "execution_count": 10,
   "metadata": {
    "collapsed": false
   },
   "outputs": [],
   "source": [
    "if 10 < temperatura < 30:\n",
    "    print('Deberías ser amable con el medio ambiente e ir en bicicleta')"
   ]
  },
  {
   "cell_type": "markdown",
   "metadata": {},
   "source": [
    "**¿Qué acciones se ejecutan al cumplirse la condición?**\n",
    "\n",
    "Una cuestión muy importante es indentar tal como se ha hecho en el ejemplo, es decir, aseguraros de dejar una sangría en las líneas debajo de los 2 puntos (:) que se deben ejecutar en caso que la condición de la pregunta se cumpla.\n",
    "\n",
    "Todo lenguaje de programación tiene en su sintaxis un modo de identificar las acciones que forman parte de un bloque, en Python esto es a partir de la sangría.\n",
    "\n",
    "### Sentencia *if..else*\n",
    "\n",
    "Nuestro interés inicial era que el programa nos dijera si podemos ir en auto o en bicicleta, y el ejemplo anterior solo nos dice algo cuando podemos ir en bici, pero no dice o hace nada cuando la condición no se cumple. Para estos casos existe un condicional llamado <code>***else***</code> (del inglés si no), que se usa conjuntamente con <code>if</code> y que sirve para ejecutar ciertas instrucciones en caso de que la condición de la sentencia <code>if</code> no se cumpla. Por ejemplo:"
   ]
  },
  {
   "cell_type": "code",
   "execution_count": 4,
   "metadata": {
    "collapsed": false
   },
   "outputs": [
    {
     "name": "stdout",
     "output_type": "stream",
     "text": [
      "Está lindo para ir en bici\n"
     ]
    }
   ],
   "source": [
    "if (temperatura > 10) and (temperatura < 30):\n",
    "    print('Está lindo para ir en bici')\n",
    "else:\n",
    "    print('Te recomiendo ir en cole')"
   ]
  },
  {
   "cell_type": "markdown",
   "metadata": {},
   "source": [
    "Esto se lee como _si temperatura es mayor o igual a 10 y temperatura es menor que 30, entonces mostrar el mensaje 'Deberías ser amable con el medio ambiente e ir en bicicleta', sino mostrar el mensaje 'La temperatura no es agradable, te recomiendo ir en auto.'_. Siempre se ejecutará una opción u otra, dependiendo del valor de la variable temperatura. Por lo que en este punto podemos decir que el código se bifurca en dos caminos diferentes dependiendo de una condición (que en este caso es el valor de la variable temperatura).\n",
    "\n",
    "![](files/img/u3/ej_sentencia_if_else.png)\n",
    "\n",
    "En este caso también tenemos que prestar atención a la indentación utilizada. La sentencia _else_ se escribe al mismo nivel que la sentencia _if_, y las sentencias que se deben ejecutar en caso de no se cumpla la condición if, deben ir indentadas también.\n",
    "\n",
    "Una versión más completa del programa podría ser la siguiente:"
   ]
  },
  {
   "cell_type": "code",
   "execution_count": 8,
   "metadata": {
    "collapsed": false
   },
   "outputs": [
    {
     "name": "stdout",
     "output_type": "stream",
     "text": [
      "Ingrese la temperatura en ºC:12\n",
      "Deberías ser amable con el medio ambiente e ir en bicicleta\n",
      "Que tenga buen día!\n"
     ]
    }
   ],
   "source": [
    "temperatura = int(input('Ingrese la temperatura en ºC:'))\n",
    "\n",
    "if (temperatura > 10) and (temperatura < 30):\n",
    "    print('Está lindo para ir en bici')\n",
    "else:\n",
    "    print('Te recomiendo ir en cole')\n",
    "    \n",
    "print('Que tenga buen día!')"
   ]
  },
  {
   "cell_type": "markdown",
   "metadata": {},
   "source": [
    "En este caso consultamos por la temperatura, pidiendole al usuario que la ingrese por teclado (para esto utilizamos la función _input_ que vimos en la Unidad 1). Luego mostramos en patalla lo que corresponda según el valor ingresado, y por último mostramos el mensaje 'Que tenga buen día!'.\n",
    "Es importante mencionar que la última sentencia siempre se ejecutará, la bifurcación se produce solamente entre las sentencias que estan dentro del if y el else, lo restante se seguirá ejecutando de manera secuencial.\n",
    "\n",
    "![](files/img/u3/ej_sentencia_if_else_completa.png)\n",
    "\n",
    "### Estructura de selección múltiple *if..elif..else*\n",
    "\n",
    "En los dos casos previos la secuencia de ejecución del programa tiene solamente dos alternativas, si la condición es verdadera (`True`) o si es falsa (`False`), incluso puede no existir un camino por la alternativa falsa, tal como se planteó en el primer ejemplo.\n",
    "\n",
    "Las estructuras de selección múltiple sirven para evaluar mas de una condición y por ende posibilitar varios caminos de ejecución del programa. En Python, la forma de esta estructura es del siguiente modo:\n",
    "\n",
    "```python\n",
    "\n",
    "if condicion1:\n",
    "    acciones\n",
    "    ...\n",
    "elif condicion2:\n",
    "    acciones\n",
    "    ...\n",
    "elif condicion3:\n",
    "    acciones\n",
    "    ...\n",
    "else:\n",
    "    acciones\n",
    "    ...\n",
    "```\n",
    "\n",
    "La interpretación de esta sentencia significa que cuando cumpla alguna de las condiciones ingresará al bloque de acciones correspondientes y, en caso que no cumpla con ninguna, ejecutará las acciones del `else`, que podría ser omitido si no son necesarias acciones por defecto.\n",
    "\n",
    "Veamos un ejemplo para mejorar la comprensión. Se lee una nota numérica de una evaluación (0..100) y el programa debe mostrar una calificación cualitativa según la siguiente escala: \n",
    "\n",
    "- Insuficiente (nota < 60)\n",
    "- Aprobado (60 <= nota < 70)\n",
    "- Bueno (70 <= nota < 80)\n",
    "- Muy Bueno (80 <= nota < 90)\n",
    "- Distinguido (90 <= nota < 100)\n",
    "- Sobresaliente (nota = 100)"
   ]
  },
  {
   "cell_type": "code",
   "execution_count": 6,
   "metadata": {
    "collapsed": false
   },
   "outputs": [
    {
     "name": "stdout",
     "output_type": "stream",
     "text": [
      "Ingrese la nota (0..100): 98\n",
      "Calificación:  Distinguido\n"
     ]
    }
   ],
   "source": [
    "# Lectura de la nota\n",
    "nota = int(input('Ingrese la nota (0..100): '))\n",
    "# Decide la calif. correspondiente\n",
    "if nota < 60:\n",
    "    calif = \"Insuficiente\"\n",
    "elif 60 <= nota < 70:\n",
    "    calif = \"Aprobado\"\n",
    "elif 70 <= nota < 80:\n",
    "    calif = \"Bueno\"\n",
    "elif 80 <= nota < 90:\n",
    "    calif = \"Muy Bueno\"\n",
    "elif 90 <= nota < 100:\n",
    "    calif = \"Distinguido\"\n",
    "else:\n",
    "    calif = \"Sobresaliente\"\n",
    "# Mensaje alusivo\n",
    "print(\"Calificación: \", calif)"
   ]
  },
  {
   "cell_type": "markdown",
   "metadata": {},
   "source": [
    "Como se observa, cada expresión condicional planteada es exluyente de las demás, por lo que no puede cumplir con mas de una a la vez. Ahora, podría existir un planteo donde se cumplan más de una condición y la pregunta obvia es, ¿qué sucede en ese caso?\n",
    "\n",
    "En el siguiente programa, ¿qué mensaje se muestra en pantalla?\n",
    "\n",
    "```python\n",
    "val = 85\n",
    "if val > 81:\n",
    "    print(\"opción 1\")\n",
    "elif val > 82:\n",
    "    print(\"opción 2\")\n",
    "elif val > 83:\n",
    "    print(\"opción 3\")\n",
    "```"
   ]
  },
  {
   "cell_type": "markdown",
   "metadata": {},
   "source": [
    "### Estructuras anidadas\n",
    "\n",
    "Supongamos ahora que también queremos considerar la distancia que se debe recorrer. En este caso deberíamos preguntar por la distancia, pero también por la temperatura. Para que en los casos donde la temperatura sea agradable, la distancia no sea demasiado larga como para ir en bicicleta.\n",
    "\n",
    "Para estos casos, se pueden utilizar estructuras anidadas, es decir, en el bloque de código que se ejecutará en caso de cumplirse o no una determina condición, podemos poner una nueva estructura de control, por ejemplo un nuevo _if_.\n",
    "\n",
    "Reescribamos el código anterior para que considere esta nueva condición, y veamos como usar estructuras anidadas:"
   ]
  },
  {
   "cell_type": "code",
   "execution_count": 10,
   "metadata": {
    "collapsed": false
   },
   "outputs": [
    {
     "name": "stdout",
     "output_type": "stream",
     "text": [
      "Ingrese la temperatura en ºC:12\n",
      "Ingrese la distancia a recorrer en km:12\n",
      "Deberías ser amable con el medio ambiente e ir en bicicleta\n",
      "Que tenga buen día!\n"
     ]
    }
   ],
   "source": [
    "temperatura = int(input('Ingrese la temperatura en ºC:'))\n",
    "distancia = int(input('Ingrese la distancia a recorrer en km:'))\n",
    "\n",
    "if (temperatura > 10) and (temperatura < 30):\n",
    "    if (distancia <= 15):\n",
    "        print('Está lindo para ir en bici')\n",
    "    else:\n",
    "        print('Está lindo, pero es lejos, le recomiendo ir en auto')\n",
    "else:\n",
    "    print('La temperatura no es agradable, le recomiendo ir en auto.')\n",
    "    \n",
    "print('Que tenga buen día!')"
   ]
  },
  {
   "cell_type": "markdown",
   "metadata": {},
   "source": [
    "En este caso si se cumple la condición de que la variable temperatura contiene un valor entre 10 y 29, se pasa a considerar el valor de la variable distancia; si esta es menor o igual a 15, se muestra el mensaje _'Deberías ser amable con el medio ambiente e ir en bicicleta'_, en caso contrario, se muestra el mensaje _'El clima es agradable, pero la distancia es muy larga. Le recomiendo ir en auto'_. Por otro lado, si el valor de la variable temperatura no esta entre 10 y 29, se seguirá mostrando el mensaje _'La temperatura no es agradable, le recomiendo ir en auto'_. Lo mismo sucede con la última sentencia, la cual mostrará el mensaje _'Que tenga buen día!'_ independientemente del valor de las variables _temperatura_ y _distancia_\n",
    "\n",
    "## Estructuras repetitivas\n",
    "\n",
    "Ahora podemos dotar a nuestros programas de mayor complejidad, combinando y anidando las estructuras condicionales vistas la secuencia de ejecución puede ser muy variada. Sin embargo, aún tenemos una limitante, cada instrucción tendrá vida al momento de ser ejecutada e inmediamente después no se ejecutará más hasta que se el programa sea invocado nuevamente. \n",
    "\n",
    "Imaginemos que debemos consultar la pregunta de la temperatura a cientos de miles de personas, deberíamos ejecutar cientos de miles de veces el programa, iniciandolo y esperando su finalización para repetir el proceso una y otra vez. Se hace evidente la ausencia de una estructura que permita repetir cuantas veces se requiera una determinada acción, aquí es donde entran en acción las estructuras repeto"
   ]
  },
  {
   "cell_type": "markdown",
   "metadata": {},
   "source": [
    "### Sentencia *while*\n",
    "El *while* permite repetir una serie de acciones mientras que una determinada expresión (o condición) se cumpla, en caso contrario, se finaliza la repetición. \n",
    "\n",
    "Una expresión se cumple cuando arroja un resultado verdadero, que en Python es ```True```. La estructura del *while* es la siguiente:\n",
    "\n",
    "```python\n",
    "while <expresion>\n",
    "    accion1\n",
    "    accion2\n",
    "    ...\n",
    "    accionN\n",
    "```\n",
    "\n",
    "Tal como se explicó previamente, las acciones que se repiten en cada iteración son aquellas que tienen sangría, lo que indica que son partes del ciclo *while*.\n",
    "\n",
    "#### Bucles condicionales\n",
    "\n",
    "Veamos un ejemplo donde se le pregunte el valor de temperatura a 5 personas y sugiera ir caminando si el clima es agradable (mayor a 16°C) o en caso contrario en vehículo. Tomemos una estrategia para resolver el problema:\n",
    "\n",
    "1. Leemos una temperatura que se ingresa por teclado\n",
    "2. Escribimos en pantalla un mensaje según la temperatura\n",
    "3. Repetir los dos pasos previos un total de cinco veces\n",
    "\n",
    "\n",
    "**Pasos 1 y 2**\n",
    "\n",
    "```python\n",
    "temperatura = int(input('Ingrese la temperatura en ºC:'))\n",
    "if (temperatura > 16):\n",
    "    print('Vas caminando')\n",
    "else:\n",
    "    print('Mucho frío, en vehículo')\n",
    "```\n",
    "\n",
    "**Paso 3**\n",
    "\n",
    "Debemos englobar los pasos previos en una estructura que repita 5 veces. Pensemos lo anterior como un único bloque denominado *Pasos1y2*, y una manera de controlar cinco repeticiones. Para ésto, usamos una variable con un valor inicial conocido (1) que incrementamos en una unidad luego de cada ejecución del bloque que denominamos *Pasos1y2*. La estructura de nuestro programa podría ser la siguiente:\n",
    "\n",
    "```python\n",
    "vez = 1\n",
    "while vez <= 5:\n",
    "    Pasos1y2\n",
    "    vez = vez + 1\n",
    "```\n",
    "\n",
    "Ahora bien, cuando finaliza la ejecución de la instrucción `vez = vez + 1` la estructura iterativa evalúa nuevamente la expresión `vez <= 5` cuyo resultado puede ser cierto o no (`True` o `False`). Si el resultado es `True`, entonces el ciclo continuará con las acciones contenidas, re-evaluando la expresión en cada itereación y finalizando cuando sea `False`, es decir, cuando la variable `vez` ya no sea menor o igual que 5.\n",
    "\n",
    "Ahora que ya hemos desmenuzado el inofensivo código previo, podemos pasar a la versión final del pequeño programa."
   ]
  },
  {
   "cell_type": "code",
   "execution_count": 3,
   "metadata": {
    "collapsed": false
   },
   "outputs": [
    {
     "name": "stdout",
     "output_type": "stream",
     "text": [
      "Ingrese la temperatura en ºC:12\n",
      "Mucho frío, en vehículo\n",
      "Ingrese la temperatura en ºC:16\n",
      "Mucho frío, en vehículo\n",
      "Ingrese la temperatura en ºC:17\n",
      "Vas caminando\n",
      "Ingrese la temperatura en ºC:18\n",
      "Vas caminando\n",
      "Ingrese la temperatura en ºC:20\n",
      "Vas caminando\n"
     ]
    }
   ],
   "source": [
    "vez = 1\n",
    "while vez <= 5:\n",
    "    temperatura = int(input('Ingrese la temperatura en ºC:'))\n",
    "    if (temperatura > 16):\n",
    "        print('Vas caminando')\n",
    "    else:\n",
    "        print('Mucho frío, en vehículo')\n",
    "    vez = vez + 1"
   ]
  },
  {
   "cell_type": "markdown",
   "metadata": {},
   "source": [
    "Este tipo de bucle, donde la cantidad de iteraciones depende de una condición es denominado como **bucles o lazos condicionales** y cuenta con dos características destacables:\n",
    "\n",
    "- El valor a ser evaluado en la expresión debe estar definido\n",
    "- En cada iteración el valor a ser evaluado en la expresión debe modificarse \n",
    "\n",
    "El primer item evita obtener un mensaje de error, ya que no es posible evaluar en una expresión con un valor que aún no ha sido definido, es decir, que no tiene asignado algún valor válido.\n",
    "\n",
    "La segunda característica evita tener un **bucle infinito** y por ende un programa que nunca finalice. Este tipo de errores es más difícil de detectar, ya que a priori el ejemplo parecería correcto. \n",
    "\n",
    "#### Bucles interactivos\n",
    "\n",
    "Otro tipo bucle para el que la estructura *while* se adapta fácilmente es aquellos donde la repetición depende de un valor que ingresa el usuario, es decir, para aquellos programas donde la condición de corte o repetición sea interactiva. Veamos un ejemplo en el que se calcula el promedio a partir del ingreso por parte del usuario de valores numéricos enteros.\n",
    "\n",
    "Pensemos una posible estrategia para su solución: el programa le solicitará ingresar un nuevo valor numérico mientras que el usuario ingrese *si*, a su vez deberá ir sumando estos valores y contándolos. Veamos el pseudocódigo del algoritmo mencionado:\n",
    "\n",
    "```\n",
    "Inicializar variable suma pasa sumar los números\n",
    "Inicializar variable cant para contar los números\n",
    "Inicializar variable mas_datos donde se almacenará la respuesta del usuario (si/no)\n",
    "Mientras la variable mas_datos sea si:\n",
    "    Leer en x el nuevo valor numérico\n",
    "    Sumarlo a la variable suma\n",
    "    Contarlo\n",
    "    Pregutar al usuario si sigue ingresando números\n",
    "Mostrar en pantalla el promedio\n",
    "```\n",
    "\n",
    "Ahora veamos lo directa que es la traducción del algoritmo al lenguaje Python:"
   ]
  },
  {
   "cell_type": "code",
   "execution_count": 2,
   "metadata": {
    "collapsed": false
   },
   "outputs": [
    {
     "name": "stdout",
     "output_type": "stream",
     "text": [
      "Ingrese valor12\n",
      "¿Mas valores (si/no)?si\n",
      "Ingrese valor3\n",
      "¿Mas valores (si/no)?si\n",
      "Ingrese valor44\n",
      "¿Mas valores (si/no)?no\n",
      "El promedio de valores es 19.666666666666668\n"
     ]
    }
   ],
   "source": [
    "suma = 0.0\n",
    "cant = 0\n",
    "mas_datos = 'si'\n",
    "while mas_datos == 'si':\n",
    "    x = int(input('Ingrese valor'))\n",
    "    suma = suma + x\n",
    "    cant = cant + 1\n",
    "    mas_datos = input('¿Mas valores (si/no)?')\n",
    "print('El promedio de valores es', suma/cant)"
   ]
  },
  {
   "cell_type": "markdown",
   "metadata": {},
   "source": [
    "La limitación que encontramos está dada por la incomodidad de tener que ingresar dos valores por ciclo, uno para el dato numérico y otro para controlar si el usuario desea continuar o no. En ciertos casos puede ser la única alternativa, sin embargo, en otros se puede utilizar los bucles centinelas que se describen a continuación.\n",
    "\n",
    "#### Bucles centinelas\n",
    "\n",
    "Otro tipo de bucles denominados centinelas, son aquellos donde la condición de corte tiene que ver con un valor que se diferencia del patrón que se ingresará y, será útil para discernir el momento en que corresponda continuar o bien finalizar la repetición. \n",
    "\n",
    "Para el caso del cálculo del promedio, suponiendo que todos los valores serán siempre positivos podríamos tomar la estrategia de controlar que el valor ingresado sea mayor a cero para continuar la iteración. El pseudocódigo, sin detalles, sería similar al siguiente:\n",
    "\n",
    "```\n",
    "Leer en x el primer valor numérico\n",
    "Mientras el valor x no sea el centinela:\n",
    "    Sumarlo a la variable suma\n",
    "    Contarlo\n",
    "    Leer en x el nuevo valor numérico\n",
    "Mostrar en pantalla el promedio\n",
    "```\n",
    "\n",
    "Veamos la implementación del amigable programa en Python:"
   ]
  },
  {
   "cell_type": "code",
   "execution_count": null,
   "metadata": {
    "collapsed": true
   },
   "outputs": [],
   "source": [
    "suma = 0.0\n",
    "cant = 0\n",
    "x = int(input('Ingrese valor (negativo para salir)'))\n",
    "while x > 0:\n",
    "    suma = suma + x\n",
    "    cant = cant + 1\n",
    "    x = int(input('Ingrese valor (negativo para salir)'))\n",
    "print('El promedio de valores es', suma/cant)"
   ]
  },
  {
   "cell_type": "markdown",
   "metadata": {},
   "source": [
    "Se debe ser cuidadoso en mantener exactamente el mismo mensaje previo a ingresar al ciclo y en la última instrucción para dar al usuario una idea de continuidad viendo una y otra vez el mismo comportamiento.\n",
    "\n",
    "Para el ejemplo expuesto, la limitación esta dada para aquellos casos donde se ingresen valores negativos para ser incluídos en el cálculo del promedio. Sin embargo, Python provee herramientas que permiten salvar este inconveniente. \n",
    "\n",
    "El problema consiste en:\n",
    "\n",
    "1. Solicitar al usuario ingrese el valor numérico o que presione *enter* para salir\n",
    "2. Evaluar en la expresión de corte para iterar mientras que el valor ingresado no sea vacío\n",
    "3. Realizar los cálculos"
   ]
  },
  {
   "cell_type": "code",
   "execution_count": 5,
   "metadata": {
    "collapsed": false
   },
   "outputs": [
    {
     "name": "stdout",
     "output_type": "stream",
     "text": [
      "Ingrese valor (<enter> para salir)12\n",
      "Ingrese valor (<enter> para salir)-2\n",
      "Ingrese valor (<enter> para salir)-3\n",
      "Ingrese valor (<enter> para salir)23\n",
      "Ingrese valor (<enter> para salir)2\n",
      "Ingrese valor (<enter> para salir)\n",
      "El promedio de valores es 6.4\n"
     ]
    }
   ],
   "source": [
    "suma = 0.0\n",
    "cant = 0\n",
    "x = input('Ingrese valor (<enter> para salir)')\n",
    "while x != '':\n",
    "    suma = suma + eval(x)\n",
    "    cant = cant + 1\n",
    "    x = input('Ingrese valor (<enter> para salir)')\n",
    "print('El promedio de valores es', suma/cant)"
   ]
  },
  {
   "cell_type": "markdown",
   "metadata": {},
   "source": [
    "El valor leído en *x* no se convierte en un número entero, sino que se lo mantiene como *str* hasta el momento de sumarlo a la variable *suma* utilizando la función *eval()*. Cuando el usuario presione enter el caracter en *x* será igual al caracter vacío y no ingresará al ciclo *while*.\n",
    "\n",
    "### Sentencia *for*\n",
    "\n",
    "La sentencia *for* provee otro modo de realizar bucles repetitivos en Python. Si bien la elección de un bucle u otro muchas veces dependerá del gusto o preferencia del programador, para ciertos casos suele ser más cómoda una estructura que otra. \n",
    "\n",
    "Veamos la sintaxis básica del bucle for:\n",
    "\n",
    "```python\n",
    "\n",
    "for <var> in <secuencia>:\n",
    "    accion1\n",
    "    accion2\n",
    "    ...\n",
    "    accionN\n",
    "```\n",
    "\n",
    "El *for* ejecuta el bloque de acciones tantas veces como elementos contenga la *secuencia*, y en cada iteración la variable *var* almacenará uno a uno sus valores.\n",
    "\n",
    "El significado de secuencia para Python puede variar desde cadenas de caracteres a listas de valores de tipos de datos ya vistos, simplifando la definición, podemos definir una secuencia como todo tipo o estructura de datos formada por elementos por los que se puede iterar. \n",
    "\n",
    "Veamos un ejemplo, donde mostramos los caracteres de una cadena."
   ]
  },
  {
   "cell_type": "code",
   "execution_count": 12,
   "metadata": {
    "collapsed": false
   },
   "outputs": [
    {
     "name": "stdout",
     "output_type": "stream",
     "text": [
      "e\n",
      "s\n",
      "t\n",
      "i\n",
      "m\n",
      "a\n",
      "d\n",
      "o\n",
      "s\n"
     ]
    }
   ],
   "source": [
    "palabra = 'estimados'\n",
    "for letra in palabra:\n",
    "    print(letra)"
   ]
  },
  {
   "cell_type": "markdown",
   "metadata": {},
   "source": [
    "Al analizar el ejemplo vemos que la variable *palabra* que contiene una **cadena de caracteres, funciona como una secuencia**, y la variable *letra* en cada iteración toma automáticamente el caracter subsiguiente.\n",
    "\n",
    "### Iteraciones sobre secuencias numéricas\n",
    "\n",
    "Para iterar sobre secuencias numéricas combinamos el uso del `for` con la función `range()`. Veamos un ejemplo de una iteración sobre 3 valores:"
   ]
  },
  {
   "cell_type": "code",
   "execution_count": 16,
   "metadata": {
    "collapsed": false
   },
   "outputs": [
    {
     "name": "stdout",
     "output_type": "stream",
     "text": [
      "0\n",
      "1\n",
      "2\n"
     ]
    }
   ],
   "source": [
    "for num in range(3):\n",
    "    print(num)"
   ]
  },
  {
   "cell_type": "markdown",
   "metadata": {},
   "source": [
    "Cuando utilizamos la función `range()` con un único argumento como dato, para el ejemplo previo el número 3, nos genera una secuencia de 3 valores, comenzando desde 0 y avanzando de a un valor, es decir, con paso 1. Sin embargo, podemos cambiar este comportamiento indicando el valor inicial y final haciendo `range(inicio,fin)`, por ejemplo, se se desea iterar por valores numéricos entre 10 y 14:"
   ]
  },
  {
   "cell_type": "code",
   "execution_count": 20,
   "metadata": {
    "collapsed": false
   },
   "outputs": [
    {
     "name": "stdout",
     "output_type": "stream",
     "text": [
      "10\n",
      "11\n",
      "12\n",
      "13\n"
     ]
    }
   ],
   "source": [
    "for num in range(10,14):\n",
    "    print(num)"
   ]
  },
  {
   "cell_type": "markdown",
   "metadata": {},
   "source": [
    "Se debe notar que el valor final no es alcanzado en la iteración. También es posible indicarle el paso del incremento, como se deduce del ejemplo previo, al indicar solamente el valor inicial y final, se da por sentado que el incremento es de 1, cambiemos este comportamiento utilizando `range(inicio, fin, paso)`:"
   ]
  },
  {
   "cell_type": "code",
   "execution_count": 22,
   "metadata": {
    "collapsed": false
   },
   "outputs": [
    {
     "name": "stdout",
     "output_type": "stream",
     "text": [
      "10\n",
      "12\n",
      "14\n",
      "16\n",
      "18\n"
     ]
    }
   ],
   "source": [
    "for num in range(10,19,2):\n",
    "    print(num)"
   ]
  },
  {
   "cell_type": "markdown",
   "metadata": {},
   "source": [
    "Otra posibilidad es recorrer una secuencia numérica en sentido sentido inverso, utilizando un incremento negativo y los valores de inicio y fin consistentes:"
   ]
  },
  {
   "cell_type": "code",
   "execution_count": 23,
   "metadata": {
    "collapsed": false
   },
   "outputs": [
    {
     "name": "stdout",
     "output_type": "stream",
     "text": [
      "19\n",
      "17\n",
      "15\n",
      "13\n",
      "11\n"
     ]
    }
   ],
   "source": [
    "for num in range(19,10,-2):\n",
    "    print(num)"
   ]
  },
  {
   "cell_type": "markdown",
   "metadata": {},
   "source": [
    "Del resultado previo queda en evidencia que se mantiene la coherencia respecto a excluir el último valor de la secuencia y a incluir el inicial.\n",
    "\n",
    "Veamos un ejemplo que resolvimos anteriormente utilizando el `while`, ahora usando `for`:\n",
    "\n",
    "```python\n",
    "for vez in range(5)\n",
    "    temperatura = int(input('Ingrese la temperatura en ºC:'))\n",
    "    if (temperatura > 16):\n",
    "        print('Vas caminando')\n",
    "    else:\n",
    "        print('Mucho frío, en vehículo')\n",
    "```\n",
    "\n",
    "Como vemos, nos despreocupamos de la inicialización de la variable *vez* y de controlar su incremento, ya que esto se realiza automáticamente, por lo que para ciclos que conocemos de antemano la cantidad de iteraciones suele ser más simple y directo que el `while`.\n",
    "\n",
    "La sentencia `for` en combinación con`range()` es un instrucción muy potente y flexible, más aún al ser combinadas con otro tipo de estructuras de datos como cadenas de caracteres y listas, que veremos en secciones posteriores."
   ]
  },
  {
   "cell_type": "markdown",
   "metadata": {},
   "source": [
    "## Estructura de datos *listas*, *diccionarios* y *tuplas*\n",
    "\n",
    "### Listas\n",
    "\n",
    "Hasta aquí todo dato procesado, manipulado y operado ha sido almacenado en variables, sin embargo, para ciertos problemas no son suficientes. Supongamos un caso donde leemos una serie de temperaturas mensuales durante los últimos 10 años y que posteriormente queremos saber las temperaturas que han superado la media. \n",
    "\n",
    "Si utilizamos variables, deberíamos leer los 120 valores para calcular el promedio y reingresar nuevamente las temperaturas mensuales para corroborar aquellas que superaron la media. Claramente el usuario de este programa no estará muy feliz de tener que tipear nuevamente la totalidad de los datos.\n",
    "\n",
    "Para este tipo de problemas y muchos otros más existe una estructuras más compleja y de gran utilidad denominada **listas**. \n",
    "\n",
    "A diferencia de una variable que contiene un dato por vez, una lista puede almacenar varios en forma simultánea en diferentes posiciones, por lo que para referirnos a uno de ellos necesitamos especificarle el índice. Por ejemplo, en la siguiente lista denominada *tempC* hay almacenados tres valores numéricos flotantes, el primero está en la posición 0, el segundo en la posición 1 y, el tercero en la posición 2:\n",
    "\n",
    "|12.2 | 33.3| 12.1 | \n",
    "|:---:|:---:|:--:| \n",
    "|  0  |  1  |  2 |\n",
    "\n",
    "Para **declarar e inicializar** una lista vacía y otra con esos tres valores haremos:"
   ]
  },
  {
   "cell_type": "code",
   "execution_count": 49,
   "metadata": {
    "collapsed": true
   },
   "outputs": [],
   "source": [
    "# Lista vacia\n",
    "vacia = []\n",
    "# Lista con 3 valores flotantes\n",
    "tempC = [12.2, 33.3, 12.1]"
   ]
  },
  {
   "cell_type": "markdown",
   "metadata": {},
   "source": [
    "Para acceder a un elemento específico, debemos utilizar el identificador de la lista, seguido del índice entre corchetes (cualquier expresión entera), veamos un ejemplo donde realizamos las siguientes acciones:\n",
    "\n",
    "1. Imprimir en pantalla el segundo valor, de la posición 1, \n",
    "2. Asignarle un nuevo valor que lo reemplace y volver a imprimirlo\n",
    "3. Mostrar todo el contenido de la lista usando un bucle *for*\n",
    "4. Mostrar aquellas temperaturas que superaron el promedio"
   ]
  },
  {
   "cell_type": "code",
   "execution_count": 18,
   "metadata": {
    "collapsed": false
   },
   "outputs": [
    {
     "name": "stdout",
     "output_type": "stream",
     "text": [
      "2do elemento: 100\n",
      "2do elemento modificado: 100\n",
      "Lista:\n",
      "12.2\n",
      "100\n",
      "12.1\n",
      "La temperatura 100 superó la media\n"
     ]
    }
   ],
   "source": [
    "# Elemento 1 de la lista\n",
    "print(\"2do elemento:\", tempC[1])\n",
    "\n",
    "# Reemplaza el elemento 1 con 100\n",
    "tempC[1] = 100\n",
    "print(\"2do elemento modificado:\",tempC[1])\n",
    "\n",
    "# Lista completa y calculo de promedio\n",
    "print(\"Lista:\")\n",
    "media = 0.0\n",
    "for i in tempC:\n",
    "    print(i)\n",
    "    media = media + i\n",
    "media = media/3\n",
    "\n",
    "# Elementos que superan el promedio\n",
    "for i in tempC:\n",
    "    if i > media:\n",
    "        print(\"La temperatura\", i, \"superó la media\")"
   ]
  },
  {
   "cell_type": "markdown",
   "metadata": {},
   "source": [
    "Como se observa en el ciclo iterativo previo, las listas son perfectamente iterables en el `for`, ya que al igual que una cadena de caracteres, es una secuencia de valores, la diferencia radica que en una cadena los valores son caracteres mientras que en una lista pueden ser de cualquier tipo y son llamados elementos o items. \n",
    "\n",
    "Otro detalle es que una lista puede contener elementos de diferente tipo, incluso otra lista. Veamos una lista que combine elementos de distintos tipos:"
   ]
  },
  {
   "cell_type": "code",
   "execution_count": 45,
   "metadata": {
    "collapsed": false
   },
   "outputs": [
    {
     "name": "stdout",
     "output_type": "stream",
     "text": [
      "1er elemento:  12\n",
      "2do elemento:  3.1415\n",
      "3er elemento:  amapola del 66\n",
      "4to elemento:  True\n",
      "5to elemento:  [12.2, 100, 12.1]\n"
     ]
    }
   ],
   "source": [
    "# Lista que almacena distintos tipos de datos\n",
    "popurri = [12, 3.1415, \"amapola del 66\", True, tempC]\n",
    "\n",
    "# Imprimen los elementos\n",
    "print(\"1er elemento: \", popurri[0])\n",
    "print(\"2do elemento: \", popurri[1])\n",
    "print(\"3er elemento: \", popurri[2])\n",
    "print(\"4to elemento: \", popurri[3])\n",
    "print(\"5to elemento: \", popurri[4])"
   ]
  },
  {
   "cell_type": "markdown",
   "metadata": {},
   "source": [
    "Ahora bien, seguramente el lector estará intrigado sobre el acceso a un elemento en particular de la lista *tempC*, ubicada en la 5ta posición de la lista *popurri*. En *popurri[4]* se referencia el elemento en cuestión, que es una lista, por lo que agregando un índice más accedemos, veamos el código:"
   ]
  },
  {
   "cell_type": "code",
   "execution_count": 17,
   "metadata": {
    "collapsed": false
   },
   "outputs": [
    {
     "name": "stdout",
     "output_type": "stream",
     "text": [
      "12.2\n",
      "100\n",
      "12.1\n"
     ]
    }
   ],
   "source": [
    "print(popurri[4][0])\n",
    "print(popurri[4][1])\n",
    "print(popurri[4][2])"
   ]
  },
  {
   "cell_type": "markdown",
   "metadata": {},
   "source": [
    "Una de las funcionalidades que nos provee Python para obtener información sobre la cantidad de elementos de las listas es `len()`. Veamos los resultados que arroja aplicado a la lista *popurri*."
   ]
  },
  {
   "cell_type": "code",
   "execution_count": 48,
   "metadata": {
    "collapsed": false
   },
   "outputs": [
    {
     "name": "stdout",
     "output_type": "stream",
     "text": [
      "5\n",
      "3\n"
     ]
    }
   ],
   "source": [
    "print(len(popurri))\n",
    "print(len(popurri[4]))"
   ]
  },
  {
   "cell_type": "markdown",
   "metadata": {},
   "source": [
    "Otra alternativa para iterar sobre una lista es combinando la función range que vimos anteriormente y la cantidad de elementos de la lista, de manera que podemos acceder a los items a partir de su índice:"
   ]
  },
  {
   "cell_type": "code",
   "execution_count": 52,
   "metadata": {
    "collapsed": false
   },
   "outputs": [
    {
     "name": "stdout",
     "output_type": "stream",
     "text": [
      "Temperatura 0 : 12.2\n",
      "Temperatura 1 : 33.3\n",
      "Temperatura 2 : 12.1\n"
     ]
    }
   ],
   "source": [
    "n = len(tempC)\n",
    "for i in range(n):\n",
    "    print(\"Temperatura\", i, \":\",tempC[i])"
   ]
  },
  {
   "cell_type": "markdown",
   "metadata": {},
   "source": [
    "La función `len()` retornó la cantidad de elementos de la lista *tempC*, ese resultado, almacenado en n, fué utilizado como el valor para la función `range()` que generó una secuencia numérica (una lista!!!) que va desde 0 hasta `n-1`.\n",
    "\n",
    "Veamos otro ejemplo de una lista de cadenas de caracteres. \n",
    "Tenemos algunos equipos de fútbol santafesino de primera división y queremos imprimir el fixture con todas las combinaciones de los partidos de ida, es decir, si el equipo A ya jugó con el B, no tendremos en cuenta que el equipo B juegue con el A.\n",
    "\n",
    "**Analicemos la estrategia:** Por cada equipo de la lista debemos imprimir uno a uno los rivales subsiguientes, es decir, imprimimos el primer equipo con el segundo, luego con el tercero y finalmente con el cuarto. Luego, al pasar al segundo equipo de la lista, no debemos imprimir el primero, porque ya fué rival, sino que los restantes y así sucesivamente."
   ]
  },
  {
   "cell_type": "code",
   "execution_count": 58,
   "metadata": {
    "collapsed": false
   },
   "outputs": [
    {
     "name": "stdout",
     "output_type": "stream",
     "text": [
      "Colón vs A. Rafaela\n",
      "Colón vs Central\n",
      "Colón vs Newell\n",
      "A. Rafaela vs Central\n",
      "A. Rafaela vs Newell\n",
      "Central vs Newell\n"
     ]
    }
   ],
   "source": [
    "equipos = [\"Colón\", \"A. Rafaela\", \"Central\", \"Newell\"]\n",
    "n = len(equipos)\n",
    "for i in range(n):\n",
    "    for j in range(i+1,n):\n",
    "        print(equipos[i],\"vs\",equipos[j])\n",
    "    "
   ]
  },
  {
   "cell_type": "markdown",
   "metadata": {},
   "source": [
    "#### Listas bidimensionales\n",
    "Una lista unidimensional es aquella donde se utiliza un único índice para acceder a sus elementos, en el caso que utilicemos dos índices la lista es bidimensional y se la denomina matriz.\n",
    "\n",
    "Veamos un caso de una lista bidimensional de tres filas y cinco columnas (3x5)\n",
    "\n",
    "||  0  |  1  |  2 | 3 | 4 |\n",
    "|:---:|:---:|:---:|:--:|:---:|:--:|\n",
    "|**0**|12.2 | 33.3| 12.1 | 0.3| 1.21 |\n",
    "|**1**|  3.14  |  2.1  |  9.8 |  28.1  |  19.8 |\n",
    "|**2**|  10.8  |  0.1  |  0.2 |  22.1  |  9.38 |\n",
    "\n",
    "Veamos el modo de definirla:"
   ]
  },
  {
   "cell_type": "code",
   "execution_count": 35,
   "metadata": {
    "collapsed": false
   },
   "outputs": [],
   "source": [
    "matriz = [\n",
    "    [12.2, 33.3, 12.1, 0.3, 1.21],\n",
    "    [3.14, 2.1, 9.8, 28.1, 19.9], \n",
    "    [10.8, 0.1, 0.2, 22.1, 9.38]\n",
    "    ]"
   ]
  },
  {
   "cell_type": "markdown",
   "metadata": {},
   "source": [
    "El acceso a cada dato se realiza utilizando los dos índices, donde el primero hace referencia a la fila y el segundo a la columna. Así, si se accede al segundo elemento (1) de la tercer fila sería (2): `matriz[2][1]`.\n",
    "\n",
    "El recorrido de una matriz se simplifica utilizando ciclos repetitivos anidados, veamos un posible modo de iterar por las columnas de la matriz previamente definida."
   ]
  },
  {
   "cell_type": "code",
   "execution_count": 39,
   "metadata": {
    "collapsed": false
   },
   "outputs": [
    {
     "name": "stdout",
     "output_type": "stream",
     "text": [
      "Culumna 0\n",
      "12.2\n",
      "3.14\n",
      "10.8\n",
      "\n",
      "Culumna 1\n",
      "33.3\n",
      "2.1\n",
      "0.1\n",
      "\n",
      "Culumna 2\n",
      "12.1\n",
      "9.8\n",
      "0.2\n",
      "\n",
      "Culumna 3\n",
      "0.3\n",
      "28.1\n",
      "22.1\n",
      "\n",
      "Culumna 4\n",
      "1.21\n",
      "19.9\n",
      "9.38\n",
      "\n"
     ]
    }
   ],
   "source": [
    "for c in range(5):\n",
    "    print(\"Culumna\",c)\n",
    "    for f in range(3):\n",
    "        print(matriz[f][c])\n",
    "    print()"
   ]
  },
  {
   "cell_type": "markdown",
   "metadata": {},
   "source": [
    "#### Operaciones \n",
    "\n",
    "En Python, las listas, las tuplas y las cadenas de caracteres son parte del conjunto de las secuencias. Todas las\n",
    "secuencias cuentan con las siguientes operaciones:\n",
    "\n",
    "| Operación | Resultado |\n",
    "|:---:|:---|\n",
    "|`x in s`|Indica si la variable x se encuentra en s|\n",
    "|`s + t`|Concantena las secuencias s y t.|\n",
    "|`s * n`|Concatena n copias de s.|\n",
    "|`s[i]`|Elemento i de s, empezando por 0.|\n",
    "|`s[i:j]`|Porción de la secuencia s desde i hasta j (no inclusive).|\n",
    "|`s[i:j:k`]| Porción de la secuencia s desde i hasta j (no inclusive), con paso k.|\n",
    "|`len(s)`|Cantidad de elementos de la secuencia s.|\n",
    "|`min(s)`|Mínimo elemento de la secuencia s.|\n",
    "|`max(s)`|Máximo elemento de la secuencia s.|\n"
   ]
  },
  {
   "cell_type": "markdown",
   "metadata": {},
   "source": [
    "#### Rebanadas (slices)\n",
    "\n",
    "Para acceder a los elementos de una lista se puede usar como índice cualquier expresión entera, por lo que `tempC[1+1]` o `matriz[2*0+1][2*2]` son operaciones perfectamente válidas. Además, se pueden extraer conjuntos de elementos de la lista a partir de porciones o rebanadas (slices). Veamos unos ejemplos. \n",
    "\n",
    "```python\n",
    ">>> lista = [’a’, ’b’, ’c’, ’d’, ’e’, ’f’]\n",
    ">>> lista[1:3]\n",
    "[’b’, ’c’]\n",
    ">>> lista[:4]\n",
    "[’a’, ’b’, ’c’, ’d’]\n",
    ">>> lista[3:]\n",
    "[’d’, ’e’, ’f’]\n",
    ">>> lista[:]\n",
    "[’a’, ’b’, ’c’, ’d’, ’e’, ’f’]\n",
    "```\n",
    "\n",
    "Podemos reemplazar varios elementos a la vez:\n",
    "\n",
    "```python\n",
    ">>> lista = [’a’, ’b’, ’c’, ’d’, ’e’, ’f’]\n",
    ">>> lista[1:3] = [’x’, ’y’]\n",
    ">>> print lista\n",
    "[’a’, ’x’, ’y’, ’d’, ’e’, ’f’]\n",
    "```\n",
    "\n",
    "Además, puede eliminar elementos de una lista asignándoles la lista vacía:\n",
    "\n",
    "```python\n",
    ">>> lista = [’a’, ’b’, ’c’, ’d’, ’e’, ’f’]\n",
    ">>> lista[1:3] = []\n",
    ">>> lista\n",
    "[’a’, ’d’, ’e’, ’f’]\n",
    "```\n",
    "\n",
    "Y se puede añadir elementos a la lista insertándolos en una porción vacía en la posición deseada:\n",
    "\n",
    "```python\n",
    ">>> lista = [’a’, ’d’, ’f’]\n",
    ">>> lista[1:1] = [’b’, ’c’]\n",
    ">>> print lista\n",
    "[’a’, ’b’, ’c’, ’d’, ’f’]\n",
    ">>> lista[4:4] = [’e’]\n",
    ">>> print lista\n",
    "[’a’, ’b’, ’c’, ’d’, ’e’, ’f’]\n",
    "```"
   ]
  },
  {
   "cell_type": "markdown",
   "metadata": {},
   "source": [
    "#### Métodos\n",
    "\n",
    "Una lista provee una serie de funcionalidades asociadas denominados métodos. Se propone profundizar sobre los métodos disponibles con la lectura del *Tutorial de Python* (pág. 26, *Más sobre listas*)\n",
    "\n",
    "\n",
    "- `list.append(x)` Agrega un ítem al final de la lista. Equivale a `a[len(a):] = [x]`\n",
    "- `list.extend(L)` Extiende la lista agregándole todos los ítems de la lista dada. Equivale a `a[len(a):] = L`\n",
    "- `list.insert(i,x)` Inserta un ítem en una posición dada. El primer argumento es el índice del ítem delante del cual se insertará, por lo tanto\n",
    "- `a.insert(0, x)` inserta al principio de la lista, y `a.insert(len(a),x)` `equivale a a.append(x)`\n",
    "-  `list.remove(x)` Quita el primer ítem de la lista cuyo valor sea x. Es un error si no existe tal ítem\n",
    "- `list.pop([,i])` Quita el ítem en la posición dada de la lista, y lo devuelve. Si no se especifica un índice a.pop() quita y devuelve el último ítem de la lista. (Los corchetes que encierran a i en la firma del método denotan que el parámetro es opcional, no que deberías escribir corchetes en esa posición. Verás esta notación con frecuencia en la Referencia de la Biblioteca de Python.)\n",
    "- `list.clear()` Quita todos los elementos de la lista. Equivalente a `del a[:]`\n",
    "- `list.index(x)` Devuelve el índice en la lista del primer ítem cuyo valor sea x. Es un error si no existe tal ítem\n",
    "- `list.count(x)` Devuelve el número de veces que x aparece en la lista\n",
    "- `list.sort()` Ordena los ítems de la lista in situ\n",
    "- `list.reverse()` Invierte los elementos de la lista in situ\n",
    "- `list.copy()` Devuelve una copia superficial de la lista. Equivalente a `a[:]`\n",
    "\n",
    "Una manera de quitar un ítem de una lista dado su índice en lugar de su valor es la instrucción `del`, que también puede usarse para quitar secciones de una lista o vaciar la lista completa. Por ejemplo:\n",
    "\n",
    "```python\n",
    "a = [-1, 1, 66.25, 333, 333, 1234.5]\n",
    "del a[0]\n",
    "a\n",
    "[1, 66.25, 333, 333, 1234.5]\n",
    "del a[2:4]\n",
    "a\n",
    "[1, 66.25, 1234.5]\n",
    "```"
   ]
  },
  {
   "cell_type": "markdown",
   "metadata": {},
   "source": [
    "### Diccionarios\n",
    "\n",
    "Hemos visto que las listas son útiles cuando se quiere agrupar valores en una estructura y acceder a cada uno de ellos a través del un valor numérico, un índice. \n",
    "\n",
    "Otro tipo de estructura, que nos permie refereirnos a un determinado valor a través de un nombre es un diccionario. Muchas veces este tipo de estructura es más apropiado que una lista.\n",
    "\n",
    "El nombre *diccionario* da una idea sobre el propósito de esta estructura ya que uno puede realizar fácilmente una búsqueda a partir de una palabra específica (*clave*) para obtener su definición (*valor*).\n",
    "\n",
    "Un ejemplo podría ser una agenda telefónica, que nos permita obtener el número de teléfono de una persona a partir de su nombre. Veamos entonces el modo de crear diccionarios."
   ]
  },
  {
   "cell_type": "code",
   "execution_count": 10,
   "metadata": {
    "collapsed": false
   },
   "outputs": [],
   "source": [
    "agenda = {'Marado':'1552123', 'JPFeinman':'1523443', 'Dolina':'4584129',\n",
    "          'Spasiuk':'65748', 'Fontanarrosa':'32456'}\n"
   ]
  },
  {
   "cell_type": "markdown",
   "metadata": {},
   "source": [
    "Los *diccionarios* consisten en pares (llamados *items*) de *claves* y sus *valores* correspondientes. En este ejemplo, los nombres son las claves y los números de teléfono son los valores. Cada clave es separada de su valor por los dos puntos (:), los items son separados por comas, y toda la estructura es encerrada entre llaves. Un diccionario vacío, sin items, se escribe con solo dos llaves: `{}`.\n",
    "\n",
    "Las claves, debido a que funcionan como índices, no pueden ser repetidas.\n",
    "\n",
    "Veamos las formas más comunes de iterar sobre un diccionario:"
   ]
  },
  {
   "cell_type": "code",
   "execution_count": 11,
   "metadata": {
    "collapsed": false
   },
   "outputs": [
    {
     "name": "stdout",
     "output_type": "stream",
     "text": [
      "Claves\n",
      "======\n",
      "JPFeinman\n",
      "Spasiuk\n",
      "Marado\n",
      "Dolina\n",
      "Fontanarrosa\n",
      "\n",
      "Valores\n",
      "=======\n",
      "1523443\n",
      "65748\n",
      "1552123\n",
      "4584129\n",
      "32456\n",
      "\n",
      "Clave y valor\n",
      "=============\n",
      "JPFeinman 1523443\n",
      "Spasiuk 65748\n",
      "Marado 1552123\n",
      "Dolina 4584129\n",
      "Fontanarrosa 32456\n"
     ]
    }
   ],
   "source": [
    "# Imprime claves\n",
    "print(\"Claves\")\n",
    "print(\"======\")\n",
    "for nom in agenda:\n",
    "    print(nom)\n",
    "print()\n",
    "\n",
    "print(\"Valores\")\n",
    "print(\"=======\")\n",
    "# Imprime valores\n",
    "for tel in agenda.values():\n",
    "    print(tel)\n",
    "print()\n",
    "\n",
    "print(\"Clave y valor\")\n",
    "print(\"=============\")\n",
    "# Imprime items: clave valor\n",
    "for nom, tel in agenda.items():\n",
    "    print(nom,tel)"
   ]
  },
  {
   "cell_type": "markdown",
   "metadata": {},
   "source": [
    "Al igual que las listas, los diccionarios son sumamente flexibles y pueden estar formados por otros diccionarios (o inclusive listas). Analicemos un breve ejemplo de un diccionario que está conformado del siguiente modo:\n",
    "\n",
    "- Cuenta con tres items\n",
    "- El valor de cada item es otro diccionario que a su vez contiene:\n",
    "    - Tres items con las claves *titulo*, *fecha* y *autor*\n",
    "\n",
    "A continuación veamos la implementación de esta estructura, la impresión manual y mediante iteración:"
   ]
  },
  {
   "cell_type": "code",
   "execution_count": 23,
   "metadata": {
    "collapsed": false
   },
   "outputs": [
    {
     "name": "stdout",
     "output_type": "stream",
     "text": [
      "Titulos\n",
      "=======\n",
      "El tutorial de Python\n",
      "Aprenda a Pensar Como un Programador con Python\n",
      "Inmersión en Python 3\n",
      "\n",
      "libro3\n",
      "======\n",
      "autor: Mark Pilgrim\n",
      "titulo: Inmersión en Python 3\n",
      "fecha: 2009\n",
      "\n",
      "libro2\n",
      "======\n",
      "autor: Allen Downey\n",
      "titulo: Aprenda a Pensar Como un Programador con Python\n",
      "fecha: 2002\n",
      "\n",
      "libro1\n",
      "======\n",
      "autor: Guido van Rossum\n",
      "titulo: El tutorial de Python\n",
      "fecha: 2013\n",
      "\n"
     ]
    }
   ],
   "source": [
    "referencia = { \"libro1\":{\"titulo\":\"El tutorial de Python\", \n",
    "                         \"fecha\":\"2013\", \n",
    "                         \"autor\":\"Guido van Rossum\"},\n",
    "               \"libro2\":{\"titulo\":\"Aprenda a Pensar Como un Programador con Python\",\n",
    "                         \"fecha\":\"2002\",\n",
    "                         \"autor\":\"Allen Downey\"},\n",
    "               \"libro3\":{\"titulo\":\"Inmersión en Python 3\",\n",
    "                         \"fecha\":\"2009\",\n",
    "                         \"autor\":\"Mark Pilgrim\"}\n",
    "              }\n",
    "# acceso a los valores de titulo de cada libro\n",
    "print(\"Titulos\")\n",
    "print(\"=======\")\n",
    "print(referencia[\"libro1\"][\"titulo\"])\n",
    "print(referencia[\"libro2\"][\"titulo\"])\n",
    "print(referencia[\"libro3\"][\"titulo\"])\n",
    "print()\n",
    "\n",
    "# Mezcladito\n",
    "for clave in referencia:\n",
    "    print(clave)\n",
    "    print(\"======\")\n",
    "    for clave2, val in referencia[clave].items():\n",
    "        print(clave2, val, sep=\": \")\n",
    "    print()"
   ]
  },
  {
   "cell_type": "markdown",
   "metadata": {},
   "source": [
    "#### Operaciones\n",
    "\n",
    "- `len(d)` retorna el número de items (pares clave-valor) en d\n",
    "- `d[k]` retorna el valor asociado con la clave k\n",
    "- `d[k] = v` asocia el valor v con la clave k\n",
    "- `del d[k]` elimina el item con clave k\n",
    "- `k in d` evalúa si existe un item en d que tenga la clave k\n",
    "\n",
    "Aunque las listas y los diccionarios comparten varias características en común, existen ciertas distinciones importantes:\n",
    "\n",
    "- Tipos de claves: Las claves de los diccionarios no deben ser enteros (aunque pueden serlo). Deben ser tipos de datos inmutables (números flotantes, cadenas de caracteres o tuplas)\n",
    "- Agregado automático: En un diccionario se crea un item automáticamente al asignar un valor a una clave inexistente, en una lista no se puede agregar un valor en un índice que esté fuera del rango.\n",
    "- Contenido: La expresión `k in d` (d es un diccionario) evalúa por la existencia de una clave, no de un valor. Por otro lado, la expresión `v in l` (siendo l una lista), busca por un valor en vez de por un índice.\n",
    "\n",
    "#### Métodos\n",
    "\n",
    "A continuación se describen brevemente algunos de los métodos más utilizados:\n",
    "\n",
    "clear()\n",
    "\n",
    "    Elimina todos los items\n",
    "\n",
    "copy()\n",
    "\n",
    "    Retorna una copia superficial del diccionario\n",
    "\n",
    "get(key[, default])\n",
    "\n",
    "    Retorna el valor de la clave key si existe, sino el valor default. Si no se proporciona un valor default, entonces retorna None.\n",
    "\n",
    "items()\n",
    "\n",
    "    Retorna el par de valores del item clave, valor.\n",
    "\n",
    "keys()\n",
    "\n",
    "    Retorna las claves.\n",
    "\n",
    "pop(key[, default])\n",
    "\n",
    "    Si la clave key está presente en el diccionario la elimina y retorna su valor, sino retorna default. Si no se proporciona un valor default y la clave no existe se produce un error (KeyError).\n",
    "\n",
    "popitem()\n",
    "\n",
    "    Elimina y retorna un par (clave, valor) arbitrario.\n",
    "\n",
    "setdefault(key[, default])\n",
    "\n",
    "    Si la clave key está presente en el diccionario retorna su valor. Si no, inserta la clave con un valor de default y retorna default\n",
    "\n",
    "update([other])\n",
    "\n",
    "    Actualiza los items de un diccionario en otro. Es útil para concatenar diccionarios.\n",
    "\n",
    "values()\n",
    "\n",
    "    Retorna los valores del diccionario.\n",
    "\n",
    "\n",
    "Los diccionarios pueden ser comparados por su igualdad si y solo si tienen los mismos items. Otras comparaciones (‘<’, ‘<=’, ‘>=’, ‘>’) no son permitidas.\n",
    "\n",
    "Para profundizar sobre diccionarios se recomienda la lectura del *Tutorial de Python* (pág. 32, *Diccionarios*)."
   ]
  },
  {
   "cell_type": "markdown",
   "metadata": {},
   "source": [
    "## Tuplas\n",
    "\n",
    "Las tuplas son secuencias, al igual que las listas. La única diferencia es que no pueden ser modificadas, son inmutables (al igual que las cadenas de caracteres).\n",
    "\n",
    "La sintaxis de las tuplas es simple, al separar varios valores con comas, automáticamente se crea una tupla. "
   ]
  },
  {
   "cell_type": "code",
   "execution_count": 9,
   "metadata": {
    "collapsed": false
   },
   "outputs": [
    {
     "name": "stdout",
     "output_type": "stream",
     "text": [
      "28\n",
      "(28, 21, 'hola!')\n"
     ]
    }
   ],
   "source": [
    "t = 28, 21, 'hola!'\n",
    "print(t[0])\n",
    "print(t)\n",
    "\n",
    "# desempaquetado de una tupla\n",
    "x, y, z = t\n"
   ]
  },
  {
   "cell_type": "markdown",
   "metadata": {},
   "source": [
    "Para mayor detalle sobre esta estructura se recomienda leer el Tutorial de Python, *Tuplas y secuencias*, pag. 30."
   ]
  },
  {
   "cell_type": "markdown",
   "metadata": {},
   "source": [
    "## Conversión entre listas y diccionarios\n",
    "\n",
    "### De diccionarios a listas\n",
    "\n",
    "Es posible crear listas a partir de diccionarios usando los métodos `items()`, `keys()` y `values()`. El método `keys()` crea una lista que consiste solamente en las claves del diccionario, mientras que `values()` produce una lista que contiene los valores. `items()` puede ser usado para crear una lista que conste de tuplas de dos pares (clave, valor). Utilicemos el diccionario agenda creado anteriomente:"
   ]
  },
  {
   "cell_type": "code",
   "execution_count": 22,
   "metadata": {
    "collapsed": false
   },
   "outputs": [
    {
     "name": "stdout",
     "output_type": "stream",
     "text": [
      "Lista de items\n",
      "==============\n",
      "[('Dolina', '4584129'), ('Fontanarrosa', '32456'), ('JPFeinman', '1523443'), ('Spasiuk', '65748'), ('Marado', '1552123')]\n",
      "\n",
      "Lista de claves\n",
      "===============\n",
      "['Dolina', 'Fontanarrosa', 'JPFeinman', 'Spasiuk', 'Marado']\n",
      "\n",
      "Lista de valores\n",
      "===============\n",
      "['4584129', '32456', '1523443', '65748', '1552123']\n"
     ]
    }
   ],
   "source": [
    "print(\"Lista de items\")\n",
    "print(\"==============\")\n",
    "items_vista = agenda.items()\n",
    "items = list(items_vista)\n",
    "print(items)\n",
    "print()\n",
    "\n",
    "print(\"Lista de claves\")\n",
    "print(\"===============\")\n",
    "claves_vista = agenda.keys()\n",
    "nombres = list(claves_vista)\n",
    "print(nombres)\n",
    "print()\n",
    "\n",
    "print(\"Lista de valores\")\n",
    "print(\"===============\")\n",
    "valores_vista = agenda.values()\n",
    "telefonos = list(valores_vista)\n",
    "print(telefonos)\n",
    "\n"
   ]
  },
  {
   "cell_type": "markdown",
   "metadata": {},
   "source": [
    "### De listas a diccionarios\n",
    "\n",
    "Ahora realizaremos el proceso inverso, para armar un diccionario a partir de dos listas. Ya en el ejemplo previo obtuvimos dos listas, una con los nombres y otra con los teléfonos. Las funciones a utilizar son 3: zip(), list() y dict(). Veamos:"
   ]
  },
  {
   "cell_type": "code",
   "execution_count": 29,
   "metadata": {
    "collapsed": false
   },
   "outputs": [
    {
     "name": "stdout",
     "output_type": "stream",
     "text": [
      "{'JPFeinman': '1523443', 'Fontanarrosa': '32456', 'Dolina': '4584129', 'Spasiuk': '65748', 'Marado': '1552123'}\n"
     ]
    }
   ],
   "source": [
    "lista_de_tuplas = list(zip(nombres, telefonos))\n",
    "agenda2 = dict(lista_de_tuplas)\n",
    "print(agenda2)"
   ]
  },
  {
   "cell_type": "markdown",
   "metadata": {},
   "source": [
    "## Manipulando textos con strings\n",
    "\n",
    "*completar*\n",
    "\n",
    "## Glosario\n",
    "\n",
    "## Ejercicios\n",
    "\n",
    "1. Utilice una estructura repetitiva for para iterar sobre las letras de una palabra y encríptela reemplazando según lo siguiente: a->4, b->8, e->3, f->7, t->2, g->9, i->1, o->0.\n",
    "\n",
    "```python\n",
    "morse = {\n",
    "\"A\" : \".-\", \n",
    "\"B\" : \"-...\", \n",
    "\"C\" : \"-.-.\", \n",
    "\"D\" : \"-..\", \n",
    "\"E\" : \".\", \n",
    "\"F\" : \"..-.\", \n",
    "\"G\" : \"--.\", \n",
    "\"H\" : \"....\", \n",
    "\"I\" : \"..\", \n",
    "\"J\" : \".---\", \n",
    "\"K\" : \"-.-\", \n",
    "\"L\" : \".-..\", \n",
    "\"M\" : \"--\", \n",
    "\"N\" : \"-.\", \n",
    "\"O\" : \"---\", \n",
    "\"P\" : \".--.\", \n",
    "\"Q\" : \"--.-\", \n",
    "\"R\" : \".-.\", \n",
    "\"S\" : \"...\", \n",
    "\"T\" : \"-\", \n",
    "\"U\" : \"..-\", \n",
    "\"V\" : \"...-\", \n",
    "\"W\" : \".--\", \n",
    "\"X\" : \"-..-\", \n",
    "\"Y\" : \"-.--\", \n",
    "\"Z\" : \"--..\", \n",
    "\"0\" : \"-----\", \n",
    "\"1\" : \".----\", \n",
    "\"2\" : \"..---\", \n",
    "\"3\" : \"...--\", \n",
    "\"4\" : \"....-\", \n",
    "\"5\" : \".....\", \n",
    "\"6\" : \"-....\", \n",
    "\"7\" : \"--...\", \n",
    "\"8\" : \"---..\", \n",
    "\"9\" : \"----.\", \n",
    "\".\" : \".-.-.-\", \n",
    "\",\" : \"--..--\"\n",
    "}\n",
    "```"
   ]
  }
 ],
 "metadata": {
  "kernelspec": {
   "display_name": "Python 3",
   "language": "python",
   "name": "python3"
  },
  "language_info": {
   "codemirror_mode": {
    "name": "ipython",
    "version": 3
   },
   "file_extension": ".py",
   "mimetype": "text/x-python",
   "name": "python",
   "nbconvert_exporter": "python",
   "pygments_lexer": "ipython3",
   "version": "3.4.2"
  }
 },
 "nbformat": 4,
 "nbformat_minor": 0
}
