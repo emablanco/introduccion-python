{
 "cells": [
  {
   "cell_type": "markdown",
   "metadata": {},
   "source": [
    "<h1 id=\"tocheading\">Tabla de Contenidos</h1>\n",
    "<div id=\"toc\"></div>"
   ]
  },
  {
   "cell_type": "code",
   "execution_count": 6,
   "metadata": {
    "collapsed": false
   },
   "outputs": [
    {
     "data": {
      "application/javascript": [
       "$.getScript('https://kmahelona.github.io/ipython_notebook_goodies/ipython_notebook_toc.js')"
      ],
      "text/plain": [
       "<IPython.core.display.Javascript object>"
      ]
     },
     "metadata": {},
     "output_type": "display_data"
    }
   ],
   "source": [
    "%%javascript\n",
    "$.getScript('https://kmahelona.github.io/ipython_notebook_goodies/ipython_notebook_toc.js')"
   ]
  },
  {
   "cell_type": "markdown",
   "metadata": {},
   "source": [
    "# Estructuras de datos y control de flujo\n",
    "\n",
    "**NOTA EMI: Poner algo sobre las instrucciones secuenciales, donde el flujo del programa es inevitablemente uno y donde el recorrido consiste en ejecutar una secuencia de pasos, sin podés cambiar o saltear algunas instrucciones, sin poder repetir etc, etc, etc... Teorema fundamental de la programación estructurada**\n",
    "\n",
    "Si un programa no fuera más que una lista de órdenes a ejecutar de forma secuencial, una por una, no tendría mucha utilidad. Es por ello que en la mayoría de los lenguajes de programación existen lo que se denominan estructuras de control. Estas estructuras permiten que, ante determinadas condiciones, un programa se comporte de diferentes maneras.\n",
    "\n",
    "Supongamos por ejemplo que queremos hacer un programa que nos pregunte ciertas cosas, y en base a esto determine si nos conviene ir al trabajo en bicicleta o en auto. Este programa prodría considerar inicialmente la temperatura ambiente, la hora y la distancia. Estos indicadores (variables), determinarán si el programa se debe comportar de una forma u de otra para de este modo recomendarnos una cosa (el uso de la bicicleta) u otra (el auto).\n",
    "\n",
    "## Estructuras condicionales\n",
    "\n",
    "La primer estructura de control que veremos son los condicionales, los cuales nos permiten comprobar condiciones y hacer que ejecute un fragmento de código u otro, dependiendo de esta condición.\n",
    "Aquí es donde cobra su importancia el tipo booleano que aprendimos en la sección anterior sobre los tipos básicos.\n",
    "\n",
    "### Sentencia if\n",
    "La forma más simple de un estamento condicional es un ***if*** (del inglés si) seguido de la condición a evaluar, dos puntos (:) y en la siguiente línea e indentado, el código a ejecutar en caso de que se cumpla dicha condición.\n",
    "Por ejemplo, si consideramos lo anterior, y hacemos que el programa por ahora solo considere la temperatura, podríamos hacer lo siguiente:"
   ]
  },
  {
   "cell_type": "code",
   "execution_count": 1,
   "metadata": {
    "collapsed": false
   },
   "outputs": [
    {
     "name": "stdout",
     "output_type": "stream",
     "text": [
      "Deberías ser amable con el medio ambiente e ir en bicicleta\n"
     ]
    }
   ],
   "source": [
    "temperatura = 12\n",
    "if (temperatura > 10) and (temperatura < 30):\n",
    "    print('Deberías ser amable con el medio ambiente e ir en bicicleta')"
   ]
  },
  {
   "cell_type": "markdown",
   "metadata": {},
   "source": [
    "Esta sentencia se lee como: <code>si (if) temperatura mayor a 10 y menor a 30, entonces ejecutar: print('Deberías ser amable con el medio ambiente e ir en bicicleta')</code>. Estas sentencias solo se ejecutarán si se cumple la condición de que la variable temperatura contenga un valor que este entre 10 y 29, para el caso donde temperatura sea menor a 10 o mayor a 29, el programa no hará nada.\n",
    "\n",
    "![](files/img/u3/ej_sentencia_if.png)\n",
    "\n",
    "\n",
    "**¿Qué acciones se ejecutan al cumplirse la condición?**\n",
    "\n",
    "Una cuestión muy importante es indentar tal como se ha hecho en el ejemplo, es decir, aseguraros de dejar una sangría en las líneas debajo de los 2 puntos (:) que se deben ejecutar en caso que la condición de la pregunta se cumpla.\n",
    "\n",
    "Todo lenguaje de programación tiene en su sintaxis un modo de identificar las acciones que forman parte de un bloque, en Python esto es a partir de la sangría.\n",
    "\n",
    "### Sentencia if..else\n",
    "\n",
    "Nuestro interés inicial era que el programa nos dijera si podemos ir en auto o en bicicleta, y el ejemplo anterior solo nos dice algo cuando podemos ir en bici, pero no dice o hace nada cuando la condición no se cumple. Para estos casos existe un condicional llamado <code>***else***</code> (del inglés si no), que se usa conjuntamente con <code>if</code> y que sirve para ejecutar ciertas instrucciones en caso de que la condición de la sentencia <code>if</code> no se cumpla. Por ejemplo:"
   ]
  },
  {
   "cell_type": "code",
   "execution_count": 4,
   "metadata": {
    "collapsed": false
   },
   "outputs": [
    {
     "name": "stdout",
     "output_type": "stream",
     "text": [
      "Está lindo para ir en bici\n"
     ]
    }
   ],
   "source": [
    "if (temperatura > 10) and (temperatura < 30):\n",
    "    print('Está lindo para ir en bici')\n",
    "else:\n",
    "    print('Te recomiendo ir en cole')"
   ]
  },
  {
   "cell_type": "markdown",
   "metadata": {},
   "source": [
    "Esto se lee como _si temperatura es mayor o igual a 10 y temperatura es menor que 30, entonces mostrar el mensaje 'Deberías ser amable con el medio ambiente e ir en bicicleta', sino mostrar el mensaje 'La temperatura no es agradable, te recomiendo ir en auto.'_. Siempre se ejecutará una opción u otra, dependiendo del valor de la variable temperatura. Por lo que en este punto podemos decir que el código se bifurca en dos caminos diferentes dependiendo de una condición (que en este caso es el valor de la variable temperatura).\n",
    "\n",
    "![](files/img/u3/ej_sentencia_if_else.png)\n",
    "\n",
    "En este caso también tenemos que prestar atención a la indentación utilizada. La sentencia _else_ se escribe al mismo nivel que la sentencia _if_, y las sentencias que se deben ejecutar en caso de no se cumpla la condición if, deben ir indentadas también.\n",
    "\n",
    "Una versión más completa del programa podría ser la siguiente:"
   ]
  },
  {
   "cell_type": "code",
   "execution_count": 8,
   "metadata": {
    "collapsed": false
   },
   "outputs": [
    {
     "name": "stdout",
     "output_type": "stream",
     "text": [
      "Ingrese la temperatura en ºC:12\n",
      "Deberías ser amable con el medio ambiente e ir en bicicleta\n",
      "Que tenga buen día!\n"
     ]
    }
   ],
   "source": [
    "temperatura = int(input('Ingrese la temperatura en ºC:'))\n",
    "\n",
    "if (temperatura > 10) and (temperatura < 30):\n",
    "    print('Está lindo para ir en bici')\n",
    "else:\n",
    "    print('Te recomiendo ir en cole')\n",
    "    \n",
    "print('Que tenga buen día!')"
   ]
  },
  {
   "cell_type": "markdown",
   "metadata": {},
   "source": [
    "En este caso consultamos por la temperatura, pidiendole al usuario que la ingrese por teclado (para esto utilizamos la función _input_ que vimos en la Unidad 1). Luego mostramos en patalla lo que corresponda según el valor ingresado, y por último mostramos el mensaje 'Que tenga buen día!'.\n",
    "Es importante mencionar que la última sentencia siempre se ejecutará, la bifurcación se produce solamente entre las sentencias que estan dentro del if y el else, lo restante se seguirá ejecutando de manera secuencial.\n",
    "\n",
    "![](files/img/u3/ej_sentencia_if_else_completa.png)\n",
    "\n",
    "### Estructuras anidadas\n",
    "\n",
    "Supongamos ahora que también queremos considerar la distancia que se debe recorrer. En este caso deberíamos preguntar por la distancia, pero también por la temperatura. Para que en los casos donde la temperatura sea agradable, la distancia no sea demasiado larga como para ir en bicicleta.\n",
    "\n",
    "Para estos casos, se pueden utilizar estructuras anidadas, es decir, en el bloque de código que se ejecutará en caso de cumplirse o no una determina condición, podemos poner una nueva estructura de control, por ejemplo un nuevo _if_.\n",
    "\n",
    "Reescribamos el código anterior para que considere esta nueva condición, y veamos como usar estructuras anidadas:"
   ]
  },
  {
   "cell_type": "code",
   "execution_count": 10,
   "metadata": {
    "collapsed": false
   },
   "outputs": [
    {
     "name": "stdout",
     "output_type": "stream",
     "text": [
      "Ingrese la temperatura en ºC:12\n",
      "Ingrese la distancia a recorrer en km:12\n",
      "Deberías ser amable con el medio ambiente e ir en bicicleta\n",
      "Que tenga buen día!\n"
     ]
    }
   ],
   "source": [
    "temperatura = int(input('Ingrese la temperatura en ºC:'))\n",
    "distancia = int(input('Ingrese la distancia a recorrer en km:'))\n",
    "\n",
    "if (temperatura > 10) and (temperatura < 30):\n",
    "    if (distancia <= 15):\n",
    "        print('Está lindo para ir en bici')\n",
    "    else:\n",
    "        print('Está lindo, pero es lejos, le recomiendo ir en auto')\n",
    "else:\n",
    "    print('La temperatura no es agradable, le recomiendo ir en auto.')\n",
    "    \n",
    "print('Que tenga buen día!')"
   ]
  },
  {
   "cell_type": "markdown",
   "metadata": {},
   "source": [
    "En este caso si se cumple la condición de que la variable temperatura contiene un valor entre 10 y 29, se pasa a considerar el valor de la variable distancia; si esta es menor o igual a 15, se muestra el mensaje _'Deberías ser amable con el medio ambiente e ir en bicicleta'_, en caso contrario, se muestra el mensaje _'El clima es agradable, pero la distancia es muy larga. Le recomiendo ir en auto'_. Por otro lado, si el valor de la variable temperatura no esta entre 10 y 29, se seguirá mostrando el mensaje _'La temperatura no es agradable, le recomiendo ir en auto'_. Lo mismo sucede con la última sentencia, la cual mostrará el mensaje _'Que tenga buen día!'_ independientemente del valor de las variables _temperatura_ y _distancia_\n",
    "\n",
    "## Estructuras repetitivas\n",
    "\n",
    "Ahora podemos dotar a nuestros programas de mayor complejidad, combinando y anidando las estructuras condicionales vistas la secuencia de ejecución puede ser muy variada. Sin embargo, aún tenemos una limitante, cada instrucción tendrá vida al momento de ser ejecutada e inmediamente después no se ejecutará más hasta que se el programa sea invocado nuevamente. \n",
    "\n",
    "Imaginemos que debemos consultar la pregunta de la temperatura a cientos de miles de personas, deberíamos ejecutar cientos de miles de veces el programa, iniciandolo y esperando su finalización para repetir el proceso una y otra vez. Se hace evidente la ausencia de una estructura que permita repetir cuantas veces se requiera una determinada acción, aquí es donde entran en acción las estructuras repeto"
   ]
  },
  {
   "cell_type": "markdown",
   "metadata": {},
   "source": [
    "### Sentencia *while*\n",
    "El *while* permite repetir una serie de acciones mientras que una determinada expresión (o condición) se cumpla, en caso contrario, se finaliza la repetición. \n",
    "\n",
    "Una expresión se cumple cuando arroja un resultado verdadero, que en Python es ```True```. La estructura del *while* es la siguiente:\n",
    "\n",
    "```python\n",
    "while <expresion>\n",
    "    accion1\n",
    "    accion2\n",
    "    ...\n",
    "    accionN\n",
    "```\n",
    "\n",
    "Tal como se explicó previamente, las acciones que se repiten en cada iteración son aquellas que tienen sangría, lo que indica que son partes del ciclo *while*.\n",
    "\n",
    "Veamos un ejemplo donde se le pregunte el valor de temperatura a 5 personas y sugiera ir caminando si el clima es agradable (mayor a 16°C) o en caso contrario en vehículo. Tomemos una estrategia para resolver el problema:\n",
    "\n",
    "1. Leemos una temperatura que se ingresa por teclado\n",
    "2. Escribimos en pantalla un mensaje según la temperatura\n",
    "3. Repetir los dos pasos previos un total de cinco veces\n",
    "\n",
    "\n",
    "**Pasos 1 y 2**\n",
    "\n",
    "```python\n",
    "temperatura = int(input('Ingrese la temperatura en ºC:'))\n",
    "if (temperatura > 16):\n",
    "    print('Vas caminando')\n",
    "else:\n",
    "    print('Mucho frío, en vehículo')\n",
    "```\n",
    "\n",
    "**Paso 3**\n",
    "\n",
    "Debemos englobar los pasos previos en una estructura que repita 5 veces. Pensemos lo anterior como un único bloque denominado *Pasos1y2*, y una manera de controlar cinco repeticiones. Para ésto, usamos una variable con un valor inicial conocido (1) que incrementamos en una unidad luego de cada ejecución del bloque que denominamos *Pasos1y2*. La estructura de nuestro programa podría ser la siguiente:\n",
    "\n",
    "```python\n",
    "vez = 1\n",
    "while vez <= 5:\n",
    "    Pasos1y2\n",
    "    vez = vez + 1\n",
    "```\n",
    "\n",
    "Ahora bien, cuando finaliza la ejecución de la instrucción `vez = vez + 1` la estructura iterativa evalúa nuevamente la expresión `vez <= 5` cuyo resultado puede ser cierto o no (`True` o `False`). Si el resultado es `True`, entonces el ciclo continuará con las acciones contenidas, re-evaluando la expresión en cada itereación y finalizando cuando sea `False`, es decir, cuando la variable `vez` ya no sea menor o igual que 5.\n",
    "\n",
    "Ahora que ya hemos desmenuzado el inofensivo código previo, podemos pasar a la versión final del pequeño programa."
   ]
  },
  {
   "cell_type": "code",
   "execution_count": 3,
   "metadata": {
    "collapsed": false
   },
   "outputs": [
    {
     "name": "stdout",
     "output_type": "stream",
     "text": [
      "Ingrese la temperatura en ºC:12\n",
      "Mucho frío, en vehículo\n",
      "Ingrese la temperatura en ºC:16\n",
      "Mucho frío, en vehículo\n",
      "Ingrese la temperatura en ºC:17\n",
      "Vas caminando\n",
      "Ingrese la temperatura en ºC:18\n",
      "Vas caminando\n",
      "Ingrese la temperatura en ºC:20\n",
      "Vas caminando\n"
     ]
    }
   ],
   "source": [
    "vez = 1\n",
    "while vez <= 5:\n",
    "    temperatura = int(input('Ingrese la temperatura en ºC:'))\n",
    "    if (temperatura > 16):\n",
    "        print('Vas caminando')\n",
    "    else:\n",
    "        print('Mucho frío, en vehículo')\n",
    "    vez = vez + 1"
   ]
  },
  {
   "cell_type": "markdown",
   "metadata": {},
   "source": [
    "Este tipo de bucle, donde la cantidad de iteraciones depende de una condición es denominado como **bucles o lazos condicionales** y cuenta con dos características destacables:\n",
    "\n",
    "- El valor a ser evaluado en la expresión debe estar definido\n",
    "- En cada iteración el valor a ser evaluado en la expresión debe modificarse \n",
    "\n"
   ]
  },
  {
   "cell_type": "markdown",
   "metadata": {},
   "source": [
    "### Sentencia *for*"
   ]
  },
  {
   "cell_type": "markdown",
   "metadata": {},
   "source": [
    "## Estructura de datos *listas* y *diccionarios*\n",
    "\n",
    "### Listas\n",
    "\n",
    "### Diccionarios\n",
    "\n",
    "## Manipulando textos con strings"
   ]
  },
  {
   "cell_type": "code",
   "execution_count": 3,
   "metadata": {
    "collapsed": false
   },
   "outputs": [
    {
     "data": {
      "application/javascript": [
       "$.getScript('https://kmahelona.github.io/ipython_notebook_goodies/ipython_notebook_toc.js')"
      ],
      "text/plain": [
       "<IPython.core.display.Javascript object>"
      ]
     },
     "metadata": {},
     "output_type": "display_data"
    }
   ],
   "source": []
  },
  {
   "cell_type": "code",
   "execution_count": null,
   "metadata": {
    "collapsed": true
   },
   "outputs": [],
   "source": []
  }
 ],
 "metadata": {
  "kernelspec": {
   "display_name": "Python 3",
   "language": "python",
   "name": "python3"
  },
  "language_info": {
   "codemirror_mode": {
    "name": "ipython",
    "version": 3
   },
   "file_extension": ".py",
   "mimetype": "text/x-python",
   "name": "python",
   "nbconvert_exporter": "python",
   "pygments_lexer": "ipython3",
   "version": "3.4.2"
  }
 },
 "nbformat": 4,
 "nbformat_minor": 0
}
