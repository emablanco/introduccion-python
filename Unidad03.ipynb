{
 "cells": [
  {
   "cell_type": "markdown",
   "metadata": {},
   "source": [
    "# Estructuras de datos y control de flujo\n",
    "\n",
    "Si un programa no fuera más que una lista de órdenes a ejecutar de forma secuencial, una por una, no tendría mucha utilidad. Es por ello que en la mayoría de los lenguajes de programación existen lo que se denominan estructuras de control. Estas estructuras permiten que, ante determinadas condiciones, un programa se comporte de diferentes maneras.\n",
    "\n",
    "Supongamos por ejemplo que queremos hacer un programa que nos pregunte ciertas cosas, y en base a esto determine si nos conviene ir al trabajo en bicicleta o en auto. Este programa prodría considerar inicialmente la temperatura ambiente, la hora y la distancia. Estos indicadores (variables), determinarán si el programa se debe comportar de una forma u de otra para de este modo recomendarnos una cosa (el uso de la bicicleta) u otra (el auto).\n",
    "\n",
    "## Estructuras condicionales\n",
    "\n",
    "La primer estructura de control que veremos son los condicionales, los cuales nos permiten comprobar condiciones y hacer que ejecute un fragmento de código u otro, dependiendo de esta condición.\n",
    "Aquí es donde cobra su importancia el tipo booleano que aprendimos en la sección anterior sobre los tipos básicos.\n",
    "\n",
    "### Sentencia if\n",
    "La forma más simple de un estamento condicional es un ***if*** (del inglés si) seguido de la condición a evaluar, dos puntos (:) y en la siguiente línea e indentado, el código a ejecutar en caso de que se cumpla dicha condición.\n",
    "Por ejemplo, si consideramos lo anterior, y hacemos que el programa por ahora solo considere la temperatura, podríamos hacer lo siguiente:"
   ]
  },
  {
   "cell_type": "code",
   "execution_count": null,
   "metadata": {
    "collapsed": true
   },
   "outputs": [],
   "source": [
    "if (temperatura >= 10) and (temperatura < 30):\n",
    "    print('Deberías ser amable con el medio ambiente e ir en bicicleta')"
   ]
  },
  {
   "cell_type": "markdown",
   "metadata": {},
   "source": [
    "Esta sentencia se lee como: <code>si (if) temperatura es menor o igual a 10, y temperatura es menor a 30, entonces ejecutar: print('Deberías ser amable con el medio ambiente e ir en bicicleta')</code>. Estas sentencias solo se ejecutarán si se cumple la condición de que la variable temperatura contenga un valor que este entre 10 y 29, para el caso donde temperatura sea menor a 10 o mayor a 29, el programa no hará nada.\n",
    "\n",
    "Una cuestión muy importante es asegurarnos de que el código esta indentado tal cual se ha hecho en el ejemplo, es decir, aseguraros de pulsar Tabulación en la línea que esta debajo de los 2 puntos (:), dado que esta es la forma de Python de saber que nuestra intención es que las sentencias que están indentadas, se ejecute sólo en el caso de que se cumpla la condición.\n",
    "\n",
    "### Sentencia if..else\n",
    "\n",
    "Nuestro interés inicial era que el programa nos dijera si podemos ir en auto o en bicicleta, y el ejemplo anterior solo nos dice algo cuando podemos ir en bici, pero no dice o hace nada cuando la condición no se cumple. Para estos casos existe un condicional llamado <code>***else***</code> (del inglés si no), que se usa conjuntamente con <code>if</code> y que sirve para ejecutar ciertas instrucciones en caso de que la condición de la sentencia <code>if</code> no se cumpla. Por ejemplo:"
   ]
  },
  {
   "cell_type": "code",
   "execution_count": null,
   "metadata": {
    "collapsed": true
   },
   "outputs": [],
   "source": [
    "if (temperatura >= 10) and (temperatura < 30):\n",
    "    print('Deberías ser amable con el medio ambiente e ir en bicicleta')\n",
    "else:\n",
    "    print('La temperatura no es agradable, te recomiendo ir en auto.')"
   ]
  },
  {
   "cell_type": "markdown",
   "metadata": {},
   "source": [
    "Esto se lee como _si temperatura es mayor o igual a 10 y temperatura es menor que 30, entonces mostrar el mensaje 'Deberías ser amable con el medio ambiente e ir en bicicleta', sino mostrar el mensaje 'La temperatura no es agradable, te recomiendo ir en auto.'_. Siempre se ejecutará una opción u otra, dependiendo del valor de la variable temperatura. Por lo que en este punto podemos decir que el código se bifurca en dos caminos diferentes dependiendo de una condición (que en este caso es el valor de la variable temperatura).\n",
    "\n",
    "En este caso también tenemos que prestar atención a la indentación utilizada. La sentencia _else_ se escribe al mismo nivel que la sentencia _if_, y las sentencias que se deben ejecutar en caso de no se cumpla la condición if, deben ir indentadas también.\n",
    "\n",
    "Una versión más completa del programa podría ser la siguiente:"
   ]
  },
  {
   "cell_type": "code",
   "execution_count": 1,
   "metadata": {
    "collapsed": false
   },
   "outputs": [
    {
     "name": "stdout",
     "output_type": "stream",
     "text": [
      "Ingrese la temperatura en ºC:21\n"
     ]
    },
    {
     "ename": "TypeError",
     "evalue": "unorderable types: str() >= int()",
     "output_type": "error",
     "traceback": [
      "\u001b[1;31m---------------------------------------------------------------------------\u001b[0m",
      "\u001b[1;31mTypeError\u001b[0m                                 Traceback (most recent call last)",
      "\u001b[1;32m<ipython-input-1-286b3e307026>\u001b[0m in \u001b[0;36m<module>\u001b[1;34m()\u001b[0m\n\u001b[0;32m      1\u001b[0m \u001b[0mtemperatura\u001b[0m \u001b[1;33m=\u001b[0m \u001b[0minput\u001b[0m\u001b[1;33m(\u001b[0m\u001b[1;34m'Ingrese la temperatura en ºC:'\u001b[0m\u001b[1;33m)\u001b[0m\u001b[1;33m\u001b[0m\u001b[0m\n\u001b[0;32m      2\u001b[0m \u001b[1;33m\u001b[0m\u001b[0m\n\u001b[1;32m----> 3\u001b[1;33m \u001b[1;32mif\u001b[0m \u001b[1;33m(\u001b[0m\u001b[0mtemperatura\u001b[0m \u001b[1;33m>=\u001b[0m \u001b[1;36m10\u001b[0m\u001b[1;33m)\u001b[0m \u001b[1;32mand\u001b[0m \u001b[1;33m(\u001b[0m\u001b[0mtemperatura\u001b[0m \u001b[1;33m<\u001b[0m \u001b[1;36m30\u001b[0m\u001b[1;33m)\u001b[0m\u001b[1;33m:\u001b[0m\u001b[1;33m\u001b[0m\u001b[0m\n\u001b[0m\u001b[0;32m      4\u001b[0m     \u001b[0mprint\u001b[0m\u001b[1;33m(\u001b[0m\u001b[1;34m'Deberías ser amable con el medio ambiente e ir en bicicleta'\u001b[0m\u001b[1;33m)\u001b[0m\u001b[1;33m\u001b[0m\u001b[0m\n\u001b[0;32m      5\u001b[0m \u001b[1;32melse\u001b[0m\u001b[1;33m:\u001b[0m\u001b[1;33m\u001b[0m\u001b[0m\n",
      "\u001b[1;31mTypeError\u001b[0m: unorderable types: str() >= int()"
     ]
    }
   ],
   "source": [
    "temperatura = input('Ingrese la temperatura en ºC:')\n",
    "\n",
    "if (temperatura >= 10) and (temperatura < 30):\n",
    "    print('Deberías ser amable con el medio ambiente e ir en bicicleta')\n",
    "else:\n",
    "    print('La temperatura no es agradable, le recomiendo ir en auto')\n",
    "    \n",
    "print('Que tenga buen día!')"
   ]
  },
  {
   "cell_type": "markdown",
   "metadata": {},
   "source": [
    "En este caso consultamos por la temperatura, pidiendole al usuario que la ingrese por teclado (para esto utilizamos la función _input_ que vimos en la Unidad 1). Luego mostramos en patalla lo que corresponda según el valor ingresado, y por último mostramos el mensaje 'Que tenga buen día!'.\n",
    "Es importante mencionar que la última sentencia siempre se ejecutará, la bifurcación se produce solamente entre las sentencias que estan dentro del if y el else, lo restante se seguirá ejecutando de manera secuencial.\n",
    "\n",
    "### Estructuras anidadas\n",
    "\n",
    "Supongamos ahora que también queremos considerar la distancia que se debe recorrer. En este caso deberíamos preguntar por la distancia, pero también por la temperatura. Para que en los casos donde la temperatura sea agradable, la distancia no sea demasiado larga como para ir en bicicleta.\n",
    "\n",
    "Para estos casos, se pueden utilizar estructuras anidadas, es decir, en el bloque de código que se ejecutará en caso de cumplirse o no una determina condición, podemos poner una nueva estructura de control, por ejemplo un nuevo _if_.\n",
    "\n",
    "Reescribamos el código anterior para que considere esta nueva condición, y veamos como usar estructuras anidadas:"
   ]
  },
  {
   "cell_type": "code",
   "execution_count": null,
   "metadata": {
    "collapsed": true
   },
   "outputs": [],
   "source": [
    "temperatura = input('Ingrese la temperatura en ºC:')\n",
    "distancia = input('Ingrese la distancia a recorrer en km:')\n",
    "\n",
    "if (temperatura >= 10) and (temperatura < 30):\n",
    "    if (distancia <= 15):\n",
    "        print('Deberías ser amable con el medio ambiente e ir en bicicleta')\n",
    "    else:\n",
    "        print('El clima es agradable, pero la distancia es muy larga. Le recomiendo ir en auto')\n",
    "        \n",
    "else:\n",
    "    print('La temperatura no es agradable, le recomiendo ir en auto.')\n",
    "    \n",
    "print('Que tenga buen día!')"
   ]
  },
  {
   "cell_type": "markdown",
   "metadata": {},
   "source": [
    "En este caso si se cumple la condición de que la variable temperatura contiene un valor entre 10 y 29, se pasa a considerar el valor de la variable distancia; si esta es menor o igual a 15, se muestra el mensaje _'Deberías ser amable con el medio ambiente e ir en bicicleta'_, en caso contrario, se muestra el mensaje _'El clima es agradable, pero la distancia es muy larga. Le recomiendo ir en auto'_. Por otro lado, si el valor de la variable temperatura no esta entre 10 y 29, se seguirá mostrando el mensaje _'La temperatura no es agradable, le recomiendo ir en auto'_. Lo mismo sucede con la última sentencia, la cual mostrará el mensaje _'Que tenga buen día!'_ independientemente del valor de las variables _temperatura_ y _distancia_\n",
    "\n",
    "## Estructuras repetitivas\n",
    "\n",
    "### Estructura repetitiva *while*\n",
    "\n",
    "### Estructura repetitiva *for*\n",
    "\n",
    "## Estructura de datos *listas* y *diccionarios*\n",
    "\n",
    "### Listas\n",
    "\n",
    "### Diccionarios\n",
    "\n",
    "## Manipulando textos con strings"
   ]
  }
 ],
 "metadata": {
  "kernelspec": {
   "display_name": "Python 3",
   "language": "python",
   "name": "python3"
  },
  "language_info": {
   "codemirror_mode": {
    "name": "ipython",
    "version": 3
   },
   "file_extension": ".py",
   "mimetype": "text/x-python",
   "name": "python",
   "nbconvert_exporter": "python",
   "pygments_lexer": "ipython3",
   "version": "3.4.2"
  }
 },
 "nbformat": 4,
 "nbformat_minor": 0
}
