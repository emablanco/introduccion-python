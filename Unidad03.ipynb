{
 "cells": [
  {
   "cell_type": "markdown",
   "metadata": {},
   "source": [
    "<h1 id=\"tocheading\">Tabla de Contenidos</h1>\n",
    "<div id=\"toc\"></div>"
   ]
  },
  {
   "cell_type": "code",
   "execution_count": 6,
   "metadata": {
    "collapsed": false
   },
   "outputs": [
    {
     "data": {
      "application/javascript": [
       "$.getScript('https://kmahelona.github.io/ipython_notebook_goodies/ipython_notebook_toc.js')"
      ],
      "text/plain": [
       "<IPython.core.display.Javascript object>"
      ]
     },
     "metadata": {},
     "output_type": "display_data"
    }
   ],
   "source": [
    "%%javascript\n",
    "$.getScript('https://kmahelona.github.io/ipython_notebook_goodies/ipython_notebook_toc.js')"
   ]
  },
  {
   "cell_type": "markdown",
   "metadata": {},
   "source": [
    "# Estructuras de datos y control de flujo\n",
    "\n",
    "**NOTA EMI: Poner algo sobre las instrucciones secuenciales, donde el flujo del programa es inevitablemente único y donde el recorrido consiste en ejecutar una secuencia de pasos, sin podér cambiar o saltear algunas instrucciones, sin poder repetir etc, etc, etc... Teorema fundamental de la programación estructurada**\n",
    "\n",
    "Si un programa no fuera más que una lista de órdenes a ejecutar de forma secuencial, una por una, no tendría mucha utilidad. Es por ello que en la mayoría de los lenguajes de programación existen lo que se denominan estructuras de control. Estas estructuras permiten que, ante determinadas condiciones, un programa se comporte de diferentes maneras.\n",
    "\n",
    "Supongamos que queremos hacer un programa que nos haga ciertas preguntas y en base a las respuestas determine si nos conviene ir al trabajo en bicicleta o en auto. Este programa prodría considerar inicialmente la temperatura ambiente, la hora y la distancia. Estos indicadores (variables), determinarán si el programa se debe comportar de una forma u de otra para de este modo recomendarnos una cosa (el uso de la bicicleta) u otra (el auto).\n",
    "\n",
    "## Estructuras condicionales\n",
    "\n",
    "La primer estructura de control que veremos son los condicionales, los cuales nos permiten comprobar condiciones y hacer que ejecute un fragmento de código u otro, dependiendo de esta condición.\n",
    "Aquí es donde cobra su importancia el tipo booleano que aprendimos en la sección anterior sobre los tipos básicos.\n",
    "\n",
    "### Sentencia if\n",
    "La forma más simple de un estamento condicional es un ***if*** (del inglés si) seguido de la condición a evaluar, dos puntos (:) y en la siguiente línea e indentado, el código a ejecutar en caso de que se cumpla dicha condición.\n",
    "Por ejemplo, si consideramos lo anterior, y hacemos que el programa por ahora solo considere la temperatura, podríamos hacer lo siguiente:"
   ]
  },
  {
   "cell_type": "code",
   "execution_count": 1,
   "metadata": {
    "collapsed": false
   },
   "outputs": [
    {
     "name": "stdout",
     "output_type": "stream",
     "text": [
      "Deberías ser amable con el medio ambiente e ir en bicicleta\n"
     ]
    }
   ],
   "source": [
    "temperatura = 12\n",
    "if (temperatura > 10) and (temperatura < 30):\n",
    "    print('Deberías ser amable con el medio ambiente e ir en bicicleta')"
   ]
  },
  {
   "cell_type": "markdown",
   "metadata": {},
   "source": [
    "Esta sentencia se lee como: <code>si (if) temperatura mayor a 10 y menor a 30, entonces ejecutar: print('Deberías ser amable con el medio ambiente e ir en bicicleta')</code>. Estas sentencias solo se ejecutarán si se cumple la condición de que la variable temperatura contenga un valor que este entre 10 y 29, para el caso donde temperatura sea menor a 10 o mayor a 29, el programa no hará nada.\n",
    "\n",
    "![](files/img/u3/ej_sentencia_if.png)\n",
    "\n",
    "Una característica saliente para este tipo de comparaciones en Python es la de asemejar al lenguaje natural, por lo que podemos implementar la comparación previa haciendo:"
   ]
  },
  {
   "cell_type": "code",
   "execution_count": 10,
   "metadata": {
    "collapsed": false
   },
   "outputs": [],
   "source": [
    "if 10 < temperatura < 30:\n",
    "    print('Deberías ser amable con el medio ambiente e ir en bicicleta')"
   ]
  },
  {
   "cell_type": "markdown",
   "metadata": {},
   "source": [
    "**¿Qué acciones se ejecutan al cumplirse la condición?**\n",
    "\n",
    "Una cuestión muy importante es indentar tal como se ha hecho en el ejemplo, es decir, aseguraros de dejar una sangría en las líneas debajo de los 2 puntos (:) que se deben ejecutar en caso que la condición de la pregunta se cumpla.\n",
    "\n",
    "Todo lenguaje de programación tiene en su sintaxis un modo de identificar las acciones que forman parte de un bloque, en Python esto es a partir de la sangría.\n",
    "\n",
    "### Sentencia if..else\n",
    "\n",
    "Nuestro interés inicial era que el programa nos dijera si podemos ir en auto o en bicicleta, y el ejemplo anterior solo nos dice algo cuando podemos ir en bici, pero no dice o hace nada cuando la condición no se cumple. Para estos casos existe un condicional llamado <code>***else***</code> (del inglés si no), que se usa conjuntamente con <code>if</code> y que sirve para ejecutar ciertas instrucciones en caso de que la condición de la sentencia <code>if</code> no se cumpla. Por ejemplo:"
   ]
  },
  {
   "cell_type": "code",
   "execution_count": 4,
   "metadata": {
    "collapsed": false
   },
   "outputs": [
    {
     "name": "stdout",
     "output_type": "stream",
     "text": [
      "Está lindo para ir en bici\n"
     ]
    }
   ],
   "source": [
    "if (temperatura > 10) and (temperatura < 30):\n",
    "    print('Está lindo para ir en bici')\n",
    "else:\n",
    "    print('Te recomiendo ir en cole')"
   ]
  },
  {
   "cell_type": "markdown",
   "metadata": {},
   "source": [
    "Esto se lee como _si temperatura es mayor o igual a 10 y temperatura es menor que 30, entonces mostrar el mensaje 'Deberías ser amable con el medio ambiente e ir en bicicleta', sino mostrar el mensaje 'La temperatura no es agradable, te recomiendo ir en auto.'_. Siempre se ejecutará una opción u otra, dependiendo del valor de la variable temperatura. Por lo que en este punto podemos decir que el código se bifurca en dos caminos diferentes dependiendo de una condición (que en este caso es el valor de la variable temperatura).\n",
    "\n",
    "![](files/img/u3/ej_sentencia_if_else.png)\n",
    "\n",
    "En este caso también tenemos que prestar atención a la indentación utilizada. La sentencia _else_ se escribe al mismo nivel que la sentencia _if_, y las sentencias que se deben ejecutar en caso de no se cumpla la condición if, deben ir indentadas también.\n",
    "\n",
    "Una versión más completa del programa podría ser la siguiente:"
   ]
  },
  {
   "cell_type": "code",
   "execution_count": 8,
   "metadata": {
    "collapsed": false
   },
   "outputs": [
    {
     "name": "stdout",
     "output_type": "stream",
     "text": [
      "Ingrese la temperatura en ºC:12\n",
      "Deberías ser amable con el medio ambiente e ir en bicicleta\n",
      "Que tenga buen día!\n"
     ]
    }
   ],
   "source": [
    "temperatura = int(input('Ingrese la temperatura en ºC:'))\n",
    "\n",
    "if (temperatura > 10) and (temperatura < 30):\n",
    "    print('Está lindo para ir en bici')\n",
    "else:\n",
    "    print('Te recomiendo ir en cole')\n",
    "    \n",
    "print('Que tenga buen día!')"
   ]
  },
  {
   "cell_type": "markdown",
   "metadata": {},
   "source": [
    "En este caso consultamos por la temperatura, pidiendole al usuario que la ingrese por teclado (para esto utilizamos la función _input_ que vimos en la Unidad 1). Luego mostramos en patalla lo que corresponda según el valor ingresado, y por último mostramos el mensaje 'Que tenga buen día!'.\n",
    "Es importante mencionar que la última sentencia siempre se ejecutará, la bifurcación se produce solamente entre las sentencias que estan dentro del if y el else, lo restante se seguirá ejecutando de manera secuencial.\n",
    "\n",
    "![](files/img/u3/ej_sentencia_if_else_completa.png)\n",
    "\n",
    "### Estructura de selección múltiple *if..elif..else*\n",
    "\n",
    "### Estructuras anidadas\n",
    "\n",
    "Supongamos ahora que también queremos considerar la distancia que se debe recorrer. En este caso deberíamos preguntar por la distancia, pero también por la temperatura. Para que en los casos donde la temperatura sea agradable, la distancia no sea demasiado larga como para ir en bicicleta.\n",
    "\n",
    "Para estos casos, se pueden utilizar estructuras anidadas, es decir, en el bloque de código que se ejecutará en caso de cumplirse o no una determina condición, podemos poner una nueva estructura de control, por ejemplo un nuevo _if_.\n",
    "\n",
    "Reescribamos el código anterior para que considere esta nueva condición, y veamos como usar estructuras anidadas:"
   ]
  },
  {
   "cell_type": "code",
   "execution_count": 10,
   "metadata": {
    "collapsed": false
   },
   "outputs": [
    {
     "name": "stdout",
     "output_type": "stream",
     "text": [
      "Ingrese la temperatura en ºC:12\n",
      "Ingrese la distancia a recorrer en km:12\n",
      "Deberías ser amable con el medio ambiente e ir en bicicleta\n",
      "Que tenga buen día!\n"
     ]
    }
   ],
   "source": [
    "temperatura = int(input('Ingrese la temperatura en ºC:'))\n",
    "distancia = int(input('Ingrese la distancia a recorrer en km:'))\n",
    "\n",
    "if (temperatura > 10) and (temperatura < 30):\n",
    "    if (distancia <= 15):\n",
    "        print('Está lindo para ir en bici')\n",
    "    else:\n",
    "        print('Está lindo, pero es lejos, le recomiendo ir en auto')\n",
    "else:\n",
    "    print('La temperatura no es agradable, le recomiendo ir en auto.')\n",
    "    \n",
    "print('Que tenga buen día!')"
   ]
  },
  {
   "cell_type": "markdown",
   "metadata": {},
   "source": [
    "En este caso si se cumple la condición de que la variable temperatura contiene un valor entre 10 y 29, se pasa a considerar el valor de la variable distancia; si esta es menor o igual a 15, se muestra el mensaje _'Deberías ser amable con el medio ambiente e ir en bicicleta'_, en caso contrario, se muestra el mensaje _'El clima es agradable, pero la distancia es muy larga. Le recomiendo ir en auto'_. Por otro lado, si el valor de la variable temperatura no esta entre 10 y 29, se seguirá mostrando el mensaje _'La temperatura no es agradable, le recomiendo ir en auto'_. Lo mismo sucede con la última sentencia, la cual mostrará el mensaje _'Que tenga buen día!'_ independientemente del valor de las variables _temperatura_ y _distancia_\n",
    "\n",
    "## Estructuras repetitivas\n",
    "\n",
    "Ahora podemos dotar a nuestros programas de mayor complejidad, combinando y anidando las estructuras condicionales vistas la secuencia de ejecución puede ser muy variada. Sin embargo, aún tenemos una limitante, cada instrucción tendrá vida al momento de ser ejecutada e inmediamente después no se ejecutará más hasta que se el programa sea invocado nuevamente. \n",
    "\n",
    "Imaginemos que debemos consultar la pregunta de la temperatura a cientos de miles de personas, deberíamos ejecutar cientos de miles de veces el programa, iniciandolo y esperando su finalización para repetir el proceso una y otra vez. Se hace evidente la ausencia de una estructura que permita repetir cuantas veces se requiera una determinada acción, aquí es donde entran en acción las estructuras repeto"
   ]
  },
  {
   "cell_type": "markdown",
   "metadata": {},
   "source": [
    "### Sentencia *while*\n",
    "El *while* permite repetir una serie de acciones mientras que una determinada expresión (o condición) se cumpla, en caso contrario, se finaliza la repetición. \n",
    "\n",
    "Una expresión se cumple cuando arroja un resultado verdadero, que en Python es ```True```. La estructura del *while* es la siguiente:\n",
    "\n",
    "```python\n",
    "while <expresion>\n",
    "    accion1\n",
    "    accion2\n",
    "    ...\n",
    "    accionN\n",
    "```\n",
    "\n",
    "Tal como se explicó previamente, las acciones que se repiten en cada iteración son aquellas que tienen sangría, lo que indica que son partes del ciclo *while*.\n",
    "\n",
    "#### Bucles condicionales\n",
    "\n",
    "Veamos un ejemplo donde se le pregunte el valor de temperatura a 5 personas y sugiera ir caminando si el clima es agradable (mayor a 16°C) o en caso contrario en vehículo. Tomemos una estrategia para resolver el problema:\n",
    "\n",
    "1. Leemos una temperatura que se ingresa por teclado\n",
    "2. Escribimos en pantalla un mensaje según la temperatura\n",
    "3. Repetir los dos pasos previos un total de cinco veces\n",
    "\n",
    "\n",
    "**Pasos 1 y 2**\n",
    "\n",
    "```python\n",
    "temperatura = int(input('Ingrese la temperatura en ºC:'))\n",
    "if (temperatura > 16):\n",
    "    print('Vas caminando')\n",
    "else:\n",
    "    print('Mucho frío, en vehículo')\n",
    "```\n",
    "\n",
    "**Paso 3**\n",
    "\n",
    "Debemos englobar los pasos previos en una estructura que repita 5 veces. Pensemos lo anterior como un único bloque denominado *Pasos1y2*, y una manera de controlar cinco repeticiones. Para ésto, usamos una variable con un valor inicial conocido (1) que incrementamos en una unidad luego de cada ejecución del bloque que denominamos *Pasos1y2*. La estructura de nuestro programa podría ser la siguiente:\n",
    "\n",
    "```python\n",
    "vez = 1\n",
    "while vez <= 5:\n",
    "    Pasos1y2\n",
    "    vez = vez + 1\n",
    "```\n",
    "\n",
    "Ahora bien, cuando finaliza la ejecución de la instrucción `vez = vez + 1` la estructura iterativa evalúa nuevamente la expresión `vez <= 5` cuyo resultado puede ser cierto o no (`True` o `False`). Si el resultado es `True`, entonces el ciclo continuará con las acciones contenidas, re-evaluando la expresión en cada itereación y finalizando cuando sea `False`, es decir, cuando la variable `vez` ya no sea menor o igual que 5.\n",
    "\n",
    "Ahora que ya hemos desmenuzado el inofensivo código previo, podemos pasar a la versión final del pequeño programa."
   ]
  },
  {
   "cell_type": "code",
   "execution_count": 3,
   "metadata": {
    "collapsed": false
   },
   "outputs": [
    {
     "name": "stdout",
     "output_type": "stream",
     "text": [
      "Ingrese la temperatura en ºC:12\n",
      "Mucho frío, en vehículo\n",
      "Ingrese la temperatura en ºC:16\n",
      "Mucho frío, en vehículo\n",
      "Ingrese la temperatura en ºC:17\n",
      "Vas caminando\n",
      "Ingrese la temperatura en ºC:18\n",
      "Vas caminando\n",
      "Ingrese la temperatura en ºC:20\n",
      "Vas caminando\n"
     ]
    }
   ],
   "source": [
    "vez = 1\n",
    "while vez <= 5:\n",
    "    temperatura = int(input('Ingrese la temperatura en ºC:'))\n",
    "    if (temperatura > 16):\n",
    "        print('Vas caminando')\n",
    "    else:\n",
    "        print('Mucho frío, en vehículo')\n",
    "    vez = vez + 1"
   ]
  },
  {
   "cell_type": "markdown",
   "metadata": {},
   "source": [
    "Este tipo de bucle, donde la cantidad de iteraciones depende de una condición es denominado como **bucles o lazos condicionales** y cuenta con dos características destacables:\n",
    "\n",
    "- El valor a ser evaluado en la expresión debe estar definido\n",
    "- En cada iteración el valor a ser evaluado en la expresión debe modificarse \n",
    "\n",
    "El primer item evita obtener un mensaje de error, ya que no es posible evaluar en una expresión con un valor que aún no ha sido definido, es decir, que no tiene asignado algún valor válido.\n",
    "\n",
    "La segunda característica evita tener un **bucle infinito** y por ende un programa que nunca finalice. Este tipo de errores es más difícil de detectar, ya que a priori el ejemplo parecería correcto. \n",
    "\n",
    "#### Bucles interactivos\n",
    "\n",
    "Otro tipo bucle para el que la estructura *while* se adapta fácilmente es aquellos donde la repetición depende de un valor que ingresa el usuario, es decir, para aquellos programas donde la condición de corte o repetición sea interactiva. Veamos un ejemplo en el que se calcula el promedio a partir del ingreso por parte del usuario de valores numéricos enteros.\n",
    "\n",
    "Pensemos una posible estrategia para su solución: el programa le solicitará ingresar un nuevo valor numérico mientras que el usuario ingrese *si*, a su vez deberá ir sumando estos valores y contándolos. Veamos el pseudocódigo del algoritmo mencionado:\n",
    "\n",
    "```\n",
    "Inicializar variable suma pasa sumar los números\n",
    "Inicializar variable cant para contar los números\n",
    "Inicializar variable mas_datos donde se almacenará la respuesta del usuario (si/no)\n",
    "Mientras la variable mas_datos sea si:\n",
    "    Leer en x el nuevo valor numérico\n",
    "    Sumarlo a la variable suma\n",
    "    Contarlo\n",
    "    Pregutar al usuario si sigue ingresando números\n",
    "Mostrar en pantalla el promedio\n",
    "```\n",
    "\n",
    "Ahora veamos lo directa que es la traducción del algoritmo al lenguaje Python:"
   ]
  },
  {
   "cell_type": "code",
   "execution_count": 2,
   "metadata": {
    "collapsed": false
   },
   "outputs": [
    {
     "name": "stdout",
     "output_type": "stream",
     "text": [
      "Ingrese valor12\n",
      "¿Mas valores (si/no)?si\n",
      "Ingrese valor3\n",
      "¿Mas valores (si/no)?si\n",
      "Ingrese valor44\n",
      "¿Mas valores (si/no)?no\n",
      "El promedio de valores es 19.666666666666668\n"
     ]
    }
   ],
   "source": [
    "suma = 0.0\n",
    "cant = 0\n",
    "mas_datos = 'si'\n",
    "while mas_datos == 'si':\n",
    "    x = int(input('Ingrese valor'))\n",
    "    suma = suma + x\n",
    "    cant = cant + 1\n",
    "    mas_datos = input('¿Mas valores (si/no)?')\n",
    "print('El promedio de valores es', suma/cant)"
   ]
  },
  {
   "cell_type": "markdown",
   "metadata": {},
   "source": [
    "La limitación que encontramos está dada por la incomodidad de tener que ingresar dos valores por ciclo, uno para el dato numérico y otro para controlar si el usuario desea continuar o no. En ciertos casos puede ser la única alternativa, sin embargo, en otros se puede utilizar los bucles centinelas que se describen a continuación.\n",
    "\n",
    "#### Bucles centinelas\n",
    "\n",
    "Otro tipo de bucles denominados centinelas, son aquellos donde la condición de corte tiene que ver con un valor que se diferencia del patrón que se ingresará y, será útil para discernir el momento en que corresponda continuar o bien finalizar la repetición. \n",
    "\n",
    "Para el caso del cálculo del promedio, suponiendo que todos los valores serán siempre positivos podríamos tomar la estrategia de controlar que el valor ingresado sea mayor a cero para continuar la iteración. El pseudocódigo, sin detalles, sería similar al siguiente:\n",
    "\n",
    "```\n",
    "Leer en x el primer valor numérico\n",
    "Mientras el valor x no sea el centinela:\n",
    "    Sumarlo a la variable suma\n",
    "    Contarlo\n",
    "    Leer en x el nuevo valor numérico\n",
    "Mostrar en pantalla el promedio\n",
    "```\n",
    "\n",
    "Veamos la implementación del amigable programa en Python:"
   ]
  },
  {
   "cell_type": "code",
   "execution_count": null,
   "metadata": {
    "collapsed": true
   },
   "outputs": [],
   "source": [
    "suma = 0.0\n",
    "cant = 0\n",
    "x = int(input('Ingrese valor (negativo para salir)'))\n",
    "while x > 0:\n",
    "    suma = suma + x\n",
    "    cant = cant + 1\n",
    "    x = int(input('Ingrese valor (negativo para salir)'))\n",
    "print('El promedio de valores es', suma/cant)"
   ]
  },
  {
   "cell_type": "markdown",
   "metadata": {},
   "source": [
    "Se debe ser cuidadoso en mantener exactamente el mismo mensaje previo a ingresar al ciclo y en la última instrucción para dar al usuario una idea de continuidad viendo una y otra vez el mismo comportamiento.\n",
    "\n",
    "Para el ejemplo expuesto, la limitación esta dada para aquellos casos donde se ingresen valores negativos para ser incluídos en el cálculo del promedio. Sin embargo, Python provee herramientas que permiten salvar este inconveniente. \n",
    "\n",
    "El problema consiste en:\n",
    "\n",
    "1. Solicitar al usuario ingrese el valor numérico o que presione *enter* para salir\n",
    "2. Evaluar en la expresión de corte para iterar mientras que el valor ingresado no sea vacío\n",
    "3. Realizar los cálculos"
   ]
  },
  {
   "cell_type": "code",
   "execution_count": 5,
   "metadata": {
    "collapsed": false
   },
   "outputs": [
    {
     "name": "stdout",
     "output_type": "stream",
     "text": [
      "Ingrese valor (<enter> para salir)12\n",
      "Ingrese valor (<enter> para salir)-2\n",
      "Ingrese valor (<enter> para salir)-3\n",
      "Ingrese valor (<enter> para salir)23\n",
      "Ingrese valor (<enter> para salir)2\n",
      "Ingrese valor (<enter> para salir)\n",
      "El promedio de valores es 6.4\n"
     ]
    }
   ],
   "source": [
    "suma = 0.0\n",
    "cant = 0\n",
    "x = input('Ingrese valor (<enter> para salir)')\n",
    "while x != '':\n",
    "    suma = suma + eval(x)\n",
    "    cant = cant + 1\n",
    "    x = input('Ingrese valor (<enter> para salir)')\n",
    "print('El promedio de valores es', suma/cant)"
   ]
  },
  {
   "cell_type": "markdown",
   "metadata": {},
   "source": [
    "El valor leído en *x* no se convierte en un número entero, sino que se lo mantiene como *str* hasta el momento de sumarlo a la variable *suma* utilizando la función *eval()*. Cuando el usuario presione enter el caracter en *x* será igual al caracter vacío y no ingresará al ciclo *while*.\n",
    "\n",
    "### Sentencia *for*\n",
    "\n",
    "La sentencia *for* provee otro modo de realizar bucles repetitivos en Python. Si bien la elección de un bucle u otro muchas veces dependerá del gusto o preferencia del programador, para ciertos casos suele ser más cómoda una estructura que otra. \n",
    "\n",
    "Veamos la sintaxis básica del bucle for:\n",
    "\n",
    "```python\n",
    "\n",
    "for <var> in <secuencia>:\n",
    "    accion1\n",
    "    accion2\n",
    "    ...\n",
    "    accionN\n",
    "```\n",
    "\n",
    "El *for* ejecuta el bloque de acciones tantas veces como elementos contenga la *secuencia*, y en cada iteración la variable *var* almacenará uno a uno sus valores.\n",
    "\n",
    "El significado de secuencia para Python puede variar desde cadenas de caracteres a listas de valores de tipos de datos ya vistos, simplifando la definición, podemos definir una secuencia como todo tipo o estructura de datos formada por elementos por los que se puede iterar. \n",
    "\n",
    "Veamos un ejemplo, donde mostramos los caracteres de una cadena."
   ]
  },
  {
   "cell_type": "code",
   "execution_count": 12,
   "metadata": {
    "collapsed": false
   },
   "outputs": [
    {
     "name": "stdout",
     "output_type": "stream",
     "text": [
      "e\n",
      "s\n",
      "t\n",
      "i\n",
      "m\n",
      "a\n",
      "d\n",
      "o\n",
      "s\n"
     ]
    }
   ],
   "source": [
    "palabra = 'estimados'\n",
    "for letra in palabra:\n",
    "    print(letra)"
   ]
  },
  {
   "cell_type": "markdown",
   "metadata": {},
   "source": [
    "Al analizar el ejemplo vemos que la variable *palabra* que contiene una **cadena de caracteres, funciona como una secuencia**, y la variable *letra* en cada iteración toma automáticamente el caracter subsiguiente.\n",
    "\n",
    "### Iteraciones sobre secuencias numéricas\n",
    "\n",
    "Para iterar sobre secuencias numéricas combinamos el uso del `for` con la función `range()`. Veamos un ejemplo de una iteración sobre 3 valores:"
   ]
  },
  {
   "cell_type": "code",
   "execution_count": 16,
   "metadata": {
    "collapsed": false
   },
   "outputs": [
    {
     "name": "stdout",
     "output_type": "stream",
     "text": [
      "0\n",
      "1\n",
      "2\n"
     ]
    }
   ],
   "source": [
    "for num in range(3):\n",
    "    print(num)"
   ]
  },
  {
   "cell_type": "markdown",
   "metadata": {},
   "source": [
    "Cuando utilizamos la función `range()` con un único argumento como dato, para el ejemplo previo el número 3, nos genera una secuencia de 3 valores, comenzando desde 0 y avanzando de a un valor, es decir, con paso 1. Sin embargo, podemos cambiar este comportamiento indicando el valor inicial y final haciendo `range(inicio,fin)`, por ejemplo, se se desea iterar por valores numéricos entre 10 y 14:"
   ]
  },
  {
   "cell_type": "code",
   "execution_count": 20,
   "metadata": {
    "collapsed": false
   },
   "outputs": [
    {
     "name": "stdout",
     "output_type": "stream",
     "text": [
      "10\n",
      "11\n",
      "12\n",
      "13\n"
     ]
    }
   ],
   "source": [
    "for num in range(10,14):\n",
    "    print(num)"
   ]
  },
  {
   "cell_type": "markdown",
   "metadata": {},
   "source": [
    "Se debe notar que el valor final no es alcanzado en la iteración. También es posible indicarle el paso del incremento, como se deduce del ejemplo previo, al indicar solamente el valor inicial y final, se da por sentado que el incremento es de 1, cambiemos este comportamiento utilizando `range(inicio, fin, paso)`:"
   ]
  },
  {
   "cell_type": "code",
   "execution_count": 22,
   "metadata": {
    "collapsed": false
   },
   "outputs": [
    {
     "name": "stdout",
     "output_type": "stream",
     "text": [
      "10\n",
      "12\n",
      "14\n",
      "16\n",
      "18\n"
     ]
    }
   ],
   "source": [
    "for num in range(10,19,2):\n",
    "    print(num)"
   ]
  },
  {
   "cell_type": "markdown",
   "metadata": {},
   "source": [
    "Otra posibilidad es recorrer una secuencia numérica en sentido sentido inverso, utilizando un incremento negativo y los valores de inicio y fin consistentes:"
   ]
  },
  {
   "cell_type": "code",
   "execution_count": 23,
   "metadata": {
    "collapsed": false
   },
   "outputs": [
    {
     "name": "stdout",
     "output_type": "stream",
     "text": [
      "19\n",
      "17\n",
      "15\n",
      "13\n",
      "11\n"
     ]
    }
   ],
   "source": [
    "for num in range(19,10,-2):\n",
    "    print(num)"
   ]
  },
  {
   "cell_type": "markdown",
   "metadata": {},
   "source": [
    "Del resultado previo queda en evidencia que se mantiene la coherencia respecto a excluir el último valor de la secuencia y a incluir el inicial.\n",
    "\n",
    "Veamos un ejemplo que resolvimos anteriormente utilizando el `while`, ahora usando `for`:\n",
    "\n",
    "```python\n",
    "for vez in range(5)\n",
    "    temperatura = int(input('Ingrese la temperatura en ºC:'))\n",
    "    if (temperatura > 16):\n",
    "        print('Vas caminando')\n",
    "    else:\n",
    "        print('Mucho frío, en vehículo')\n",
    "```\n",
    "\n",
    "Como vemos, nos despreocupamos de la inicialización de la variable *vez* y de controlar su incremento, ya que esto se realiza automáticamente, por lo que para ciclos que conocemos de antemano la cantidad de iteraciones suele ser más simple y directo que el `while`.\n",
    "\n",
    "La sentencia `for` en combinación con`range()` es un instrucción muy potente y flexible, más aún al ser combinadas con otro tipo de estructuras de datos como cadenas de caracteres y listas, que veremos en secciones posteriores."
   ]
  },
  {
   "cell_type": "markdown",
   "metadata": {},
   "source": [
    "## Estructura de datos *listas* y *diccionarios*\n",
    "\n",
    "### Listas\n",
    "\n",
    "Hasta aquí todo dato procesado, manipulado y operado ha sido almacenado en variables, sin embargo, existen otras estructuras más complejas y de gran utilidad denominadas listas. \n",
    "\n",
    "Una variable es un contenedor que almacena un determinado tipo de dato por vez y que es referenciado a partir del identificador que utilizamos en el programa. Cuando asignamos un valor a esta variable, lo que antes había almacenado se pierde ya que es sobreescrito por el nuevo valor. \n",
    "\n",
    "Una lista se identifica con un nombre al igual que una variable, sin embargo, puede contener una serie de datos de diverso tipo, y para referenciar a cada uno de ellos ya no basta con el identificador de la lista, sino que hace falta un número denominado índice que indique la posición del elemento al que hacemos referencia. "
   ]
  },
  {
   "cell_type": "code",
   "execution_count": 24,
   "metadata": {
    "collapsed": false
   },
   "outputs": [
    {
     "name": "stdout",
     "output_type": "stream",
     "text": [
      "12.2\n",
      "33.3\n",
      "12\n",
      "55\n"
     ]
    }
   ],
   "source": [
    "Ctemp = [12.2, 33.3, 12, 55]\n",
    "for t in temp:\n",
    "    print(t)\n",
    "    "
   ]
  },
  {
   "cell_type": "markdown",
   "metadata": {},
   "source": [
    "### Diccionarios\n",
    "\n",
    "## Manipulando textos con strings\n",
    "\n",
    "## Ejercicios\n",
    "\n",
    "1. Utilice una estructura repetitiva for para iterar sobre las letras de una palabra y encríptela reemplazando según lo siguiente: a->4, b->8, e->3, f->7, t->2, g->9, i->1, o->0."
   ]
  }
 ],
 "metadata": {
  "kernelspec": {
   "display_name": "Python 3",
   "language": "python",
   "name": "python3"
  },
  "language_info": {
   "codemirror_mode": {
    "name": "ipython",
    "version": 3
   },
   "file_extension": ".py",
   "mimetype": "text/x-python",
   "name": "python",
   "nbconvert_exporter": "python",
   "pygments_lexer": "ipython3",
   "version": "3.4.2"
  }
 },
 "nbformat": 4,
 "nbformat_minor": 0
}
