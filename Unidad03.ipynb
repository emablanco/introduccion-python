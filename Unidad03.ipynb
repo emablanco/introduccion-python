{
 "metadata": {
  "name": "",
  "signature": "sha256:04ea123d6b9c8870b57565dff2ce544cdbba057fe73de7861b55c6fa535d4e9c"
 },
 "nbformat": 3,
 "nbformat_minor": 0,
 "worksheets": [
  {
   "cells": [
    {
     "cell_type": "markdown",
     "metadata": {},
     "source": [
      "# M\u00e1s estructuras de datos y control\n",
      "\n",
      "## Listas\n",
      "\n",
      "## for\n",
      "\n",
      "## Manipulando textos con strings"
     ]
    }
   ],
   "metadata": {}
  }
 ]
}